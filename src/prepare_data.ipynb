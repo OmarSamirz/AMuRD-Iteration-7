{
 "cells": [
  {
   "cell_type": "markdown",
   "id": "e262c5fc",
   "metadata": {},
   "source": [
    "# Import packages"
   ]
  },
  {
   "cell_type": "code",
   "execution_count": null,
   "id": "5cff14ac",
   "metadata": {},
   "outputs": [],
   "source": [
    "import pandas as pd\n",
    "from teradataml import *\n",
    "\n",
    "from modules.db import TeradataDatabase\n",
    "from utils import clean_text, load_embedding_model\n",
    "from constants import TEST_DATA_PATH, CLASS_EMBEDDINGS_PATH, PRODUCT_TEST_EMBEDDINGS_PATH\n",
    "from modules.models import SentenceEmbeddingModel, SentenceEmbeddingConfig"
   ]
  },
  {
   "cell_type": "markdown",
   "id": "b2b3aa3e",
   "metadata": {},
   "source": [
    "## Connect to database"
   ]
  },
  {
   "cell_type": "code",
   "execution_count": null,
   "id": "b5a80968",
   "metadata": {},
   "outputs": [],
   "source": [
    "td_db = TeradataDatabase()\n",
    "td_db.connect()"
   ]
  },
  {
   "cell_type": "markdown",
   "id": "2b044c27",
   "metadata": {},
   "source": [
    "## Load data to database"
   ]
  },
  {
   "cell_type": "code",
   "execution_count": null,
   "id": "43a42a44",
   "metadata": {},
   "outputs": [],
   "source": [
    "df = pd.read_csv(TEST_DATA_PATH)\n",
    "df.head()"
   ]
  },
  {
   "cell_type": "code",
   "execution_count": null,
   "id": "6a00ee2d",
   "metadata": {},
   "outputs": [],
   "source": [
    "df = df[[\"Item_Name\", \"Brand\"]]\n",
    "df.rename(columns={\"Item_Name\": \"product_name\", \"Brand\": \"brand_name\"}, inplace=True)"
   ]
  },
  {
   "cell_type": "code",
   "execution_count": null,
   "id": "5515fc25",
   "metadata": {},
   "outputs": [],
   "source": [
    "df.drop_duplicates(subset=[\"product_name\"], inplace=True)\n",
    "df.dropna(subset=[\"product_name\"], inplace=True)\n",
    "df"
   ]
  },
  {
   "cell_type": "code",
   "execution_count": null,
   "id": "77b21e24",
   "metadata": {},
   "outputs": [],
   "source": [
    "df[\"brand_name\"] = df[\"brand_name\"].astype(str)"
   ]
  },
  {
   "cell_type": "code",
   "execution_count": null,
   "id": "a1092c2a",
   "metadata": {},
   "outputs": [],
   "source": [
    "tdf = DataFrame(df)"
   ]
  },
  {
   "cell_type": "code",
   "execution_count": null,
   "id": "ca482ab8",
   "metadata": {},
   "outputs": [],
   "source": [
    "tdf = tdf.assign(product_id=tdf.index_label)\n",
    "tdf = tdf.drop(columns=[\"index_label\"])\n",
    "tdf"
   ]
  },
  {
   "cell_type": "code",
   "execution_count": null,
   "id": "415bf272",
   "metadata": {},
   "outputs": [],
   "source": [
    "tdf = tdf.select([\"product_id\", \"product_name\", \"brand_name\"])\n",
    "tdf"
   ]
  },
  {
   "cell_type": "code",
   "execution_count": null,
   "id": "2cb70c9d",
   "metadata": {},
   "outputs": [],
   "source": [
    "copy_to_sql(tdf, \"products\", \"amurd\", if_exists=\"replace\")"
   ]
  },
  {
   "cell_type": "markdown",
   "id": "a73aaf3b",
   "metadata": {},
   "source": [
    "## Load table from database"
   ]
  },
  {
   "cell_type": "code",
   "execution_count": null,
   "id": "71c01ebe",
   "metadata": {},
   "outputs": [],
   "source": [
    "\",\\n \".join([f\"dim_{i} FLOAT\" for i in range(1024)])"
   ]
  },
  {
   "cell_type": "code",
   "execution_count": null,
   "id": "042734e9",
   "metadata": {},
   "outputs": [],
   "source": [
    "query = f\"\"\"\n",
    "CREATE MULTISET TABLE amurd.p_embeddings (\n",
    "    product_id INTEGER NOT NULL,\n",
    "    {\",\\n \".join([f\"dim_{i} FLOAT\" for i in range(1024)])}\n",
    ") PRIMARY INDEX (product_id);\n",
    "\"\"\""
   ]
  },
  {
   "cell_type": "code",
   "execution_count": null,
   "id": "c3928e4a",
   "metadata": {},
   "outputs": [],
   "source": [
    "tdf = td_db.execute_query(query)"
   ]
  },
  {
   "cell_type": "code",
   "execution_count": null,
   "id": "fd75d481",
   "metadata": {},
   "outputs": [],
   "source": [
    "df = pd.read_csv(PRODUCT_TEST_EMBEDDINGS_PATH)"
   ]
  },
  {
   "cell_type": "code",
   "execution_count": null,
   "id": "d3e15674",
   "metadata": {},
   "outputs": [],
   "source": [
    "df['embeddings'].iloc[5]"
   ]
  },
  {
   "cell_type": "code",
   "execution_count": null,
   "id": "e5512bc8",
   "metadata": {},
   "outputs": [],
   "source": [
    "l = json.loads(df.iloc[0, 1])\n",
    "l = [str(embed) for embed in l]\n",
    "l"
   ]
  },
  {
   "cell_type": "code",
   "execution_count": null,
   "id": "ae03bdfc",
   "metadata": {},
   "outputs": [],
   "source": [
    "import json\n",
    "# for row in df.iterrows():\n",
    "#     id = row[0]\n",
    "#     embeddings = row[1]\n",
    "#     print(id, embeddings)\n",
    "#     break\n",
    "queries = \"\"\n",
    "for i in range(1):\n",
    "    id = df.iloc[i, 0]\n",
    "    embeddings = json.loads(df.iloc[i, 1])\n",
    "    embeddings = [str(embed) for embed in embeddings]\n",
    "    for j in embeddings:\n",
    "        queries += f\"\"\"\n",
    "    INSERT INTO amurd.p_embeddings columns VALUES ({id}, {float(j)});\\n\n",
    "\"\"\""
   ]
  },
  {
   "cell_type": "code",
   "execution_count": null,
   "id": "463324e2",
   "metadata": {},
   "outputs": [],
   "source": [
    "print(queries)"
   ]
  },
  {
   "cell_type": "code",
   "execution_count": null,
   "id": "b74759ee",
   "metadata": {},
   "outputs": [],
   "source": [
    "tdf = td_db.execute_query(print(queries))"
   ]
  },
  {
   "cell_type": "code",
   "execution_count": null,
   "id": "ca43e373",
   "metadata": {},
   "outputs": [],
   "source": [
    "query = f\"\"\"\n",
    "CREATE MULTISET TABLE amurd.c_embeddings (\n",
    "    class_id INTEGER NOT NULL,\n",
    "    {\",\\n \".join([f\"dim_{i} FLOAT\" for i in range(1024)])}\n",
    ") PRIMARY INDEX (class_id);\n",
    "\"\"\""
   ]
  },
  {
   "cell_type": "code",
   "execution_count": null,
   "id": "e3441937",
   "metadata": {},
   "outputs": [],
   "source": [
    "tdf = td_db.execute_query(print(query))"
   ]
  },
  {
   "cell_type": "code",
   "execution_count": null,
   "id": "31f85ded",
   "metadata": {},
   "outputs": [],
   "source": [
    "df = pd.read_csv(CLASS_EMBEDDINGS_PATH)"
   ]
  },
  {
   "cell_type": "code",
   "execution_count": null,
   "id": "63b60530",
   "metadata": {},
   "outputs": [],
   "source": [
    "queries = \"\"\n",
    "for i in range(1):\n",
    "    id = df.iloc[i, 0]\n",
    "    embeddings = json.loads(df.iloc[i, 1])\n",
    "    embeddings = [str(embed) for embed in embeddings]\n",
    "    for j in embeddings:\n",
    "        queries += f\"\"\"\n",
    "    INSERT INTO amurd.p_embeddings columns VALUES ({id}, {float(j)});\\n\n",
    "\"\"\""
   ]
  },
  {
   "cell_type": "code",
   "execution_count": null,
   "id": "252c6a17",
   "metadata": {},
   "outputs": [],
   "source": [
    "tdf = td_db.execute_query(print(queries))"
   ]
  },
  {
   "cell_type": "markdown",
   "id": "ab70901a",
   "metadata": {},
   "source": [
    "## Disconnect"
   ]
  },
  {
   "cell_type": "code",
   "execution_count": null,
   "id": "d99b60f7",
   "metadata": {},
   "outputs": [],
   "source": [
    "td_db.disconnect()"
   ]
  },
  {
   "cell_type": "code",
   "execution_count": null,
   "id": "65a6c0ee",
   "metadata": {},
   "outputs": [],
   "source": []
  }
 ],
 "metadata": {
  "kernelspec": {
   "display_name": "Python 3",
   "language": "python",
   "name": "python3"
  },
  "language_info": {
   "codemirror_mode": {
    "name": "ipython",
    "version": 3
   },
   "file_extension": ".py",
   "mimetype": "text/x-python",
   "name": "python",
   "nbconvert_exporter": "python",
   "pygments_lexer": "ipython3",
   "version": "3.13.5"
  }
 },
 "nbformat": 4,
 "nbformat_minor": 5
}
