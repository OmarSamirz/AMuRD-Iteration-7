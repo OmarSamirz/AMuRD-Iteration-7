{
 "cells": [
  {
   "cell_type": "markdown",
   "id": "e262c5fc",
   "metadata": {},
   "source": [
    "# Import packages"
   ]
  },
  {
   "cell_type": "code",
   "execution_count": 1,
   "id": "5cff14ac",
   "metadata": {},
   "outputs": [
    {
     "name": "stdout",
     "output_type": "stream",
     "text": [
      "Warning: Could not clean log directory: [WinError 5] Access is denied: 'logs'\n",
      "Logger initialized. All logs will be saved to: c:\\Users\\ss255385\\OneDrive - Teradata Corporation\\Desktop\\AMuRD-Iteration-7\\src\\logs\\borai_20250818_133627.log\n"
     ]
    }
   ],
   "source": [
    "import pandas as pd\n",
    "from teradataml import *\n",
    "import teradatasql\n",
    "import ast\n",
    "from teradataml.dataframe.copy_to import copy_to_sql\n",
    "\n",
    "from modules.db import TeradataDatabase\n",
    "from utils import clean_text, load_embedding_model\n",
    "from constants import CLEANED_TEST_DATA_PATH, CLASS_EMBEDDINGS_PATH, PRODUCT_TEST_EMBEDDINGS_PATH, CLEANED_GPC_PATH, CLEANED_TEST_DATA_PATH, TEST_DATA_PATH\n",
    "from modules.models import SentenceEmbeddingModel, SentenceEmbeddingConfig"
   ]
  },
  {
   "cell_type": "markdown",
   "id": "b2b3aa3e",
   "metadata": {},
   "source": [
    "## Connect to database"
   ]
  },
  {
   "cell_type": "code",
   "execution_count": 2,
   "id": "b5a80968",
   "metadata": {},
   "outputs": [],
   "source": [
    "td_db = TeradataDatabase()\n",
    "td_db.connect()"
   ]
  },
  {
   "cell_type": "markdown",
   "id": "2b044c27",
   "metadata": {},
   "source": [
    "### Insert Product Names in DB"
   ]
  },
  {
   "cell_type": "code",
   "execution_count": 3,
   "id": "43a42a44",
   "metadata": {},
   "outputs": [
    {
     "data": {
      "text/html": [
       "<div>\n",
       "<style scoped>\n",
       "    .dataframe tbody tr th:only-of-type {\n",
       "        vertical-align: middle;\n",
       "    }\n",
       "\n",
       "    .dataframe tbody tr th {\n",
       "        vertical-align: top;\n",
       "    }\n",
       "\n",
       "    .dataframe thead th {\n",
       "        text-align: right;\n",
       "    }\n",
       "</style>\n",
       "<table border=\"1\" class=\"dataframe\">\n",
       "  <thead>\n",
       "    <tr style=\"text-align: right;\">\n",
       "      <th></th>\n",
       "      <th>id</th>\n",
       "      <th>Item_Name</th>\n",
       "      <th>translated_text</th>\n",
       "      <th>cleaned_text</th>\n",
       "    </tr>\n",
       "  </thead>\n",
       "  <tbody>\n",
       "    <tr>\n",
       "      <th>0</th>\n",
       "      <td>0</td>\n",
       "      <td>Americana Okra zero 400 gm</td>\n",
       "      <td>Americana Okra zero 400 gm</td>\n",
       "      <td>americana okra zero gm</td>\n",
       "    </tr>\n",
       "    <tr>\n",
       "      <th>1</th>\n",
       "      <td>1</td>\n",
       "      <td>ليمون اداليا 500 جم</td>\n",
       "      <td>Lemon Adalia 500 gm</td>\n",
       "      <td>lemon adalia gm</td>\n",
       "    </tr>\n",
       "    <tr>\n",
       "      <th>2</th>\n",
       "      <td>2</td>\n",
       "      <td>صلصه هاينز برطمان خصم عرض</td>\n",
       "      <td>Heinz Bartman Sauce Discount Offer</td>\n",
       "      <td>heinz bartman sauce discount offer</td>\n",
       "    </tr>\n",
       "    <tr>\n",
       "      <th>3</th>\n",
       "      <td>3</td>\n",
       "      <td>Dasani water 330ML</td>\n",
       "      <td>Dasani water 330ML</td>\n",
       "      <td>dasani water ml</td>\n",
       "    </tr>\n",
       "    <tr>\n",
       "      <th>4</th>\n",
       "      <td>4</td>\n",
       "      <td>بودرة عصير أناناس من سورس، 900 جم</td>\n",
       "      <td>Soros Pineapple Juice Powder, 900g</td>\n",
       "      <td>soros pineapple juice powder g</td>\n",
       "    </tr>\n",
       "  </tbody>\n",
       "</table>\n",
       "</div>"
      ],
      "text/plain": [
       "   id                          Item_Name                     translated_text  \\\n",
       "0   0         Americana Okra zero 400 gm          Americana Okra zero 400 gm   \n",
       "1   1                ليمون اداليا 500 جم                 Lemon Adalia 500 gm   \n",
       "2   2          صلصه هاينز برطمان خصم عرض  Heinz Bartman Sauce Discount Offer   \n",
       "3   3                 Dasani water 330ML                  Dasani water 330ML   \n",
       "4   4  بودرة عصير أناناس من سورس، 900 جم  Soros Pineapple Juice Powder, 900g   \n",
       "\n",
       "                         cleaned_text  \n",
       "0              americana okra zero gm  \n",
       "1                     lemon adalia gm  \n",
       "2  heinz bartman sauce discount offer  \n",
       "3                     dasani water ml  \n",
       "4      soros pineapple juice powder g  "
      ]
     },
     "execution_count": 3,
     "metadata": {},
     "output_type": "execute_result"
    }
   ],
   "source": [
    "df = pd.read_csv(CLEANED_TEST_DATA_PATH)\n",
    "df.head()"
   ]
  },
  {
   "cell_type": "code",
   "execution_count": 4,
   "id": "6a00ee2d",
   "metadata": {},
   "outputs": [],
   "source": [
    "df.rename(columns={\"Item_Name\": \"product_name\"}, inplace=True)"
   ]
  },
  {
   "cell_type": "code",
   "execution_count": 5,
   "id": "5515fc25",
   "metadata": {},
   "outputs": [],
   "source": [
    "df.drop_duplicates(subset=[\"product_name\"], inplace=True)\n",
    "df.dropna(subset=[\"product_name\"], inplace=True)\n",
    "df = df[[\"id\" , \"product_name\"]]"
   ]
  },
  {
   "cell_type": "code",
   "execution_count": null,
   "id": "c88411f0",
   "metadata": {},
   "outputs": [],
   "source": [
    "copy_to_sql(df, \"products\", \"demo_user\", if_exists=\"replace\")"
   ]
  },
  {
   "cell_type": "markdown",
   "id": "695423f4",
   "metadata": {},
   "source": [
    "### Insert Class Names in DB"
   ]
  },
  {
   "cell_type": "code",
   "execution_count": 10,
   "id": "c9783e58",
   "metadata": {},
   "outputs": [
    {
     "data": {
      "text/html": [
       "<div>\n",
       "<style scoped>\n",
       "    .dataframe tbody tr th:only-of-type {\n",
       "        vertical-align: middle;\n",
       "    }\n",
       "\n",
       "    .dataframe tbody tr th {\n",
       "        vertical-align: top;\n",
       "    }\n",
       "\n",
       "    .dataframe thead th {\n",
       "        text-align: right;\n",
       "    }\n",
       "</style>\n",
       "<table border=\"1\" class=\"dataframe\">\n",
       "  <thead>\n",
       "    <tr style=\"text-align: right;\">\n",
       "      <th></th>\n",
       "      <th>Item_Name</th>\n",
       "      <th>class</th>\n",
       "      <th>Brand</th>\n",
       "      <th>Weight</th>\n",
       "      <th>Number of units</th>\n",
       "      <th>Size of units</th>\n",
       "      <th>Price</th>\n",
       "      <th>T.Price</th>\n",
       "      <th>Pack</th>\n",
       "      <th>Unit</th>\n",
       "    </tr>\n",
       "  </thead>\n",
       "  <tbody>\n",
       "    <tr>\n",
       "      <th>0</th>\n",
       "      <td>Americana Okra zero 400 gm</td>\n",
       "      <td>Vegetables &amp; Fruits</td>\n",
       "      <td>Americana</td>\n",
       "      <td>400gm</td>\n",
       "      <td>1</td>\n",
       "      <td>NaN</td>\n",
       "      <td>NaN</td>\n",
       "      <td>NaN</td>\n",
       "      <td>كيس</td>\n",
       "      <td>gm</td>\n",
       "    </tr>\n",
       "    <tr>\n",
       "      <th>1</th>\n",
       "      <td>ليمون اداليا 500 جم</td>\n",
       "      <td>Tins, Jars &amp; Packets</td>\n",
       "      <td>NaN</td>\n",
       "      <td>500جم</td>\n",
       "      <td>1</td>\n",
       "      <td>NaN</td>\n",
       "      <td>NaN</td>\n",
       "      <td>NaN</td>\n",
       "      <td>علبة</td>\n",
       "      <td>جم</td>\n",
       "    </tr>\n",
       "    <tr>\n",
       "      <th>2</th>\n",
       "      <td>صلصه هاينز برطمان خصم عرض</td>\n",
       "      <td>Tins, Jars &amp; Packets</td>\n",
       "      <td>هاينز</td>\n",
       "      <td>NaN</td>\n",
       "      <td>1</td>\n",
       "      <td>NaN</td>\n",
       "      <td>NaN</td>\n",
       "      <td>NaN</td>\n",
       "      <td>علبة</td>\n",
       "      <td>NaN</td>\n",
       "    </tr>\n",
       "    <tr>\n",
       "      <th>3</th>\n",
       "      <td>Dasani water 330ML</td>\n",
       "      <td>Water</td>\n",
       "      <td>Dasani</td>\n",
       "      <td>330مل</td>\n",
       "      <td>1</td>\n",
       "      <td>NaN</td>\n",
       "      <td>NaN</td>\n",
       "      <td>NaN</td>\n",
       "      <td>زجاجة</td>\n",
       "      <td>مل</td>\n",
       "    </tr>\n",
       "    <tr>\n",
       "      <th>4</th>\n",
       "      <td>بودرة عصير أناناس من سورس، 900 جم</td>\n",
       "      <td>Soft Drinks &amp; Juices</td>\n",
       "      <td>سورس</td>\n",
       "      <td>900جم</td>\n",
       "      <td>1</td>\n",
       "      <td>NaN</td>\n",
       "      <td>NaN</td>\n",
       "      <td>NaN</td>\n",
       "      <td>عبوة</td>\n",
       "      <td>جم</td>\n",
       "    </tr>\n",
       "  </tbody>\n",
       "</table>\n",
       "</div>"
      ],
      "text/plain": [
       "                           Item_Name                 class      Brand Weight  \\\n",
       "0         Americana Okra zero 400 gm   Vegetables & Fruits  Americana  400gm   \n",
       "1                ليمون اداليا 500 جم  Tins, Jars & Packets        NaN  500جم   \n",
       "2          صلصه هاينز برطمان خصم عرض  Tins, Jars & Packets      هاينز    NaN   \n",
       "3                 Dasani water 330ML                 Water     Dasani  330مل   \n",
       "4  بودرة عصير أناناس من سورس، 900 جم  Soft Drinks & Juices       سورس  900جم   \n",
       "\n",
       "   Number of units Size of units  Price  T.Price   Pack Unit  \n",
       "0                1           NaN    NaN      NaN    كيس   gm  \n",
       "1                1           NaN    NaN      NaN   علبة   جم  \n",
       "2                1           NaN    NaN      NaN   علبة  NaN  \n",
       "3                1           NaN    NaN      NaN  زجاجة   مل  \n",
       "4                1           NaN    NaN      NaN   عبوة   جم  "
      ]
     },
     "execution_count": 10,
     "metadata": {},
     "output_type": "execute_result"
    }
   ],
   "source": [
    "df = pd.read_csv(TEST_DATA_PATH)\n",
    "df.head()"
   ]
  },
  {
   "cell_type": "code",
   "execution_count": 17,
   "id": "825bf8ca",
   "metadata": {},
   "outputs": [],
   "source": [
    "df_class = df[\"class\"].dropna().unique()\n",
    "# df = df.reset_index(drop=False) \n",
    "# df.rename(columns={'index': 'id'}, inplace=True)\n",
    "df = pd.DataFrame({\"class\": df_class})"
   ]
  },
  {
   "cell_type": "code",
   "execution_count": 18,
   "id": "769ae87c",
   "metadata": {},
   "outputs": [],
   "source": [
    "df[\"id\"]= df.index\n",
    "df = df[[\"id\", \"class\"]]"
   ]
  },
  {
   "cell_type": "code",
   "execution_count": 19,
   "id": "ac791227",
   "metadata": {},
   "outputs": [],
   "source": [
    "copy_to_sql(df, \"classes\", \"demo_user\", if_exists=\"replace\")"
   ]
  },
  {
   "cell_type": "code",
   "execution_count": null,
   "id": "0f9e4750",
   "metadata": {},
   "outputs": [],
   "source": []
  },
  {
   "cell_type": "markdown",
   "id": "a73aaf3b",
   "metadata": {},
   "source": [
    "### Insert Product Embeddings in DB"
   ]
  },
  {
   "cell_type": "code",
   "execution_count": null,
   "id": "0bc9b971",
   "metadata": {},
   "outputs": [
    {
     "data": {
      "text/html": [
       "<div>\n",
       "<style scoped>\n",
       "    .dataframe tbody tr th:only-of-type {\n",
       "        vertical-align: middle;\n",
       "    }\n",
       "\n",
       "    .dataframe tbody tr th {\n",
       "        vertical-align: top;\n",
       "    }\n",
       "\n",
       "    .dataframe thead th {\n",
       "        text-align: right;\n",
       "    }\n",
       "</style>\n",
       "<table border=\"1\" class=\"dataframe\">\n",
       "  <thead>\n",
       "    <tr style=\"text-align: right;\">\n",
       "      <th></th>\n",
       "      <th>id</th>\n",
       "      <th>embeddings</th>\n",
       "    </tr>\n",
       "  </thead>\n",
       "  <tbody>\n",
       "    <tr>\n",
       "      <th>0</th>\n",
       "      <td>0</td>\n",
       "      <td>[0.0131988525390625, 0.0203704833984375, -0.00...</td>\n",
       "    </tr>\n",
       "    <tr>\n",
       "      <th>1</th>\n",
       "      <td>1</td>\n",
       "      <td>[0.0016574859619140625, 0.041656494140625, 0.0...</td>\n",
       "    </tr>\n",
       "    <tr>\n",
       "      <th>2</th>\n",
       "      <td>2</td>\n",
       "      <td>[0.0162811279296875, 0.018951416015625, -0.025...</td>\n",
       "    </tr>\n",
       "    <tr>\n",
       "      <th>3</th>\n",
       "      <td>3</td>\n",
       "      <td>[0.0190277099609375, 0.0229949951171875, -0.01...</td>\n",
       "    </tr>\n",
       "    <tr>\n",
       "      <th>4</th>\n",
       "      <td>4</td>\n",
       "      <td>[0.0226593017578125, 0.0291900634765625, -0.02...</td>\n",
       "    </tr>\n",
       "  </tbody>\n",
       "</table>\n",
       "</div>"
      ],
      "text/plain": [
       "   id                                         embeddings\n",
       "0   0  [0.0131988525390625, 0.0203704833984375, -0.00...\n",
       "1   1  [0.0016574859619140625, 0.041656494140625, 0.0...\n",
       "2   2  [0.0162811279296875, 0.018951416015625, -0.025...\n",
       "3   3  [0.0190277099609375, 0.0229949951171875, -0.01...\n",
       "4   4  [0.0226593017578125, 0.0291900634765625, -0.02..."
      ]
     },
     "execution_count": 20,
     "metadata": {},
     "output_type": "execute_result"
    }
   ],
   "source": [
    "df = pd.read_csv(PRODUCT_TEST_EMBEDDINGS_PATH)"
   ]
  },
  {
   "cell_type": "code",
   "execution_count": null,
   "id": "35db37d9",
   "metadata": {},
   "outputs": [],
   "source": [
    "df['embeddings'] = df['embeddings'].apply(ast.literal_eval)\n",
    "emb_cols = pd.DataFrame(df['embeddings'].tolist(), columns=[f'embed_{i}' for i in range(len(df['embeddings'][0]))])\n",
    "\n",
    "df_expanded = pd.concat([df[['id']], emb_cols], axis=1)"
   ]
  },
  {
   "cell_type": "code",
   "execution_count": 35,
   "id": "b38a7aaf",
   "metadata": {},
   "outputs": [],
   "source": [
    "copy_to_sql(df_expanded, \"p_embeddings\", \"demo_user\", if_exists=\"replace\")"
   ]
  },
  {
   "cell_type": "code",
   "execution_count": 39,
   "id": "85565790",
   "metadata": {},
   "outputs": [],
   "source": [
    "df_products = td_db.execute_query(\"Select * from demo_user.products\")\n",
    "df_products = DataFrame(df_products, False)"
   ]
  },
  {
   "cell_type": "code",
   "execution_count": 42,
   "id": "3ae14b2f",
   "metadata": {},
   "outputs": [
    {
     "data": {
      "application/vnd.jupyter.widget-view+json": {
       "model_id": "7449d65406c84a2c931c54c34b241163",
       "version_major": 2,
       "version_minor": 0
      },
      "text/plain": []
     },
     "metadata": {},
     "output_type": "display_data"
    },
    {
     "data": {
      "text/html": [
       "<style type=\"text/css\">\n",
       "\ttable { border:ridge 5px}\n",
       "\ttable td {border:inset 1px;}\n",
       "\ttable tr#HeaderRow {background-color:grey; color:white;}\n",
       "\t</style>\n",
       "<html><table style=\"min-width:1000px;\">\n",
       "\t<tr id=\"HeaderRow\">\n",
       "<th>id</th><th>product_name</th>\n",
       "</tr>\n",
       "\t<tr>\n",
       "\t\t<td>2</td>\n",
       "\t\t<td>صلصه هاينز برطمان خصم عرض</td>\n",
       "\t</tr>\n",
       "\t<tr>\n",
       "\t\t<td>4</td>\n",
       "\t\t<td>بودرة عصير أناناس من سورس، 900 جم</td>\n",
       "\t</tr>\n",
       "\t<tr>\n",
       "\t\t<td>5</td>\n",
       "\t\t<td>بسكو مصر لوكس 6 قطعه علبه 12</td>\n",
       "\t</tr>\n",
       "\t<tr>\n",
       "\t\t<td>6</td>\n",
       "\t\t<td>Anise  - 100g</td>\n",
       "\t</tr>\n",
       "\t<tr>\n",
       "\t\t<td>8</td>\n",
       "\t\t<td>مسحوق برسيل جيل باللافندر - 3.9 كجم</td>\n",
       "\t</tr>\n",
       "\t<tr>\n",
       "\t\t<td>9</td>\n",
       "\t\t<td>شكولاته الشمعدان بيور بندق</td>\n",
       "\t</tr>\n",
       "\t<tr>\n",
       "\t\t<td>7</td>\n",
       "\t\t<td>لوبيا بلدى - 500 جم</td>\n",
       "\t</tr>\n",
       "\t<tr>\n",
       "\t\t<td>3</td>\n",
       "\t\t<td>Dasani water 330ML</td>\n",
       "\t</tr>\n",
       "\t<tr>\n",
       "\t\t<td>1</td>\n",
       "\t\t<td>ليمون اداليا 500 جم</td>\n",
       "\t</tr>\n",
       "\t<tr>\n",
       "\t\t<td>0</td>\n",
       "\t\t<td>Americana Okra zero 400 gm</td>\n",
       "\t</tr>\n",
       "</table></html>"
      ],
      "text/plain": [
       "   id                         product_name\n",
       "0   2            صلصه هاينز برطمان خصم عرض\n",
       "1   4    بودرة عصير أناناس من سورس، 900 جم\n",
       "2   5         بسكو مصر لوكس 6 قطعه علبه 12\n",
       "3   6                        Anise  - 100g\n",
       "4   8  مسحوق برسيل جيل باللافندر - 3.9 كجم\n",
       "5   9           شكولاته الشمعدان بيور بندق\n",
       "6   7                  لوبيا بلدى - 500 جم\n",
       "7   3                   Dasani water 330ML\n",
       "8   1                  ليمون اداليا 500 جم\n",
       "9   0           Americana Okra zero 400 gm"
      ]
     },
     "execution_count": 42,
     "metadata": {},
     "output_type": "execute_result"
    }
   ],
   "source": [
    "df_products"
   ]
  },
  {
   "cell_type": "markdown",
   "id": "cba2a557",
   "metadata": {},
   "source": [
    "### Insert Class Embeddings in DB"
   ]
  },
  {
   "cell_type": "code",
   "execution_count": null,
   "id": "98c20ac2",
   "metadata": {},
   "outputs": [],
   "source": [
    "df = pd.read_csv(TEST_DATA_PATH)\n",
    "df.head()"
   ]
  },
  {
   "cell_type": "code",
   "execution_count": null,
   "id": "bf9be8e7",
   "metadata": {},
   "outputs": [],
   "source": [
    "df_class = df[\"class\"].dropna().unique()\n",
    "# df = df.reset_index(drop=False) \n",
    "# df.rename(columns={'index': 'id'}, inplace=True)\n",
    "df = pd.DataFrame({\"class\": df_class})"
   ]
  },
  {
   "cell_type": "code",
   "execution_count": 18,
   "id": "042734e9",
   "metadata": {},
   "outputs": [],
   "source": [
    "query = f\"\"\"\n",
    "CREATE MULTISET TABLE amurd.p_embeddings (\n",
    "    product_id INTEGER NOT NULL,\n",
    "    {\",\\n \".join([f\"dim_{i} FLOAT\" for i in range(1024)])}\n",
    ") PRIMARY INDEX (product_id);\n",
    "\"\"\""
   ]
  },
  {
   "cell_type": "code",
   "execution_count": 19,
   "id": "c3928e4a",
   "metadata": {},
   "outputs": [
    {
     "data": {
      "text/plain": [
       "[]"
      ]
     },
     "execution_count": 19,
     "metadata": {},
     "output_type": "execute_result"
    }
   ],
   "source": [
    "td_db.execute_query(query)"
   ]
  },
  {
   "cell_type": "code",
   "execution_count": 20,
   "id": "be3f48f8",
   "metadata": {},
   "outputs": [],
   "source": [
    "TABLE = \"amurd.p_embeddings\"\n",
    "CSV_FILE = \"full_embeddings.csv\"  #Temp CSV\n",
    "\n",
    "#Load and parse embeddings\n",
    "df = pd.read_csv(PRODUCT_TEST_EMBEDDINGS_PATH, encoding='utf-8')\n",
    "df['embedding'] = df['embeddings'].apply(lambda s: np.array(ast.literal_eval(s), dtype=np.float32))\n",
    "df = df.dropna(subset=['embedding'])  #Drop failed parses\n",
    "df['product_id'] = range(len(df))\n",
    "\n",
    "#Detect dim from first embedding\n",
    "dim = len(df['embedding'].iloc[0])\n",
    "\n",
    "#Expand embeddings to columns v1-v{dim}\n",
    "emb_df = pd.DataFrame(np.vstack(df['embedding']), columns=[f\"v{i}\" for i in range(1, dim + 1)])\n",
    "parquet_df = pd.concat([df[['product_id']], emb_df], axis=1)\n",
    "\n",
    "#Save expanded to temp CSV\n",
    "parquet_df.to_csv(CSV_FILE, index=False)"
   ]
  },
  {
   "cell_type": "code",
   "execution_count": null,
   "id": "ae03bdfc",
   "metadata": {},
   "outputs": [],
   "source": [
    "cols = [\"product_id\"] + [f\"dim_{i}\" for i in range(0, dim)]\n",
    "placeholders = \", \".join([\"?\"] * len(cols))\n",
    "\n",
    "q = f\"{{fn teradata_read_csv({CSV_FILE})}}INSERT INTO {TABLE} ({', '.join(cols)}) VALUES ({placeholders})\"\n",
    "tdf = td_db.execute_query(q)"
   ]
  },
  {
   "cell_type": "code",
   "execution_count": null,
   "id": "3beb013e",
   "metadata": {},
   "outputs": [],
   "source": [
    "tdf = td_db.execute_query(\"SELECT * FROM amurd.p_embeddings\")\n",
    "tdf = DataFrame(tdf, False)\n",
    "tdf"
   ]
  },
  {
   "cell_type": "code",
   "execution_count": null,
   "id": "ca43e373",
   "metadata": {},
   "outputs": [],
   "source": [
    "query = f\"\"\"\n",
    "CREATE MULTISET TABLE amurd.c_embeddings (\n",
    "    class_id INTEGER NOT NULL,\n",
    "    {\",\\n \".join([f\"dim_{i} FLOAT\" for i in range(1024)])}\n",
    ") PRIMARY INDEX (class_id);\n",
    "\"\"\""
   ]
  },
  {
   "cell_type": "code",
   "execution_count": null,
   "id": "e3441937",
   "metadata": {},
   "outputs": [],
   "source": [
    "td_db.execute_query(query)"
   ]
  },
  {
   "cell_type": "code",
   "execution_count": null,
   "id": "16986acb",
   "metadata": {},
   "outputs": [],
   "source": [
    "TABLE = \"amurd.c_embeddings\"\n",
    "CSV_FILE = \"full_embeddings.csv\"  #Temp CSV\n",
    "\n",
    "#Load and parse embeddings\n",
    "df = pd.read_csv(CLASS_EMBEDDINGS_PATH, encoding='utf-8')\n",
    "df['embedding'] = df['embeddings'].apply(lambda s: np.array(ast.literal_eval(s), dtype=np.float32))\n",
    "df = df.dropna(subset=['embedding'])  #Drop failed parses\n",
    "df['row_id'] = range(1, len(df) + 1)\n",
    "\n",
    "#Detect dim from first embedding\n",
    "dim = len(df['embedding'].iloc[0])\n",
    "\n",
    "#Expand embeddings to columns v1-v{dim}\n",
    "emb_df = pd.DataFrame(np.vstack(df['embedding']), columns=[f\"v{i}\" for i in range(1, dim + 1)])\n",
    "parquet_df = pd.concat([df[['row_id']], emb_df], axis=1)\n",
    "\n",
    "#Save expanded to temp CSV\n",
    "parquet_df.to_csv(CSV_FILE, index=False)"
   ]
  },
  {
   "cell_type": "code",
   "execution_count": null,
   "id": "5ea2987d",
   "metadata": {},
   "outputs": [],
   "source": [
    "cols = [\"row_id\"] + [f\"v{i}\" for i in range(1, dim + 1)]\n",
    "placeholders = \", \".join([\"?\"] * len(cols))\n",
    "\n",
    "\n",
    "q = f\"{{fn teradata_read_csv({CSV_FILE})}}INSERT INTO {TABLE} ({', '.join(cols)}) VALUES ({placeholders})\"\n",
    "tdf = td_db.execute_query(q)"
   ]
  },
  {
   "cell_type": "code",
   "execution_count": null,
   "id": "63b60530",
   "metadata": {},
   "outputs": [],
   "source": [
    "tdf = td_db.execute_query(\"SELECT COUNT(*) FROM amurd.c_embeddings\")\n",
    "tdf = DataFrame(tdf, False)\n",
    "tdf"
   ]
  },
  {
   "cell_type": "markdown",
   "id": "778142fc",
   "metadata": {},
   "source": [
    "## IN-DB Similiraty"
   ]
  },
  {
   "cell_type": "code",
   "execution_count": null,
   "id": "e66741fa",
   "metadata": {},
   "outputs": [],
   "source": [
    "RESULT_TABLE = \"amurd.similiratiy_score\""
   ]
  },
  {
   "cell_type": "code",
   "execution_count": null,
   "id": "9fbb8344",
   "metadata": {},
   "outputs": [],
   "source": [
    "# Create the result table\n",
    "q = f\"\"\"\n",
    "    CREATE TABLE {RESULT_TABLE} (\n",
    "        item_id BIGINT,\n",
    "        closest_category_id BIGINT,\n",
    "        cosine_distance FLOAT\n",
    "    );\n",
    "    \"\"\""
   ]
  },
  {
   "cell_type": "code",
   "execution_count": null,
   "id": "330e2e19",
   "metadata": {},
   "outputs": [],
   "source": [
    "td_db.execute_query(q)"
   ]
  },
  {
   "cell_type": "code",
   "execution_count": null,
   "id": "780dcb6a",
   "metadata": {},
   "outputs": [],
   "source": [
    "# Generate the string of vector columns for 1024 dimensions\n",
    "vector_cols = \", \".join([f\"v{i}\" for i in range(1, 1024 + 1)])\n",
    "\n",
    "# Generate the quoted string for feature columns\n",
    "vector_cols_quoted = \", \".join([f\"'v{i}'\" for i in range(1, 1024 + 1)])"
   ]
  },
  {
   "cell_type": "code",
   "execution_count": null,
   "id": "8d9c535a",
   "metadata": {},
   "outputs": [],
   "source": [
    "classification_sql = f\"\"\"\n",
    "INSERT INTO {RESULT_TABLE}\n",
    "WITH RankedDistances AS (\n",
    "    SELECT\n",
    "        o.Target_ID AS item_id,\n",
    "        o.Reference_ID AS category_id,\n",
    "        o.Distance,\n",
    "        ROW_NUMBER() OVER (PARTITION BY o.Target_ID ORDER BY o.Distance ASC) as rn\n",
    "    FROM TD_VectorDistance (\n",
    "        ON (SELECT TOP 5 row_id, {vector_cols} FROM {PRODUCT_TEST_EMBEDDINGS_PATH}) AS TargetTable\n",
    "        ON (SELECT category_id, {vector_cols} FROM {CLASS_EMBEDDINGS_PATH}) AS ReferenceTable DIMENSION\n",
    "        USING\n",
    "            TargetIDColumn('row_id')\n",
    "            RefIDColumn('category_id')\n",
    "            TargetFeatureColumns({vector_cols_quoted})\n",
    "            RefFeatureColumns({vector_cols_quoted})\n",
    "            DistanceMeasure('cosine')\n",
    "    ) AS o\n",
    ")\n",
    "SELECT\n",
    "    item_id,\n",
    "    category_id,\n",
    "    Distance\n",
    "FROM RankedDistances\n",
    "WHERE rn = 1;\n",
    "\"\"\"\n",
    "td_db.execute_query(q)"
   ]
  },
  {
   "cell_type": "code",
   "execution_count": null,
   "id": "dc461243",
   "metadata": {},
   "outputs": [],
   "source": [
    "tdf = td_db.execute_query(\"SELECT COUNT(*) FROM amurd.similiratiy_score\")\n",
    "tdf = DataFrame(tdf, False)\n",
    "tdf"
   ]
  },
  {
   "cell_type": "markdown",
   "id": "ab70901a",
   "metadata": {},
   "source": [
    "## Disconnect"
   ]
  },
  {
   "cell_type": "code",
   "execution_count": null,
   "id": "d99b60f7",
   "metadata": {},
   "outputs": [],
   "source": [
    "td_db.disconnect()"
   ]
  },
  {
   "cell_type": "code",
   "execution_count": null,
   "id": "65a6c0ee",
   "metadata": {},
   "outputs": [],
   "source": []
  }
 ],
 "metadata": {
  "kernelspec": {
   "display_name": "Python 3",
   "language": "python",
   "name": "python3"
  },
  "language_info": {
   "codemirror_mode": {
    "name": "ipython",
    "version": 3
   },
   "file_extension": ".py",
   "mimetype": "text/x-python",
   "name": "python",
   "nbconvert_exporter": "python",
   "pygments_lexer": "ipython3",
   "version": "3.13.5"
  }
 },
 "nbformat": 4,
 "nbformat_minor": 5
}
