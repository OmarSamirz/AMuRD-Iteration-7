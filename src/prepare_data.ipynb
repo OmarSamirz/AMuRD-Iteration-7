{
 "cells": [
  {
   "cell_type": "markdown",
   "id": "e262c5fc",
   "metadata": {},
   "source": [
    "# Import packages"
   ]
  },
  {
   "cell_type": "code",
   "execution_count": 8,
   "id": "5cff14ac",
   "metadata": {},
   "outputs": [],
   "source": [
    "import pandas as pd\n",
    "from teradataml import *\n",
    "\n",
    "from moduels.db import TeradataDatabase\n",
    "from constants import TEST_DATA_PATH"
   ]
  },
  {
   "cell_type": "markdown",
   "id": "b2b3aa3e",
   "metadata": {},
   "source": [
    "## Load database"
   ]
  },
  {
   "cell_type": "code",
   "execution_count": 9,
   "id": "b5a80968",
   "metadata": {},
   "outputs": [],
   "source": [
    "td_db = TeradataDatabase()\n",
    "td_db.connect()"
   ]
  },
  {
   "cell_type": "markdown",
   "id": "2b044c27",
   "metadata": {},
   "source": [
    "## Load data to database"
   ]
  },
  {
   "cell_type": "code",
   "execution_count": 12,
   "id": "43a42a44",
   "metadata": {},
   "outputs": [
    {
     "data": {
      "text/html": [
       "<div>\n",
       "<style scoped>\n",
       "    .dataframe tbody tr th:only-of-type {\n",
       "        vertical-align: middle;\n",
       "    }\n",
       "\n",
       "    .dataframe tbody tr th {\n",
       "        vertical-align: top;\n",
       "    }\n",
       "\n",
       "    .dataframe thead th {\n",
       "        text-align: right;\n",
       "    }\n",
       "</style>\n",
       "<table border=\"1\" class=\"dataframe\">\n",
       "  <thead>\n",
       "    <tr style=\"text-align: right;\">\n",
       "      <th></th>\n",
       "      <th>Item_Name</th>\n",
       "      <th>class</th>\n",
       "      <th>Brand</th>\n",
       "      <th>Weight</th>\n",
       "      <th>Number of units</th>\n",
       "      <th>Size of units</th>\n",
       "      <th>Price</th>\n",
       "      <th>T.Price</th>\n",
       "      <th>Pack</th>\n",
       "      <th>Unit</th>\n",
       "    </tr>\n",
       "  </thead>\n",
       "  <tbody>\n",
       "    <tr>\n",
       "      <th>0</th>\n",
       "      <td>Americana Okra zero 400 gm</td>\n",
       "      <td>Vegetables &amp; Fruits</td>\n",
       "      <td>Americana</td>\n",
       "      <td>400gm</td>\n",
       "      <td>1</td>\n",
       "      <td>NaN</td>\n",
       "      <td>NaN</td>\n",
       "      <td>NaN</td>\n",
       "      <td>كيس</td>\n",
       "      <td>gm</td>\n",
       "    </tr>\n",
       "    <tr>\n",
       "      <th>1</th>\n",
       "      <td>ليمون اداليا 500 جم</td>\n",
       "      <td>Tins, Jars &amp; Packets</td>\n",
       "      <td>NaN</td>\n",
       "      <td>500جم</td>\n",
       "      <td>1</td>\n",
       "      <td>NaN</td>\n",
       "      <td>NaN</td>\n",
       "      <td>NaN</td>\n",
       "      <td>علبة</td>\n",
       "      <td>جم</td>\n",
       "    </tr>\n",
       "    <tr>\n",
       "      <th>2</th>\n",
       "      <td>صلصه هاينز برطمان خصم عرض</td>\n",
       "      <td>Tins, Jars &amp; Packets</td>\n",
       "      <td>هاينز</td>\n",
       "      <td>NaN</td>\n",
       "      <td>1</td>\n",
       "      <td>NaN</td>\n",
       "      <td>NaN</td>\n",
       "      <td>NaN</td>\n",
       "      <td>علبة</td>\n",
       "      <td>NaN</td>\n",
       "    </tr>\n",
       "    <tr>\n",
       "      <th>3</th>\n",
       "      <td>Dasani water 330ML</td>\n",
       "      <td>Water</td>\n",
       "      <td>Dasani</td>\n",
       "      <td>330مل</td>\n",
       "      <td>1</td>\n",
       "      <td>NaN</td>\n",
       "      <td>NaN</td>\n",
       "      <td>NaN</td>\n",
       "      <td>زجاجة</td>\n",
       "      <td>مل</td>\n",
       "    </tr>\n",
       "    <tr>\n",
       "      <th>4</th>\n",
       "      <td>بودرة عصير أناناس من سورس، 900 جم</td>\n",
       "      <td>Soft Drinks &amp; Juices</td>\n",
       "      <td>سورس</td>\n",
       "      <td>900جم</td>\n",
       "      <td>1</td>\n",
       "      <td>NaN</td>\n",
       "      <td>NaN</td>\n",
       "      <td>NaN</td>\n",
       "      <td>عبوة</td>\n",
       "      <td>جم</td>\n",
       "    </tr>\n",
       "  </tbody>\n",
       "</table>\n",
       "</div>"
      ],
      "text/plain": [
       "                           Item_Name                 class      Brand Weight  \\\n",
       "0         Americana Okra zero 400 gm   Vegetables & Fruits  Americana  400gm   \n",
       "1                ليمون اداليا 500 جم  Tins, Jars & Packets        NaN  500جم   \n",
       "2          صلصه هاينز برطمان خصم عرض  Tins, Jars & Packets      هاينز    NaN   \n",
       "3                 Dasani water 330ML                 Water     Dasani  330مل   \n",
       "4  بودرة عصير أناناس من سورس، 900 جم  Soft Drinks & Juices       سورس  900جم   \n",
       "\n",
       "   Number of units Size of units  Price  T.Price   Pack Unit  \n",
       "0                1           NaN    NaN      NaN    كيس   gm  \n",
       "1                1           NaN    NaN      NaN   علبة   جم  \n",
       "2                1           NaN    NaN      NaN   علبة  NaN  \n",
       "3                1           NaN    NaN      NaN  زجاجة   مل  \n",
       "4                1           NaN    NaN      NaN   عبوة   جم  "
      ]
     },
     "execution_count": 12,
     "metadata": {},
     "output_type": "execute_result"
    }
   ],
   "source": [
    "df = pd.read_csv(TEST_DATA_PATH)\n",
    "df.head()"
   ]
  },
  {
   "cell_type": "code",
   "execution_count": null,
   "id": "6a00ee2d",
   "metadata": {},
   "outputs": [
    {
     "data": {
      "text/html": [
       "<div>\n",
       "<style scoped>\n",
       "    .dataframe tbody tr th:only-of-type {\n",
       "        vertical-align: middle;\n",
       "    }\n",
       "\n",
       "    .dataframe tbody tr th {\n",
       "        vertical-align: top;\n",
       "    }\n",
       "\n",
       "    .dataframe thead th {\n",
       "        text-align: right;\n",
       "    }\n",
       "</style>\n",
       "<table border=\"1\" class=\"dataframe\">\n",
       "  <thead>\n",
       "    <tr style=\"text-align: right;\">\n",
       "      <th></th>\n",
       "      <th>product_name</th>\n",
       "      <th>brand_name</th>\n",
       "    </tr>\n",
       "  </thead>\n",
       "  <tbody>\n",
       "    <tr>\n",
       "      <th>0</th>\n",
       "      <td>Americana Okra zero 400 gm</td>\n",
       "      <td>Americana</td>\n",
       "    </tr>\n",
       "    <tr>\n",
       "      <th>1</th>\n",
       "      <td>ليمون اداليا 500 جم</td>\n",
       "      <td>NaN</td>\n",
       "    </tr>\n",
       "    <tr>\n",
       "      <th>2</th>\n",
       "      <td>صلصه هاينز برطمان خصم عرض</td>\n",
       "      <td>هاينز</td>\n",
       "    </tr>\n",
       "    <tr>\n",
       "      <th>3</th>\n",
       "      <td>Dasani water 330ML</td>\n",
       "      <td>Dasani</td>\n",
       "    </tr>\n",
       "    <tr>\n",
       "      <th>4</th>\n",
       "      <td>بودرة عصير أناناس من سورس، 900 جم</td>\n",
       "      <td>سورس</td>\n",
       "    </tr>\n",
       "    <tr>\n",
       "      <th>...</th>\n",
       "      <td>...</td>\n",
       "      <td>...</td>\n",
       "    </tr>\n",
       "    <tr>\n",
       "      <th>4768</th>\n",
       "      <td>جهينه كوكتيل 1ل</td>\n",
       "      <td>جهينه</td>\n",
       "    </tr>\n",
       "    <tr>\n",
       "      <th>4769</th>\n",
       "      <td>دبل ديرى مشروب بنكهه ليمون 275مل</td>\n",
       "      <td>دبل ديرى</td>\n",
       "    </tr>\n",
       "    <tr>\n",
       "      <th>4770</th>\n",
       "      <td>Galaxy Smooth Milk Chocolate 24 x 36g</td>\n",
       "      <td>Galaxy</td>\n",
       "    </tr>\n",
       "    <tr>\n",
       "      <th>4771</th>\n",
       "      <td>Hot Ketchup Squeeze – 320g</td>\n",
       "      <td>NaN</td>\n",
       "    </tr>\n",
       "    <tr>\n",
       "      <th>4772</th>\n",
       "      <td>ابو عوف معمول شيكولاتة علبه</td>\n",
       "      <td>ابو عوف</td>\n",
       "    </tr>\n",
       "  </tbody>\n",
       "</table>\n",
       "<p>4773 rows × 2 columns</p>\n",
       "</div>"
      ],
      "text/plain": [
       "                               product_name brand_name\n",
       "0                Americana Okra zero 400 gm  Americana\n",
       "1                       ليمون اداليا 500 جم        NaN\n",
       "2                 صلصه هاينز برطمان خصم عرض      هاينز\n",
       "3                        Dasani water 330ML     Dasani\n",
       "4         بودرة عصير أناناس من سورس، 900 جم       سورس\n",
       "...                                     ...        ...\n",
       "4768                        جهينه كوكتيل 1ل      جهينه\n",
       "4769       دبل ديرى مشروب بنكهه ليمون 275مل   دبل ديرى\n",
       "4770  Galaxy Smooth Milk Chocolate 24 x 36g     Galaxy\n",
       "4771             Hot Ketchup Squeeze – 320g        NaN\n",
       "4772            ابو عوف معمول شيكولاتة علبه    ابو عوف\n",
       "\n",
       "[4773 rows x 2 columns]"
      ]
     },
     "execution_count": 14,
     "metadata": {},
     "output_type": "execute_result"
    }
   ],
   "source": [
    "df = df[[\"Item_Name\", \"Brand\"]]\n",
    "df.rename(columns={\"Item_Name\": \"product_name\", \"Brand\": \"brand_name\"}, inplace=True)"
   ]
  },
  {
   "cell_type": "code",
   "execution_count": 17,
   "id": "a1092c2a",
   "metadata": {},
   "outputs": [
    {
     "ename": "TeradataMlException",
     "evalue": "[Teradata][teradataml](TDML_2020) Failed to copy dataframe to Teradata Vantage.[Version 20.0.0.34] [Session 1105] [Teradata SQL Driver] [Error 502] Batch row 2 bound parameter 2 type FLOAT (480) differs from batch row 1 type VARCHAR (448)\n at gosqldriver/teradatasql.formatError ErrorUtil.go:83\n at gosqldriver/teradatasql.(*teradataConnection).makeDriverError ErrorUtil.go:150\n at gosqldriver/teradatasql.(*TeradataRows).validateBatchValues TeradataRows.go:1697\n at gosqldriver/teradatasql.newTeradataRows TeradataRows.go:667\n at gosqldriver/teradatasql.(*teradataStatement).QueryContext TeradataStatement.go:122\n at gosqldriver/teradatasql.(*teradataConnection).QueryContext TeradataConnection.go:823\n at database/sql.ctxDriverQuery ctxutil.go:48\n at database/sql.(*DB).queryDC.func1 sql.go:1786\n at database/sql.withLock sql.go:3574\n at database/sql.(*DB).queryDC sql.go:1781\n at database/sql.(*Conn).QueryContext sql.go:2037\n at main.createRows goside.go:1082\n at main.goCreateRows goside.go:959\n at _cgoexp_ff5e33a08e40_goCreateRows _cgo_gotypes.go:417\n at runtime.cgocallbackg1 cgocall.go:446\n at runtime.cgocallbackg cgocall.go:350\n at runtime.cgocallback asm_amd64.s:1084\n at runtime.goexit asm_amd64.s:1700",
     "output_type": "error",
     "traceback": [
      "\u001b[31m---------------------------------------------------------------------------\u001b[39m",
      "\u001b[31mOperationalError\u001b[39m                          Traceback (most recent call last)",
      "\u001b[36mFile \u001b[39m\u001b[32mc:\\internship\\AMuRD-Iteration-7\\.venv\\Lib\\site-packages\\teradataml\\dataframe\\copy_to.py:564\u001b[39m, in \u001b[36mcopy_to_sql\u001b[39m\u001b[34m(df, table_name, schema_name, if_exists, index, index_label, primary_index, temporary, types, primary_time_index_name, timecode_column, timebucket_duration, timezero_date, columns_list, sequence_column, seq_max, set_table, chunksize, match_column_order)\u001b[39m\n\u001b[32m    563\u001b[39m \u001b[38;5;28;01mif\u001b[39;00m index \u001b[38;5;129;01mor\u001b[39;00m is_pti:\n\u001b[32m--> \u001b[39m\u001b[32m564\u001b[39m     \u001b[43m_insert_from_dataframe\u001b[49m\u001b[43m(\u001b[49m\u001b[43mdf\u001b[49m\u001b[43m,\u001b[49m\u001b[43m \u001b[49m\u001b[43mcon\u001b[49m\u001b[43m,\u001b[49m\u001b[43m \u001b[49m\u001b[43mschema_name\u001b[49m\u001b[43m,\u001b[49m\u001b[43m \u001b[49m\u001b[43mtable_name\u001b[49m\u001b[43m,\u001b[49m\u001b[43m \u001b[49m\u001b[43mindex\u001b[49m\u001b[43m,\u001b[49m\n\u001b[32m    565\u001b[39m \u001b[43m                           \u001b[49m\u001b[43mchunksize\u001b[49m\u001b[43m,\u001b[49m\u001b[43m \u001b[49m\u001b[43mis_pti\u001b[49m\u001b[43m,\u001b[49m\u001b[43m \u001b[49m\u001b[43mtimecode_column\u001b[49m\u001b[43m,\u001b[49m\n\u001b[32m    566\u001b[39m \u001b[43m                           \u001b[49m\u001b[43msequence_column\u001b[49m\u001b[43m,\u001b[49m\u001b[43m \u001b[49m\u001b[43mmatch_column_order\u001b[49m\u001b[43m)\u001b[49m\n\u001b[32m    568\u001b[39m \u001b[38;5;66;03m# When index isn't saved & for non-PTI tables, to_sql insertion used (batch)\u001b[39;00m\n\u001b[32m    569\u001b[39m \u001b[38;5;28;01melse\u001b[39;00m:\n\u001b[32m    570\u001b[39m     \u001b[38;5;66;03m# Empty queryband buffer before SQL call.\u001b[39;00m\n",
      "\u001b[36mFile \u001b[39m\u001b[32mc:\\internship\\AMuRD-Iteration-7\\.venv\\Lib\\site-packages\\teradataml\\dataframe\\copy_to.py:1608\u001b[39m, in \u001b[36m_insert_from_dataframe\u001b[39m\u001b[34m(df, con, schema_name, table_name, index, chunksize, is_pti, timecode_column, sequence_column, match_column_order)\u001b[39m\n\u001b[32m   1607\u001b[39m \u001b[38;5;28;01mif\u001b[39;00m rowcount > \u001b[32m0\u001b[39m:\n\u001b[32m-> \u001b[39m\u001b[32m1608\u001b[39m     cur = \u001b[43mexecute_sql\u001b[49m\u001b[43m(\u001b[49m\u001b[43mins\u001b[49m\u001b[43m,\u001b[49m\u001b[43m \u001b[49m\u001b[43minsert_list\u001b[49m\u001b[43m)\u001b[49m\n\u001b[32m   1609\u001b[39m     \u001b[38;5;28;01mif\u001b[39;00m cur \u001b[38;5;129;01mis\u001b[39;00m \u001b[38;5;129;01mnot\u001b[39;00m \u001b[38;5;28;01mNone\u001b[39;00m:\n",
      "\u001b[36mFile \u001b[39m\u001b[32mc:\\internship\\AMuRD-Iteration-7\\.venv\\Lib\\site-packages\\teradataml\\utils\\utils.py:83\u001b[39m, in \u001b[36mexecute_sql\u001b[39m\u001b[34m(statement, parameters)\u001b[39m\n\u001b[32m     82\u001b[39m     cursor = tdsql_con.cursor()\n\u001b[32m---> \u001b[39m\u001b[32m83\u001b[39m     \u001b[38;5;28;01mreturn\u001b[39;00m \u001b[43mcursor\u001b[49m\u001b[43m.\u001b[49m\u001b[43mexecute\u001b[49m\u001b[43m(\u001b[49m\u001b[43mstatement\u001b[49m\u001b[43m,\u001b[49m\u001b[43m \u001b[49m\u001b[43mparameters\u001b[49m\u001b[43m)\u001b[49m\n\u001b[32m     84\u001b[39m \u001b[38;5;28;01melse\u001b[39;00m:\n",
      "\u001b[36mFile \u001b[39m\u001b[32mc:\\internship\\AMuRD-Iteration-7\\.venv\\Lib\\site-packages\\teradatasql\\__init__.py:761\u001b[39m, in \u001b[36mTeradataCursor.execute\u001b[39m\u001b[34m(self, sOperation, params, ignoreErrors)\u001b[39m\n\u001b[32m    757\u001b[39m \u001b[38;5;28;01melif\u001b[39;00m \u001b[38;5;28mtype\u001b[39m (params [\u001b[32m0\u001b[39m]) \u001b[38;5;129;01min\u001b[39;00m [\u001b[38;5;28mlist\u001b[39m, \u001b[38;5;28mtuple\u001b[39m]:\n\u001b[32m    758\u001b[39m     \u001b[38;5;66;03m# Excerpt from PEP 249 DBAPI documentation:\u001b[39;00m\n\u001b[32m    759\u001b[39m     \u001b[38;5;66;03m#  The parameters may also be specified as list of tuples to e.g. insert multiple rows in a single\u001b[39;00m\n\u001b[32m    760\u001b[39m     \u001b[38;5;66;03m#  operation, but this kind of usage is deprecated: .executemany() should be used instead.\u001b[39;00m\n\u001b[32m--> \u001b[39m\u001b[32m761\u001b[39m     \u001b[38;5;28;43mself\u001b[39;49m\u001b[43m.\u001b[49m\u001b[43mexecutemany\u001b[49m\u001b[43m \u001b[49m\u001b[43m(\u001b[49m\u001b[43msOperation\u001b[49m\u001b[43m,\u001b[49m\u001b[43m \u001b[49m\u001b[43mparams\u001b[49m\u001b[43m,\u001b[49m\u001b[43m \u001b[49m\u001b[43mignoreErrors\u001b[49m\u001b[43m)\u001b[49m\n\u001b[32m    763\u001b[39m \u001b[38;5;28;01melse\u001b[39;00m:\n",
      "\u001b[36mFile \u001b[39m\u001b[32mc:\\internship\\AMuRD-Iteration-7\\.venv\\Lib\\site-packages\\teradatasql\\__init__.py:1010\u001b[39m, in \u001b[36mTeradataCursor.executemany\u001b[39m\u001b[34m(self, sOperation, seqOfParams, ignoreErrors)\u001b[39m\n\u001b[32m   1008\u001b[39m         \u001b[38;5;28;01mreturn\u001b[39;00m\n\u001b[32m-> \u001b[39m\u001b[32m1010\u001b[39m     \u001b[38;5;28;01mraise\u001b[39;00m OperationalError (sErr)\n\u001b[32m   1012\u001b[39m \u001b[38;5;28;01mif\u001b[39;00m \u001b[38;5;28mself\u001b[39m.connection.bTimingLog:\n",
      "\u001b[31mOperationalError\u001b[39m: [Version 20.0.0.34] [Session 1105] [Teradata SQL Driver] [Error 502] Batch row 2 bound parameter 2 type FLOAT (480) differs from batch row 1 type VARCHAR (448)\n at gosqldriver/teradatasql.formatError ErrorUtil.go:83\n at gosqldriver/teradatasql.(*teradataConnection).makeDriverError ErrorUtil.go:150\n at gosqldriver/teradatasql.(*TeradataRows).validateBatchValues TeradataRows.go:1697\n at gosqldriver/teradatasql.newTeradataRows TeradataRows.go:667\n at gosqldriver/teradatasql.(*teradataStatement).QueryContext TeradataStatement.go:122\n at gosqldriver/teradatasql.(*teradataConnection).QueryContext TeradataConnection.go:823\n at database/sql.ctxDriverQuery ctxutil.go:48\n at database/sql.(*DB).queryDC.func1 sql.go:1786\n at database/sql.withLock sql.go:3574\n at database/sql.(*DB).queryDC sql.go:1781\n at database/sql.(*Conn).QueryContext sql.go:2037\n at main.createRows goside.go:1082\n at main.goCreateRows goside.go:959\n at _cgoexp_ff5e33a08e40_goCreateRows _cgo_gotypes.go:417\n at runtime.cgocallbackg1 cgocall.go:446\n at runtime.cgocallbackg cgocall.go:350\n at runtime.cgocallback asm_amd64.s:1084\n at runtime.goexit asm_amd64.s:1700",
      "\nThe above exception was the direct cause of the following exception:\n",
      "\u001b[31mTeradataMlException\u001b[39m                       Traceback (most recent call last)",
      "\u001b[36mCell\u001b[39m\u001b[36m \u001b[39m\u001b[32mIn[17]\u001b[39m\u001b[32m, line 2\u001b[39m\n\u001b[32m      1\u001b[39m \u001b[38;5;28;01mfrom\u001b[39;00m\u001b[38;5;250m \u001b[39m\u001b[34;01mteradataml\u001b[39;00m\u001b[38;5;250m \u001b[39m\u001b[38;5;28;01mimport\u001b[39;00m DataFrame\n\u001b[32m----> \u001b[39m\u001b[32m2\u001b[39m tdf = \u001b[43mDataFrame\u001b[49m\u001b[43m(\u001b[49m\u001b[43mdf\u001b[49m\u001b[43m)\u001b[49m\n\u001b[32m      3\u001b[39m tdf\n",
      "\u001b[36mFile \u001b[39m\u001b[32mc:\\internship\\AMuRD-Iteration-7\\.venv\\Lib\\site-packages\\teradataml\\dataframe\\dataframe.py:448\u001b[39m, in \u001b[36mDataFrame.__init__\u001b[39m\u001b[34m(self, data, index, index_label, query, materialize, **kwargs)\u001b[39m\n\u001b[32m    444\u001b[39m     \u001b[38;5;66;03m# Set the table_name to the name of the table created in the database.\u001b[39;00m\n\u001b[32m    445\u001b[39m     table_name = UtilFuncs._generate_temp_table_name(prefix=\u001b[33m\"\u001b[39m\u001b[33mfrom_pandas\u001b[39m\u001b[33m\"\u001b[39m,\n\u001b[32m    446\u001b[39m                                                 table_type=TeradataConstants.TERADATA_TABLE)\n\u001b[32m--> \u001b[39m\u001b[32m448\u001b[39m     \u001b[43mcopy_to_sql\u001b[49m\u001b[43m(\u001b[49m\u001b[43mpd_data\u001b[49m\u001b[43m,\u001b[49m\u001b[43m \u001b[49m\u001b[43mtable_name\u001b[49m\u001b[43m,\u001b[49m\u001b[43m \u001b[49m\u001b[43mindex\u001b[49m\u001b[43m=\u001b[49m\u001b[43mindex\u001b[49m\u001b[43m,\u001b[49m\u001b[43m \u001b[49m\u001b[43mindex_label\u001b[49m\u001b[43m=\u001b[49m\u001b[43mindex_label\u001b[49m\u001b[43m,\u001b[49m\u001b[43m \u001b[49m\u001b[43mprimary_index\u001b[49m\u001b[43m=\u001b[49m\u001b[43mprimary_index\u001b[49m\u001b[43m,\u001b[49m\n\u001b[32m    449\u001b[39m \u001b[43m                \u001b[49m\u001b[43mtypes\u001b[49m\u001b[43m=\u001b[49m\u001b[43mtypes\u001b[49m\u001b[43m)\u001b[49m\n\u001b[32m    450\u001b[39m \u001b[38;5;66;03m# If the data is a string, then set the table_name to the data.\u001b[39;00m\n\u001b[32m    451\u001b[39m \u001b[38;5;28;01melif\u001b[39;00m \u001b[38;5;28misinstance\u001b[39m(data, \u001b[38;5;28mstr\u001b[39m):\n",
      "\u001b[36mFile \u001b[39m\u001b[32mc:\\internship\\AMuRD-Iteration-7\\.venv\\Lib\\site-packages\\teradataml\\telemetry_utils\\queryband.py:50\u001b[39m, in \u001b[36mcollect_queryband.<locals>.outer_wrapper.<locals>.inner_wrapper\u001b[39m\u001b[34m(*func_args, **func_kwargs)\u001b[39m\n\u001b[32m     45\u001b[39m \u001b[38;5;129m@wraps\u001b[39m(func)\n\u001b[32m     46\u001b[39m \u001b[38;5;28;01mdef\u001b[39;00m\u001b[38;5;250m \u001b[39m\u001b[34minner_wrapper\u001b[39m(*func_args, **func_kwargs):\n\u001b[32m     47\u001b[39m     \u001b[38;5;66;03m# Pass the required argument 'session_queryband' along with other\u001b[39;00m\n\u001b[32m     48\u001b[39m     \u001b[38;5;66;03m# expected arguments to collect_queryband() decorator which is\u001b[39;00m\n\u001b[32m     49\u001b[39m     \u001b[38;5;66;03m# imported as tdsqlalchemy_collect_queryband.\u001b[39;00m\n\u001b[32m---> \u001b[39m\u001b[32m50\u001b[39m     \u001b[38;5;28;01mreturn\u001b[39;00m \u001b[43mtdsqlalchemy_collect_queryband\u001b[49m\u001b[43m(\u001b[49m\u001b[43msession_queryband\u001b[49m\u001b[43m,\u001b[49m\u001b[43m \u001b[49m\u001b[43m*\u001b[49m\u001b[43mqb_deco_pos_args\u001b[49m\u001b[43m,\u001b[49m\u001b[43m \u001b[49m\u001b[43m*\u001b[49m\u001b[43m*\u001b[49m\u001b[43mqb_deco_kwargs\u001b[49m\u001b[43m)\u001b[49m\u001b[43m(\u001b[49m\u001b[43mfunc\u001b[49m\u001b[43m)\u001b[49m\u001b[43m(\u001b[49m\u001b[43m*\u001b[49m\u001b[43mfunc_args\u001b[49m\u001b[43m,\u001b[49m\u001b[43m \u001b[49m\u001b[43m*\u001b[49m\u001b[43m*\u001b[49m\u001b[43mfunc_kwargs\u001b[49m\u001b[43m)\u001b[49m\n",
      "\u001b[36mFile \u001b[39m\u001b[32mc:\\internship\\AMuRD-Iteration-7\\.venv\\Lib\\site-packages\\teradatasqlalchemy\\telemetry\\queryband.py:382\u001b[39m, in \u001b[36mcollect_queryband.<locals>.qb_decorator.<locals>.wrapper\u001b[39m\u001b[34m(*args, **kwargs)\u001b[39m\n\u001b[32m    379\u001b[39m     \u001b[38;5;66;03m# Append queryband to buffer.\u001b[39;00m\n\u001b[32m    380\u001b[39m     session_queryband.append_qb(qb_str)\n\u001b[32m--> \u001b[39m\u001b[32m382\u001b[39m \u001b[38;5;28;01mreturn\u001b[39;00m \u001b[43mexposed_func\u001b[49m\u001b[43m(\u001b[49m\u001b[43m*\u001b[49m\u001b[43margs\u001b[49m\u001b[43m,\u001b[49m\u001b[43m \u001b[49m\u001b[43m*\u001b[49m\u001b[43m*\u001b[49m\u001b[43mkwargs\u001b[49m\u001b[43m)\u001b[49m\n",
      "\u001b[36mFile \u001b[39m\u001b[32mc:\\internship\\AMuRD-Iteration-7\\.venv\\Lib\\site-packages\\teradataml\\dataframe\\copy_to.py:615\u001b[39m, in \u001b[36mcopy_to_sql\u001b[39m\u001b[34m(df, table_name, schema_name, if_exists, index, index_label, primary_index, temporary, types, primary_time_index_name, timecode_column, timebucket_duration, timezero_date, columns_list, sequence_column, seq_max, set_table, chunksize, match_column_order)\u001b[39m\n\u001b[32m    613\u001b[39m     \u001b[38;5;28;01mraise\u001b[39;00m\n\u001b[32m    614\u001b[39m \u001b[38;5;28;01mexcept\u001b[39;00m \u001b[38;5;167;01mException\u001b[39;00m \u001b[38;5;28;01mas\u001b[39;00m err:\n\u001b[32m--> \u001b[39m\u001b[32m615\u001b[39m     \u001b[38;5;28;01mraise\u001b[39;00m TeradataMlException(Messages.get_message(MessageCodes.COPY_TO_SQL_FAIL) + \u001b[38;5;28mstr\u001b[39m(err),\n\u001b[32m    616\u001b[39m                               MessageCodes.COPY_TO_SQL_FAIL) \u001b[38;5;28;01mfrom\u001b[39;00m\u001b[38;5;250m \u001b[39m\u001b[34;01merr\u001b[39;00m\n",
      "\u001b[31mTeradataMlException\u001b[39m: [Teradata][teradataml](TDML_2020) Failed to copy dataframe to Teradata Vantage.[Version 20.0.0.34] [Session 1105] [Teradata SQL Driver] [Error 502] Batch row 2 bound parameter 2 type FLOAT (480) differs from batch row 1 type VARCHAR (448)\n at gosqldriver/teradatasql.formatError ErrorUtil.go:83\n at gosqldriver/teradatasql.(*teradataConnection).makeDriverError ErrorUtil.go:150\n at gosqldriver/teradatasql.(*TeradataRows).validateBatchValues TeradataRows.go:1697\n at gosqldriver/teradatasql.newTeradataRows TeradataRows.go:667\n at gosqldriver/teradatasql.(*teradataStatement).QueryContext TeradataStatement.go:122\n at gosqldriver/teradatasql.(*teradataConnection).QueryContext TeradataConnection.go:823\n at database/sql.ctxDriverQuery ctxutil.go:48\n at database/sql.(*DB).queryDC.func1 sql.go:1786\n at database/sql.withLock sql.go:3574\n at database/sql.(*DB).queryDC sql.go:1781\n at database/sql.(*Conn).QueryContext sql.go:2037\n at main.createRows goside.go:1082\n at main.goCreateRows goside.go:959\n at _cgoexp_ff5e33a08e40_goCreateRows _cgo_gotypes.go:417\n at runtime.cgocallbackg1 cgocall.go:446\n at runtime.cgocallbackg cgocall.go:350\n at runtime.cgocallback asm_amd64.s:1084\n at runtime.goexit asm_amd64.s:1700"
     ]
    }
   ],
   "source": [
    "from teradataml import DataFrame\n",
    "tdf = DataFrame(df)\n",
    "tdf"
   ]
  },
  {
   "cell_type": "code",
   "execution_count": 6,
   "id": "c3928e4a",
   "metadata": {},
   "outputs": [
    {
     "data": {
      "application/vnd.jupyter.widget-view+json": {
       "model_id": "60739d05fe874186913be2d191630be7",
       "version_major": 2,
       "version_minor": 0
      },
      "text/plain": []
     },
     "metadata": {},
     "output_type": "display_data"
    },
    {
     "data": {
      "text/html": [
       "<style type=\"text/css\">\n",
       "\ttable { border:ridge 5px}\n",
       "\ttable td {border:inset 1px;}\n",
       "\ttable tr#HeaderRow {background-color:grey; color:white;}\n",
       "\t</style>\n",
       "<html><table style=\"min-width:1000px;\">\n",
       "\t<tr id=\"HeaderRow\">\n",
       "<th>product_id</th><th>product_name</th><th>brand_name</th>\n",
       "</tr>\n",
       "</table></html>"
      ],
      "text/plain": [
       "Empty DataFrame\n",
       "Columns: [product_name, brand_name]\n",
       "Index: []"
      ]
     },
     "execution_count": 6,
     "metadata": {},
     "output_type": "execute_result"
    }
   ],
   "source": [
    "tdf = DataFrame(in_schema(\"amurd\", \"products\"))\n",
    "tdf.head()"
   ]
  },
  {
   "cell_type": "code",
   "execution_count": 7,
   "id": "d99b60f7",
   "metadata": {},
   "outputs": [],
   "source": [
    "td_db.disconnect()"
   ]
  },
  {
   "cell_type": "code",
   "execution_count": null,
   "id": "65a6c0ee",
   "metadata": {},
   "outputs": [],
   "source": []
  }
 ],
 "metadata": {
  "kernelspec": {
   "display_name": ".venv (3.12.9)",
   "language": "python",
   "name": "python3"
  },
  "language_info": {
   "codemirror_mode": {
    "name": "ipython",
    "version": 3
   },
   "file_extension": ".py",
   "mimetype": "text/x-python",
   "name": "python",
   "nbconvert_exporter": "python",
   "pygments_lexer": "ipython3",
   "version": "3.12.9"
  }
 },
 "nbformat": 4,
 "nbformat_minor": 5
}
