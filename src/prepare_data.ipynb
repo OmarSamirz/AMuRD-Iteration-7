{
 "cells": [
  {
   "cell_type": "markdown",
   "id": "e262c5fc",
   "metadata": {},
   "source": [
    "# Import packages"
   ]
  },
  {
   "cell_type": "code",
   "execution_count": 1,
   "id": "5cff14ac",
   "metadata": {},
   "outputs": [
    {
     "name": "stdout",
     "output_type": "stream",
     "text": [
      "Warning: Could not clean log directory: [WinError 5] Access is denied: 'logs'\n",
      "Logger initialized. All logs will be saved to: c:\\Users\\ss255385\\OneDrive - Teradata Corporation\\Desktop\\AMuRD-Iteration-7\\src\\logs\\borai_20250817_165215.log\n"
     ]
    }
   ],
   "source": [
    "import pandas as pd\n",
    "from teradataml import *\n",
    "\n",
    "from modules.db import TeradataDatabase\n",
    "from utils import clean_text, load_embedding_model\n",
    "from constants import TEST_DATA_PATH, CLASS_EMBEDDINGS_PATH, PRODUCT_TEST_EMBEDDINGS_PATH\n",
    "from modules.models import SentenceEmbeddingModel, SentenceEmbeddingConfig"
   ]
  },
  {
   "cell_type": "markdown",
   "id": "b2b3aa3e",
   "metadata": {},
   "source": [
    "## Connect to database"
   ]
  },
  {
   "cell_type": "code",
   "execution_count": 2,
   "id": "b5a80968",
   "metadata": {},
   "outputs": [],
   "source": [
    "td_db = TeradataDatabase()\n",
    "td_db.connect()"
   ]
  },
  {
   "cell_type": "markdown",
   "id": "2b044c27",
   "metadata": {},
   "source": [
    "## Load data to database"
   ]
  },
  {
   "cell_type": "code",
   "execution_count": null,
   "id": "43a42a44",
   "metadata": {},
   "outputs": [],
   "source": [
    "df = pd.read_csv(TEST_DATA_PATH)\n",
    "df.head()"
   ]
  },
  {
   "cell_type": "code",
   "execution_count": null,
   "id": "6a00ee2d",
   "metadata": {},
   "outputs": [],
   "source": [
    "df = df[[\"Item_Name\", \"Brand\"]]\n",
    "df.rename(columns={\"Item_Name\": \"product_name\", \"Brand\": \"brand_name\"}, inplace=True)"
   ]
  },
  {
   "cell_type": "code",
   "execution_count": null,
   "id": "5515fc25",
   "metadata": {},
   "outputs": [],
   "source": [
    "df.drop_duplicates(subset=[\"product_name\"], inplace=True)\n",
    "df.dropna(subset=[\"product_name\"], inplace=True)\n",
    "df"
   ]
  },
  {
   "cell_type": "code",
   "execution_count": null,
   "id": "77b21e24",
   "metadata": {},
   "outputs": [],
   "source": [
    "df[\"brand_name\"] = df[\"brand_name\"].astype(str)"
   ]
  },
  {
   "cell_type": "code",
   "execution_count": null,
   "id": "a1092c2a",
   "metadata": {},
   "outputs": [],
   "source": [
    "tdf = DataFrame(df)"
   ]
  },
  {
   "cell_type": "code",
   "execution_count": null,
   "id": "ca482ab8",
   "metadata": {},
   "outputs": [],
   "source": [
    "tdf = tdf.assign(product_id=tdf.index_label)\n",
    "tdf = tdf.drop(columns=[\"index_label\"])\n",
    "tdf"
   ]
  },
  {
   "cell_type": "code",
   "execution_count": null,
   "id": "415bf272",
   "metadata": {},
   "outputs": [],
   "source": [
    "tdf = tdf.select([\"product_id\", \"product_name\", \"brand_name\"])\n",
    "tdf"
   ]
  },
  {
   "cell_type": "code",
   "execution_count": null,
   "id": "2cb70c9d",
   "metadata": {},
   "outputs": [],
   "source": [
    "copy_to_sql(tdf, \"products\", \"amurd\", if_exists=\"replace\")"
   ]
  },
  {
   "cell_type": "markdown",
   "id": "a73aaf3b",
   "metadata": {},
   "source": [
    "## Load table from database"
   ]
  },
  {
   "cell_type": "code",
   "execution_count": 12,
   "id": "71c01ebe",
   "metadata": {},
   "outputs": [
    {
     "data": {
      "text/plain": [
       "'dim_0 FLOAT,\\n dim_1 FLOAT,\\n dim_2 FLOAT,\\n dim_3 FLOAT,\\n dim_4 FLOAT,\\n dim_5 FLOAT,\\n dim_6 FLOAT,\\n dim_7 FLOAT,\\n dim_8 FLOAT,\\n dim_9 FLOAT,\\n dim_10 FLOAT,\\n dim_11 FLOAT,\\n dim_12 FLOAT,\\n dim_13 FLOAT,\\n dim_14 FLOAT,\\n dim_15 FLOAT,\\n dim_16 FLOAT,\\n dim_17 FLOAT,\\n dim_18 FLOAT,\\n dim_19 FLOAT,\\n dim_20 FLOAT,\\n dim_21 FLOAT,\\n dim_22 FLOAT,\\n dim_23 FLOAT,\\n dim_24 FLOAT,\\n dim_25 FLOAT,\\n dim_26 FLOAT,\\n dim_27 FLOAT,\\n dim_28 FLOAT,\\n dim_29 FLOAT,\\n dim_30 FLOAT,\\n dim_31 FLOAT,\\n dim_32 FLOAT,\\n dim_33 FLOAT,\\n dim_34 FLOAT,\\n dim_35 FLOAT,\\n dim_36 FLOAT,\\n dim_37 FLOAT,\\n dim_38 FLOAT,\\n dim_39 FLOAT,\\n dim_40 FLOAT,\\n dim_41 FLOAT,\\n dim_42 FLOAT,\\n dim_43 FLOAT,\\n dim_44 FLOAT,\\n dim_45 FLOAT,\\n dim_46 FLOAT,\\n dim_47 FLOAT,\\n dim_48 FLOAT,\\n dim_49 FLOAT,\\n dim_50 FLOAT,\\n dim_51 FLOAT,\\n dim_52 FLOAT,\\n dim_53 FLOAT,\\n dim_54 FLOAT,\\n dim_55 FLOAT,\\n dim_56 FLOAT,\\n dim_57 FLOAT,\\n dim_58 FLOAT,\\n dim_59 FLOAT,\\n dim_60 FLOAT,\\n dim_61 FLOAT,\\n dim_62 FLOAT,\\n dim_63 FLOAT,\\n dim_64 FLOAT,\\n dim_65 FLOAT,\\n dim_66 FLOAT,\\n dim_67 FLOAT,\\n dim_68 FLOAT,\\n dim_69 FLOAT,\\n dim_70 FLOAT,\\n dim_71 FLOAT,\\n dim_72 FLOAT,\\n dim_73 FLOAT,\\n dim_74 FLOAT,\\n dim_75 FLOAT,\\n dim_76 FLOAT,\\n dim_77 FLOAT,\\n dim_78 FLOAT,\\n dim_79 FLOAT,\\n dim_80 FLOAT,\\n dim_81 FLOAT,\\n dim_82 FLOAT,\\n dim_83 FLOAT,\\n dim_84 FLOAT,\\n dim_85 FLOAT,\\n dim_86 FLOAT,\\n dim_87 FLOAT,\\n dim_88 FLOAT,\\n dim_89 FLOAT,\\n dim_90 FLOAT,\\n dim_91 FLOAT,\\n dim_92 FLOAT,\\n dim_93 FLOAT,\\n dim_94 FLOAT,\\n dim_95 FLOAT,\\n dim_96 FLOAT,\\n dim_97 FLOAT,\\n dim_98 FLOAT,\\n dim_99 FLOAT,\\n dim_100 FLOAT,\\n dim_101 FLOAT,\\n dim_102 FLOAT,\\n dim_103 FLOAT,\\n dim_104 FLOAT,\\n dim_105 FLOAT,\\n dim_106 FLOAT,\\n dim_107 FLOAT,\\n dim_108 FLOAT,\\n dim_109 FLOAT,\\n dim_110 FLOAT,\\n dim_111 FLOAT,\\n dim_112 FLOAT,\\n dim_113 FLOAT,\\n dim_114 FLOAT,\\n dim_115 FLOAT,\\n dim_116 FLOAT,\\n dim_117 FLOAT,\\n dim_118 FLOAT,\\n dim_119 FLOAT,\\n dim_120 FLOAT,\\n dim_121 FLOAT,\\n dim_122 FLOAT,\\n dim_123 FLOAT,\\n dim_124 FLOAT,\\n dim_125 FLOAT,\\n dim_126 FLOAT,\\n dim_127 FLOAT,\\n dim_128 FLOAT,\\n dim_129 FLOAT,\\n dim_130 FLOAT,\\n dim_131 FLOAT,\\n dim_132 FLOAT,\\n dim_133 FLOAT,\\n dim_134 FLOAT,\\n dim_135 FLOAT,\\n dim_136 FLOAT,\\n dim_137 FLOAT,\\n dim_138 FLOAT,\\n dim_139 FLOAT,\\n dim_140 FLOAT,\\n dim_141 FLOAT,\\n dim_142 FLOAT,\\n dim_143 FLOAT,\\n dim_144 FLOAT,\\n dim_145 FLOAT,\\n dim_146 FLOAT,\\n dim_147 FLOAT,\\n dim_148 FLOAT,\\n dim_149 FLOAT,\\n dim_150 FLOAT,\\n dim_151 FLOAT,\\n dim_152 FLOAT,\\n dim_153 FLOAT,\\n dim_154 FLOAT,\\n dim_155 FLOAT,\\n dim_156 FLOAT,\\n dim_157 FLOAT,\\n dim_158 FLOAT,\\n dim_159 FLOAT,\\n dim_160 FLOAT,\\n dim_161 FLOAT,\\n dim_162 FLOAT,\\n dim_163 FLOAT,\\n dim_164 FLOAT,\\n dim_165 FLOAT,\\n dim_166 FLOAT,\\n dim_167 FLOAT,\\n dim_168 FLOAT,\\n dim_169 FLOAT,\\n dim_170 FLOAT,\\n dim_171 FLOAT,\\n dim_172 FLOAT,\\n dim_173 FLOAT,\\n dim_174 FLOAT,\\n dim_175 FLOAT,\\n dim_176 FLOAT,\\n dim_177 FLOAT,\\n dim_178 FLOAT,\\n dim_179 FLOAT,\\n dim_180 FLOAT,\\n dim_181 FLOAT,\\n dim_182 FLOAT,\\n dim_183 FLOAT,\\n dim_184 FLOAT,\\n dim_185 FLOAT,\\n dim_186 FLOAT,\\n dim_187 FLOAT,\\n dim_188 FLOAT,\\n dim_189 FLOAT,\\n dim_190 FLOAT,\\n dim_191 FLOAT,\\n dim_192 FLOAT,\\n dim_193 FLOAT,\\n dim_194 FLOAT,\\n dim_195 FLOAT,\\n dim_196 FLOAT,\\n dim_197 FLOAT,\\n dim_198 FLOAT,\\n dim_199 FLOAT,\\n dim_200 FLOAT,\\n dim_201 FLOAT,\\n dim_202 FLOAT,\\n dim_203 FLOAT,\\n dim_204 FLOAT,\\n dim_205 FLOAT,\\n dim_206 FLOAT,\\n dim_207 FLOAT,\\n dim_208 FLOAT,\\n dim_209 FLOAT,\\n dim_210 FLOAT,\\n dim_211 FLOAT,\\n dim_212 FLOAT,\\n dim_213 FLOAT,\\n dim_214 FLOAT,\\n dim_215 FLOAT,\\n dim_216 FLOAT,\\n dim_217 FLOAT,\\n dim_218 FLOAT,\\n dim_219 FLOAT,\\n dim_220 FLOAT,\\n dim_221 FLOAT,\\n dim_222 FLOAT,\\n dim_223 FLOAT,\\n dim_224 FLOAT,\\n dim_225 FLOAT,\\n dim_226 FLOAT,\\n dim_227 FLOAT,\\n dim_228 FLOAT,\\n dim_229 FLOAT,\\n dim_230 FLOAT,\\n dim_231 FLOAT,\\n dim_232 FLOAT,\\n dim_233 FLOAT,\\n dim_234 FLOAT,\\n dim_235 FLOAT,\\n dim_236 FLOAT,\\n dim_237 FLOAT,\\n dim_238 FLOAT,\\n dim_239 FLOAT,\\n dim_240 FLOAT,\\n dim_241 FLOAT,\\n dim_242 FLOAT,\\n dim_243 FLOAT,\\n dim_244 FLOAT,\\n dim_245 FLOAT,\\n dim_246 FLOAT,\\n dim_247 FLOAT,\\n dim_248 FLOAT,\\n dim_249 FLOAT,\\n dim_250 FLOAT,\\n dim_251 FLOAT,\\n dim_252 FLOAT,\\n dim_253 FLOAT,\\n dim_254 FLOAT,\\n dim_255 FLOAT,\\n dim_256 FLOAT,\\n dim_257 FLOAT,\\n dim_258 FLOAT,\\n dim_259 FLOAT,\\n dim_260 FLOAT,\\n dim_261 FLOAT,\\n dim_262 FLOAT,\\n dim_263 FLOAT,\\n dim_264 FLOAT,\\n dim_265 FLOAT,\\n dim_266 FLOAT,\\n dim_267 FLOAT,\\n dim_268 FLOAT,\\n dim_269 FLOAT,\\n dim_270 FLOAT,\\n dim_271 FLOAT,\\n dim_272 FLOAT,\\n dim_273 FLOAT,\\n dim_274 FLOAT,\\n dim_275 FLOAT,\\n dim_276 FLOAT,\\n dim_277 FLOAT,\\n dim_278 FLOAT,\\n dim_279 FLOAT,\\n dim_280 FLOAT,\\n dim_281 FLOAT,\\n dim_282 FLOAT,\\n dim_283 FLOAT,\\n dim_284 FLOAT,\\n dim_285 FLOAT,\\n dim_286 FLOAT,\\n dim_287 FLOAT,\\n dim_288 FLOAT,\\n dim_289 FLOAT,\\n dim_290 FLOAT,\\n dim_291 FLOAT,\\n dim_292 FLOAT,\\n dim_293 FLOAT,\\n dim_294 FLOAT,\\n dim_295 FLOAT,\\n dim_296 FLOAT,\\n dim_297 FLOAT,\\n dim_298 FLOAT,\\n dim_299 FLOAT,\\n dim_300 FLOAT,\\n dim_301 FLOAT,\\n dim_302 FLOAT,\\n dim_303 FLOAT,\\n dim_304 FLOAT,\\n dim_305 FLOAT,\\n dim_306 FLOAT,\\n dim_307 FLOAT,\\n dim_308 FLOAT,\\n dim_309 FLOAT,\\n dim_310 FLOAT,\\n dim_311 FLOAT,\\n dim_312 FLOAT,\\n dim_313 FLOAT,\\n dim_314 FLOAT,\\n dim_315 FLOAT,\\n dim_316 FLOAT,\\n dim_317 FLOAT,\\n dim_318 FLOAT,\\n dim_319 FLOAT,\\n dim_320 FLOAT,\\n dim_321 FLOAT,\\n dim_322 FLOAT,\\n dim_323 FLOAT,\\n dim_324 FLOAT,\\n dim_325 FLOAT,\\n dim_326 FLOAT,\\n dim_327 FLOAT,\\n dim_328 FLOAT,\\n dim_329 FLOAT,\\n dim_330 FLOAT,\\n dim_331 FLOAT,\\n dim_332 FLOAT,\\n dim_333 FLOAT,\\n dim_334 FLOAT,\\n dim_335 FLOAT,\\n dim_336 FLOAT,\\n dim_337 FLOAT,\\n dim_338 FLOAT,\\n dim_339 FLOAT,\\n dim_340 FLOAT,\\n dim_341 FLOAT,\\n dim_342 FLOAT,\\n dim_343 FLOAT,\\n dim_344 FLOAT,\\n dim_345 FLOAT,\\n dim_346 FLOAT,\\n dim_347 FLOAT,\\n dim_348 FLOAT,\\n dim_349 FLOAT,\\n dim_350 FLOAT,\\n dim_351 FLOAT,\\n dim_352 FLOAT,\\n dim_353 FLOAT,\\n dim_354 FLOAT,\\n dim_355 FLOAT,\\n dim_356 FLOAT,\\n dim_357 FLOAT,\\n dim_358 FLOAT,\\n dim_359 FLOAT,\\n dim_360 FLOAT,\\n dim_361 FLOAT,\\n dim_362 FLOAT,\\n dim_363 FLOAT,\\n dim_364 FLOAT,\\n dim_365 FLOAT,\\n dim_366 FLOAT,\\n dim_367 FLOAT,\\n dim_368 FLOAT,\\n dim_369 FLOAT,\\n dim_370 FLOAT,\\n dim_371 FLOAT,\\n dim_372 FLOAT,\\n dim_373 FLOAT,\\n dim_374 FLOAT,\\n dim_375 FLOAT,\\n dim_376 FLOAT,\\n dim_377 FLOAT,\\n dim_378 FLOAT,\\n dim_379 FLOAT,\\n dim_380 FLOAT,\\n dim_381 FLOAT,\\n dim_382 FLOAT,\\n dim_383 FLOAT,\\n dim_384 FLOAT,\\n dim_385 FLOAT,\\n dim_386 FLOAT,\\n dim_387 FLOAT,\\n dim_388 FLOAT,\\n dim_389 FLOAT,\\n dim_390 FLOAT,\\n dim_391 FLOAT,\\n dim_392 FLOAT,\\n dim_393 FLOAT,\\n dim_394 FLOAT,\\n dim_395 FLOAT,\\n dim_396 FLOAT,\\n dim_397 FLOAT,\\n dim_398 FLOAT,\\n dim_399 FLOAT,\\n dim_400 FLOAT,\\n dim_401 FLOAT,\\n dim_402 FLOAT,\\n dim_403 FLOAT,\\n dim_404 FLOAT,\\n dim_405 FLOAT,\\n dim_406 FLOAT,\\n dim_407 FLOAT,\\n dim_408 FLOAT,\\n dim_409 FLOAT,\\n dim_410 FLOAT,\\n dim_411 FLOAT,\\n dim_412 FLOAT,\\n dim_413 FLOAT,\\n dim_414 FLOAT,\\n dim_415 FLOAT,\\n dim_416 FLOAT,\\n dim_417 FLOAT,\\n dim_418 FLOAT,\\n dim_419 FLOAT,\\n dim_420 FLOAT,\\n dim_421 FLOAT,\\n dim_422 FLOAT,\\n dim_423 FLOAT,\\n dim_424 FLOAT,\\n dim_425 FLOAT,\\n dim_426 FLOAT,\\n dim_427 FLOAT,\\n dim_428 FLOAT,\\n dim_429 FLOAT,\\n dim_430 FLOAT,\\n dim_431 FLOAT,\\n dim_432 FLOAT,\\n dim_433 FLOAT,\\n dim_434 FLOAT,\\n dim_435 FLOAT,\\n dim_436 FLOAT,\\n dim_437 FLOAT,\\n dim_438 FLOAT,\\n dim_439 FLOAT,\\n dim_440 FLOAT,\\n dim_441 FLOAT,\\n dim_442 FLOAT,\\n dim_443 FLOAT,\\n dim_444 FLOAT,\\n dim_445 FLOAT,\\n dim_446 FLOAT,\\n dim_447 FLOAT,\\n dim_448 FLOAT,\\n dim_449 FLOAT,\\n dim_450 FLOAT,\\n dim_451 FLOAT,\\n dim_452 FLOAT,\\n dim_453 FLOAT,\\n dim_454 FLOAT,\\n dim_455 FLOAT,\\n dim_456 FLOAT,\\n dim_457 FLOAT,\\n dim_458 FLOAT,\\n dim_459 FLOAT,\\n dim_460 FLOAT,\\n dim_461 FLOAT,\\n dim_462 FLOAT,\\n dim_463 FLOAT,\\n dim_464 FLOAT,\\n dim_465 FLOAT,\\n dim_466 FLOAT,\\n dim_467 FLOAT,\\n dim_468 FLOAT,\\n dim_469 FLOAT,\\n dim_470 FLOAT,\\n dim_471 FLOAT,\\n dim_472 FLOAT,\\n dim_473 FLOAT,\\n dim_474 FLOAT,\\n dim_475 FLOAT,\\n dim_476 FLOAT,\\n dim_477 FLOAT,\\n dim_478 FLOAT,\\n dim_479 FLOAT,\\n dim_480 FLOAT,\\n dim_481 FLOAT,\\n dim_482 FLOAT,\\n dim_483 FLOAT,\\n dim_484 FLOAT,\\n dim_485 FLOAT,\\n dim_486 FLOAT,\\n dim_487 FLOAT,\\n dim_488 FLOAT,\\n dim_489 FLOAT,\\n dim_490 FLOAT,\\n dim_491 FLOAT,\\n dim_492 FLOAT,\\n dim_493 FLOAT,\\n dim_494 FLOAT,\\n dim_495 FLOAT,\\n dim_496 FLOAT,\\n dim_497 FLOAT,\\n dim_498 FLOAT,\\n dim_499 FLOAT,\\n dim_500 FLOAT,\\n dim_501 FLOAT,\\n dim_502 FLOAT,\\n dim_503 FLOAT,\\n dim_504 FLOAT,\\n dim_505 FLOAT,\\n dim_506 FLOAT,\\n dim_507 FLOAT,\\n dim_508 FLOAT,\\n dim_509 FLOAT,\\n dim_510 FLOAT,\\n dim_511 FLOAT,\\n dim_512 FLOAT,\\n dim_513 FLOAT,\\n dim_514 FLOAT,\\n dim_515 FLOAT,\\n dim_516 FLOAT,\\n dim_517 FLOAT,\\n dim_518 FLOAT,\\n dim_519 FLOAT,\\n dim_520 FLOAT,\\n dim_521 FLOAT,\\n dim_522 FLOAT,\\n dim_523 FLOAT,\\n dim_524 FLOAT,\\n dim_525 FLOAT,\\n dim_526 FLOAT,\\n dim_527 FLOAT,\\n dim_528 FLOAT,\\n dim_529 FLOAT,\\n dim_530 FLOAT,\\n dim_531 FLOAT,\\n dim_532 FLOAT,\\n dim_533 FLOAT,\\n dim_534 FLOAT,\\n dim_535 FLOAT,\\n dim_536 FLOAT,\\n dim_537 FLOAT,\\n dim_538 FLOAT,\\n dim_539 FLOAT,\\n dim_540 FLOAT,\\n dim_541 FLOAT,\\n dim_542 FLOAT,\\n dim_543 FLOAT,\\n dim_544 FLOAT,\\n dim_545 FLOAT,\\n dim_546 FLOAT,\\n dim_547 FLOAT,\\n dim_548 FLOAT,\\n dim_549 FLOAT,\\n dim_550 FLOAT,\\n dim_551 FLOAT,\\n dim_552 FLOAT,\\n dim_553 FLOAT,\\n dim_554 FLOAT,\\n dim_555 FLOAT,\\n dim_556 FLOAT,\\n dim_557 FLOAT,\\n dim_558 FLOAT,\\n dim_559 FLOAT,\\n dim_560 FLOAT,\\n dim_561 FLOAT,\\n dim_562 FLOAT,\\n dim_563 FLOAT,\\n dim_564 FLOAT,\\n dim_565 FLOAT,\\n dim_566 FLOAT,\\n dim_567 FLOAT,\\n dim_568 FLOAT,\\n dim_569 FLOAT,\\n dim_570 FLOAT,\\n dim_571 FLOAT,\\n dim_572 FLOAT,\\n dim_573 FLOAT,\\n dim_574 FLOAT,\\n dim_575 FLOAT,\\n dim_576 FLOAT,\\n dim_577 FLOAT,\\n dim_578 FLOAT,\\n dim_579 FLOAT,\\n dim_580 FLOAT,\\n dim_581 FLOAT,\\n dim_582 FLOAT,\\n dim_583 FLOAT,\\n dim_584 FLOAT,\\n dim_585 FLOAT,\\n dim_586 FLOAT,\\n dim_587 FLOAT,\\n dim_588 FLOAT,\\n dim_589 FLOAT,\\n dim_590 FLOAT,\\n dim_591 FLOAT,\\n dim_592 FLOAT,\\n dim_593 FLOAT,\\n dim_594 FLOAT,\\n dim_595 FLOAT,\\n dim_596 FLOAT,\\n dim_597 FLOAT,\\n dim_598 FLOAT,\\n dim_599 FLOAT,\\n dim_600 FLOAT,\\n dim_601 FLOAT,\\n dim_602 FLOAT,\\n dim_603 FLOAT,\\n dim_604 FLOAT,\\n dim_605 FLOAT,\\n dim_606 FLOAT,\\n dim_607 FLOAT,\\n dim_608 FLOAT,\\n dim_609 FLOAT,\\n dim_610 FLOAT,\\n dim_611 FLOAT,\\n dim_612 FLOAT,\\n dim_613 FLOAT,\\n dim_614 FLOAT,\\n dim_615 FLOAT,\\n dim_616 FLOAT,\\n dim_617 FLOAT,\\n dim_618 FLOAT,\\n dim_619 FLOAT,\\n dim_620 FLOAT,\\n dim_621 FLOAT,\\n dim_622 FLOAT,\\n dim_623 FLOAT,\\n dim_624 FLOAT,\\n dim_625 FLOAT,\\n dim_626 FLOAT,\\n dim_627 FLOAT,\\n dim_628 FLOAT,\\n dim_629 FLOAT,\\n dim_630 FLOAT,\\n dim_631 FLOAT,\\n dim_632 FLOAT,\\n dim_633 FLOAT,\\n dim_634 FLOAT,\\n dim_635 FLOAT,\\n dim_636 FLOAT,\\n dim_637 FLOAT,\\n dim_638 FLOAT,\\n dim_639 FLOAT,\\n dim_640 FLOAT,\\n dim_641 FLOAT,\\n dim_642 FLOAT,\\n dim_643 FLOAT,\\n dim_644 FLOAT,\\n dim_645 FLOAT,\\n dim_646 FLOAT,\\n dim_647 FLOAT,\\n dim_648 FLOAT,\\n dim_649 FLOAT,\\n dim_650 FLOAT,\\n dim_651 FLOAT,\\n dim_652 FLOAT,\\n dim_653 FLOAT,\\n dim_654 FLOAT,\\n dim_655 FLOAT,\\n dim_656 FLOAT,\\n dim_657 FLOAT,\\n dim_658 FLOAT,\\n dim_659 FLOAT,\\n dim_660 FLOAT,\\n dim_661 FLOAT,\\n dim_662 FLOAT,\\n dim_663 FLOAT,\\n dim_664 FLOAT,\\n dim_665 FLOAT,\\n dim_666 FLOAT,\\n dim_667 FLOAT,\\n dim_668 FLOAT,\\n dim_669 FLOAT,\\n dim_670 FLOAT,\\n dim_671 FLOAT,\\n dim_672 FLOAT,\\n dim_673 FLOAT,\\n dim_674 FLOAT,\\n dim_675 FLOAT,\\n dim_676 FLOAT,\\n dim_677 FLOAT,\\n dim_678 FLOAT,\\n dim_679 FLOAT,\\n dim_680 FLOAT,\\n dim_681 FLOAT,\\n dim_682 FLOAT,\\n dim_683 FLOAT,\\n dim_684 FLOAT,\\n dim_685 FLOAT,\\n dim_686 FLOAT,\\n dim_687 FLOAT,\\n dim_688 FLOAT,\\n dim_689 FLOAT,\\n dim_690 FLOAT,\\n dim_691 FLOAT,\\n dim_692 FLOAT,\\n dim_693 FLOAT,\\n dim_694 FLOAT,\\n dim_695 FLOAT,\\n dim_696 FLOAT,\\n dim_697 FLOAT,\\n dim_698 FLOAT,\\n dim_699 FLOAT,\\n dim_700 FLOAT,\\n dim_701 FLOAT,\\n dim_702 FLOAT,\\n dim_703 FLOAT,\\n dim_704 FLOAT,\\n dim_705 FLOAT,\\n dim_706 FLOAT,\\n dim_707 FLOAT,\\n dim_708 FLOAT,\\n dim_709 FLOAT,\\n dim_710 FLOAT,\\n dim_711 FLOAT,\\n dim_712 FLOAT,\\n dim_713 FLOAT,\\n dim_714 FLOAT,\\n dim_715 FLOAT,\\n dim_716 FLOAT,\\n dim_717 FLOAT,\\n dim_718 FLOAT,\\n dim_719 FLOAT,\\n dim_720 FLOAT,\\n dim_721 FLOAT,\\n dim_722 FLOAT,\\n dim_723 FLOAT,\\n dim_724 FLOAT,\\n dim_725 FLOAT,\\n dim_726 FLOAT,\\n dim_727 FLOAT,\\n dim_728 FLOAT,\\n dim_729 FLOAT,\\n dim_730 FLOAT,\\n dim_731 FLOAT,\\n dim_732 FLOAT,\\n dim_733 FLOAT,\\n dim_734 FLOAT,\\n dim_735 FLOAT,\\n dim_736 FLOAT,\\n dim_737 FLOAT,\\n dim_738 FLOAT,\\n dim_739 FLOAT,\\n dim_740 FLOAT,\\n dim_741 FLOAT,\\n dim_742 FLOAT,\\n dim_743 FLOAT,\\n dim_744 FLOAT,\\n dim_745 FLOAT,\\n dim_746 FLOAT,\\n dim_747 FLOAT,\\n dim_748 FLOAT,\\n dim_749 FLOAT,\\n dim_750 FLOAT,\\n dim_751 FLOAT,\\n dim_752 FLOAT,\\n dim_753 FLOAT,\\n dim_754 FLOAT,\\n dim_755 FLOAT,\\n dim_756 FLOAT,\\n dim_757 FLOAT,\\n dim_758 FLOAT,\\n dim_759 FLOAT,\\n dim_760 FLOAT,\\n dim_761 FLOAT,\\n dim_762 FLOAT,\\n dim_763 FLOAT,\\n dim_764 FLOAT,\\n dim_765 FLOAT,\\n dim_766 FLOAT,\\n dim_767 FLOAT,\\n dim_768 FLOAT,\\n dim_769 FLOAT,\\n dim_770 FLOAT,\\n dim_771 FLOAT,\\n dim_772 FLOAT,\\n dim_773 FLOAT,\\n dim_774 FLOAT,\\n dim_775 FLOAT,\\n dim_776 FLOAT,\\n dim_777 FLOAT,\\n dim_778 FLOAT,\\n dim_779 FLOAT,\\n dim_780 FLOAT,\\n dim_781 FLOAT,\\n dim_782 FLOAT,\\n dim_783 FLOAT,\\n dim_784 FLOAT,\\n dim_785 FLOAT,\\n dim_786 FLOAT,\\n dim_787 FLOAT,\\n dim_788 FLOAT,\\n dim_789 FLOAT,\\n dim_790 FLOAT,\\n dim_791 FLOAT,\\n dim_792 FLOAT,\\n dim_793 FLOAT,\\n dim_794 FLOAT,\\n dim_795 FLOAT,\\n dim_796 FLOAT,\\n dim_797 FLOAT,\\n dim_798 FLOAT,\\n dim_799 FLOAT,\\n dim_800 FLOAT,\\n dim_801 FLOAT,\\n dim_802 FLOAT,\\n dim_803 FLOAT,\\n dim_804 FLOAT,\\n dim_805 FLOAT,\\n dim_806 FLOAT,\\n dim_807 FLOAT,\\n dim_808 FLOAT,\\n dim_809 FLOAT,\\n dim_810 FLOAT,\\n dim_811 FLOAT,\\n dim_812 FLOAT,\\n dim_813 FLOAT,\\n dim_814 FLOAT,\\n dim_815 FLOAT,\\n dim_816 FLOAT,\\n dim_817 FLOAT,\\n dim_818 FLOAT,\\n dim_819 FLOAT,\\n dim_820 FLOAT,\\n dim_821 FLOAT,\\n dim_822 FLOAT,\\n dim_823 FLOAT,\\n dim_824 FLOAT,\\n dim_825 FLOAT,\\n dim_826 FLOAT,\\n dim_827 FLOAT,\\n dim_828 FLOAT,\\n dim_829 FLOAT,\\n dim_830 FLOAT,\\n dim_831 FLOAT,\\n dim_832 FLOAT,\\n dim_833 FLOAT,\\n dim_834 FLOAT,\\n dim_835 FLOAT,\\n dim_836 FLOAT,\\n dim_837 FLOAT,\\n dim_838 FLOAT,\\n dim_839 FLOAT,\\n dim_840 FLOAT,\\n dim_841 FLOAT,\\n dim_842 FLOAT,\\n dim_843 FLOAT,\\n dim_844 FLOAT,\\n dim_845 FLOAT,\\n dim_846 FLOAT,\\n dim_847 FLOAT,\\n dim_848 FLOAT,\\n dim_849 FLOAT,\\n dim_850 FLOAT,\\n dim_851 FLOAT,\\n dim_852 FLOAT,\\n dim_853 FLOAT,\\n dim_854 FLOAT,\\n dim_855 FLOAT,\\n dim_856 FLOAT,\\n dim_857 FLOAT,\\n dim_858 FLOAT,\\n dim_859 FLOAT,\\n dim_860 FLOAT,\\n dim_861 FLOAT,\\n dim_862 FLOAT,\\n dim_863 FLOAT,\\n dim_864 FLOAT,\\n dim_865 FLOAT,\\n dim_866 FLOAT,\\n dim_867 FLOAT,\\n dim_868 FLOAT,\\n dim_869 FLOAT,\\n dim_870 FLOAT,\\n dim_871 FLOAT,\\n dim_872 FLOAT,\\n dim_873 FLOAT,\\n dim_874 FLOAT,\\n dim_875 FLOAT,\\n dim_876 FLOAT,\\n dim_877 FLOAT,\\n dim_878 FLOAT,\\n dim_879 FLOAT,\\n dim_880 FLOAT,\\n dim_881 FLOAT,\\n dim_882 FLOAT,\\n dim_883 FLOAT,\\n dim_884 FLOAT,\\n dim_885 FLOAT,\\n dim_886 FLOAT,\\n dim_887 FLOAT,\\n dim_888 FLOAT,\\n dim_889 FLOAT,\\n dim_890 FLOAT,\\n dim_891 FLOAT,\\n dim_892 FLOAT,\\n dim_893 FLOAT,\\n dim_894 FLOAT,\\n dim_895 FLOAT,\\n dim_896 FLOAT,\\n dim_897 FLOAT,\\n dim_898 FLOAT,\\n dim_899 FLOAT,\\n dim_900 FLOAT,\\n dim_901 FLOAT,\\n dim_902 FLOAT,\\n dim_903 FLOAT,\\n dim_904 FLOAT,\\n dim_905 FLOAT,\\n dim_906 FLOAT,\\n dim_907 FLOAT,\\n dim_908 FLOAT,\\n dim_909 FLOAT,\\n dim_910 FLOAT,\\n dim_911 FLOAT,\\n dim_912 FLOAT,\\n dim_913 FLOAT,\\n dim_914 FLOAT,\\n dim_915 FLOAT,\\n dim_916 FLOAT,\\n dim_917 FLOAT,\\n dim_918 FLOAT,\\n dim_919 FLOAT,\\n dim_920 FLOAT,\\n dim_921 FLOAT,\\n dim_922 FLOAT,\\n dim_923 FLOAT,\\n dim_924 FLOAT,\\n dim_925 FLOAT,\\n dim_926 FLOAT,\\n dim_927 FLOAT,\\n dim_928 FLOAT,\\n dim_929 FLOAT,\\n dim_930 FLOAT,\\n dim_931 FLOAT,\\n dim_932 FLOAT,\\n dim_933 FLOAT,\\n dim_934 FLOAT,\\n dim_935 FLOAT,\\n dim_936 FLOAT,\\n dim_937 FLOAT,\\n dim_938 FLOAT,\\n dim_939 FLOAT,\\n dim_940 FLOAT,\\n dim_941 FLOAT,\\n dim_942 FLOAT,\\n dim_943 FLOAT,\\n dim_944 FLOAT,\\n dim_945 FLOAT,\\n dim_946 FLOAT,\\n dim_947 FLOAT,\\n dim_948 FLOAT,\\n dim_949 FLOAT,\\n dim_950 FLOAT,\\n dim_951 FLOAT,\\n dim_952 FLOAT,\\n dim_953 FLOAT,\\n dim_954 FLOAT,\\n dim_955 FLOAT,\\n dim_956 FLOAT,\\n dim_957 FLOAT,\\n dim_958 FLOAT,\\n dim_959 FLOAT,\\n dim_960 FLOAT,\\n dim_961 FLOAT,\\n dim_962 FLOAT,\\n dim_963 FLOAT,\\n dim_964 FLOAT,\\n dim_965 FLOAT,\\n dim_966 FLOAT,\\n dim_967 FLOAT,\\n dim_968 FLOAT,\\n dim_969 FLOAT,\\n dim_970 FLOAT,\\n dim_971 FLOAT,\\n dim_972 FLOAT,\\n dim_973 FLOAT,\\n dim_974 FLOAT,\\n dim_975 FLOAT,\\n dim_976 FLOAT,\\n dim_977 FLOAT,\\n dim_978 FLOAT,\\n dim_979 FLOAT,\\n dim_980 FLOAT,\\n dim_981 FLOAT,\\n dim_982 FLOAT,\\n dim_983 FLOAT,\\n dim_984 FLOAT,\\n dim_985 FLOAT,\\n dim_986 FLOAT,\\n dim_987 FLOAT,\\n dim_988 FLOAT,\\n dim_989 FLOAT,\\n dim_990 FLOAT,\\n dim_991 FLOAT,\\n dim_992 FLOAT,\\n dim_993 FLOAT,\\n dim_994 FLOAT,\\n dim_995 FLOAT,\\n dim_996 FLOAT,\\n dim_997 FLOAT,\\n dim_998 FLOAT,\\n dim_999 FLOAT,\\n dim_1000 FLOAT,\\n dim_1001 FLOAT,\\n dim_1002 FLOAT,\\n dim_1003 FLOAT,\\n dim_1004 FLOAT,\\n dim_1005 FLOAT,\\n dim_1006 FLOAT,\\n dim_1007 FLOAT,\\n dim_1008 FLOAT,\\n dim_1009 FLOAT,\\n dim_1010 FLOAT,\\n dim_1011 FLOAT,\\n dim_1012 FLOAT,\\n dim_1013 FLOAT,\\n dim_1014 FLOAT,\\n dim_1015 FLOAT,\\n dim_1016 FLOAT,\\n dim_1017 FLOAT,\\n dim_1018 FLOAT,\\n dim_1019 FLOAT,\\n dim_1020 FLOAT,\\n dim_1021 FLOAT,\\n dim_1022 FLOAT,\\n dim_1023 FLOAT'"
      ]
     },
     "execution_count": 12,
     "metadata": {},
     "output_type": "execute_result"
    }
   ],
   "source": [
    "\",\\n \".join([f\"dim_{i} FLOAT\" for i in range(1024)])"
   ]
  },
  {
   "cell_type": "code",
   "execution_count": 19,
   "id": "042734e9",
   "metadata": {},
   "outputs": [],
   "source": [
    "query = f\"\"\"\n",
    "CREATE MULTISET TABLE amurd.p_embeddings (\n",
    "    product_id INTEGER NOT NULL,\n",
    "    {\",\\n \".join([f\"dim_{i} FLOAT\" for i in range(1024)])}\n",
    ") PRIMARY INDEX (product_id);\n",
    "\"\"\""
   ]
  },
  {
   "cell_type": "code",
   "execution_count": 21,
   "id": "c3928e4a",
   "metadata": {},
   "outputs": [
    {
     "ename": "Exception",
     "evalue": "Query execution failed: [Version 20.0.0.34] [Session 1573] [Teradata Database] [Error 3803] Table 'p_embeddings' already exists.\n at gosqldriver/teradatasql.formatError ErrorUtil.go:83\n at gosqldriver/teradatasql.(*teradataConnection).formatDatabaseError ErrorUtil.go:190\n at gosqldriver/teradatasql.(*teradataConnection).makeChainedDatabaseError ErrorUtil.go:206\n at gosqldriver/teradatasql.(*teradataConnection).processErrorParcel TeradataConnection.go:340\n at gosqldriver/teradatasql.(*TeradataRows).processResponseBundle TeradataRows.go:2597\n at gosqldriver/teradatasql.(*TeradataRows).executeSQLRequest TeradataRows.go:1073\n at gosqldriver/teradatasql.newTeradataRows TeradataRows.go:792\n at gosqldriver/teradatasql.(*teradataStatement).QueryContext TeradataStatement.go:122\n at gosqldriver/teradatasql.(*teradataConnection).QueryContext TeradataConnection.go:823\n at database/sql.ctxDriverQuery ctxutil.go:48\n at database/sql.(*DB).queryDC.func1 sql.go:1786\n at database/sql.withLock sql.go:3574\n at database/sql.(*DB).queryDC sql.go:1781\n at database/sql.(*Conn).QueryContext sql.go:2037\n at main.createRows goside.go:1080\n at main.goCreateRows goside.go:959\n at _cgoexp_ff5e33a08e40_goCreateRows _cgo_gotypes.go:417\n at runtime.cgocallbackg1 cgocall.go:446\n at runtime.cgocallbackg cgocall.go:350\n at runtime.cgocallback asm_amd64.s:1084\n at runtime.goexit asm_amd64.s:1700",
     "output_type": "error",
     "traceback": [
      "\u001b[31m---------------------------------------------------------------------------\u001b[39m",
      "\u001b[31mOperationalError\u001b[39m                          Traceback (most recent call last)",
      "\u001b[36mFile \u001b[39m\u001b[32mc:\\Users\\ss255385\\OneDrive - Teradata Corporation\\Desktop\\AMuRD-Iteration-7\\src\\modules\\db.py:54\u001b[39m, in \u001b[36mTeradataDatabase.execute_query\u001b[39m\u001b[34m(self, query)\u001b[39m\n\u001b[32m     53\u001b[39m logger.log_operation(\u001b[33m\"\u001b[39m\u001b[33mQuery execution\u001b[39m\u001b[33m\"\u001b[39m, \u001b[33m\"\u001b[39m\u001b[33mstarted\u001b[39m\u001b[33m\"\u001b[39m, {\u001b[33m\"\u001b[39m\u001b[33mquery\u001b[39m\u001b[33m\"\u001b[39m: query[:\u001b[32m100\u001b[39m] + \u001b[33m\"\u001b[39m\u001b[33m...\u001b[39m\u001b[33m\"\u001b[39m \u001b[38;5;28;01mif\u001b[39;00m \u001b[38;5;28mlen\u001b[39m(query) > \u001b[32m100\u001b[39m \u001b[38;5;28;01melse\u001b[39;00m query})\n\u001b[32m---> \u001b[39m\u001b[32m54\u001b[39m result = \u001b[43mexecute_sql\u001b[49m\u001b[43m(\u001b[49m\u001b[43mquery\u001b[49m\u001b[43m)\u001b[49m\n\u001b[32m     56\u001b[39m columns = [desc[\u001b[32m0\u001b[39m] \u001b[38;5;28;01mfor\u001b[39;00m desc \u001b[38;5;129;01min\u001b[39;00m result.description] \u001b[38;5;28;01mif\u001b[39;00m result.description \u001b[38;5;28;01melse\u001b[39;00m []\n",
      "\u001b[36mFile \u001b[39m\u001b[32mc:\\Users\\ss255385\\AppData\\Local\\Programs\\Python\\Python313\\Lib\\site-packages\\teradataml\\utils\\utils.py:83\u001b[39m, in \u001b[36mexecute_sql\u001b[39m\u001b[34m(statement, parameters)\u001b[39m\n\u001b[32m     82\u001b[39m     cursor = tdsql_con.cursor()\n\u001b[32m---> \u001b[39m\u001b[32m83\u001b[39m     \u001b[38;5;28;01mreturn\u001b[39;00m \u001b[43mcursor\u001b[49m\u001b[43m.\u001b[49m\u001b[43mexecute\u001b[49m\u001b[43m(\u001b[49m\u001b[43mstatement\u001b[49m\u001b[43m,\u001b[49m\u001b[43m \u001b[49m\u001b[43mparameters\u001b[49m\u001b[43m)\u001b[49m\n\u001b[32m     84\u001b[39m \u001b[38;5;28;01melse\u001b[39;00m:\n",
      "\u001b[36mFile \u001b[39m\u001b[32mc:\\Users\\ss255385\\AppData\\Local\\Programs\\Python\\Python313\\Lib\\site-packages\\teradatasql\\__init__.py:755\u001b[39m, in \u001b[36mTeradataCursor.execute\u001b[39m\u001b[34m(self, sOperation, params, ignoreErrors)\u001b[39m\n\u001b[32m    754\u001b[39m \u001b[38;5;28;01mif\u001b[39;00m \u001b[38;5;129;01mnot\u001b[39;00m params:\n\u001b[32m--> \u001b[39m\u001b[32m755\u001b[39m     \u001b[38;5;28;43mself\u001b[39;49m\u001b[43m.\u001b[49m\u001b[43mexecutemany\u001b[49m\u001b[43m \u001b[49m\u001b[43m(\u001b[49m\u001b[43msOperation\u001b[49m\u001b[43m,\u001b[49m\u001b[43m \u001b[49m\u001b[38;5;28;43;01mNone\u001b[39;49;00m\u001b[43m,\u001b[49m\u001b[43m \u001b[49m\u001b[43mignoreErrors\u001b[49m\u001b[43m)\u001b[49m\n\u001b[32m    757\u001b[39m \u001b[38;5;28;01melif\u001b[39;00m \u001b[38;5;28mtype\u001b[39m (params [\u001b[32m0\u001b[39m]) \u001b[38;5;129;01min\u001b[39;00m [\u001b[38;5;28mlist\u001b[39m, \u001b[38;5;28mtuple\u001b[39m]:\n\u001b[32m    758\u001b[39m     \u001b[38;5;66;03m# Excerpt from PEP 249 DBAPI documentation:\u001b[39;00m\n\u001b[32m    759\u001b[39m     \u001b[38;5;66;03m#  The parameters may also be specified as list of tuples to e.g. insert multiple rows in a single\u001b[39;00m\n\u001b[32m    760\u001b[39m     \u001b[38;5;66;03m#  operation, but this kind of usage is deprecated: .executemany() should be used instead.\u001b[39;00m\n",
      "\u001b[36mFile \u001b[39m\u001b[32mc:\\Users\\ss255385\\AppData\\Local\\Programs\\Python\\Python313\\Lib\\site-packages\\teradatasql\\__init__.py:1010\u001b[39m, in \u001b[36mTeradataCursor.executemany\u001b[39m\u001b[34m(self, sOperation, seqOfParams, ignoreErrors)\u001b[39m\n\u001b[32m   1008\u001b[39m         \u001b[38;5;28;01mreturn\u001b[39;00m\n\u001b[32m-> \u001b[39m\u001b[32m1010\u001b[39m     \u001b[38;5;28;01mraise\u001b[39;00m OperationalError (sErr)\n\u001b[32m   1012\u001b[39m \u001b[38;5;28;01mif\u001b[39;00m \u001b[38;5;28mself\u001b[39m.connection.bTimingLog:\n",
      "\u001b[31mOperationalError\u001b[39m: [Version 20.0.0.34] [Session 1573] [Teradata Database] [Error 3803] Table 'p_embeddings' already exists.\n at gosqldriver/teradatasql.formatError ErrorUtil.go:83\n at gosqldriver/teradatasql.(*teradataConnection).formatDatabaseError ErrorUtil.go:190\n at gosqldriver/teradatasql.(*teradataConnection).makeChainedDatabaseError ErrorUtil.go:206\n at gosqldriver/teradatasql.(*teradataConnection).processErrorParcel TeradataConnection.go:340\n at gosqldriver/teradatasql.(*TeradataRows).processResponseBundle TeradataRows.go:2597\n at gosqldriver/teradatasql.(*TeradataRows).executeSQLRequest TeradataRows.go:1073\n at gosqldriver/teradatasql.newTeradataRows TeradataRows.go:792\n at gosqldriver/teradatasql.(*teradataStatement).QueryContext TeradataStatement.go:122\n at gosqldriver/teradatasql.(*teradataConnection).QueryContext TeradataConnection.go:823\n at database/sql.ctxDriverQuery ctxutil.go:48\n at database/sql.(*DB).queryDC.func1 sql.go:1786\n at database/sql.withLock sql.go:3574\n at database/sql.(*DB).queryDC sql.go:1781\n at database/sql.(*Conn).QueryContext sql.go:2037\n at main.createRows goside.go:1080\n at main.goCreateRows goside.go:959\n at _cgoexp_ff5e33a08e40_goCreateRows _cgo_gotypes.go:417\n at runtime.cgocallbackg1 cgocall.go:446\n at runtime.cgocallbackg cgocall.go:350\n at runtime.cgocallback asm_amd64.s:1084\n at runtime.goexit asm_amd64.s:1700",
      "\nDuring handling of the above exception, another exception occurred:\n",
      "\u001b[31mException\u001b[39m                                 Traceback (most recent call last)",
      "\u001b[36mCell\u001b[39m\u001b[36m \u001b[39m\u001b[32mIn[21]\u001b[39m\u001b[32m, line 1\u001b[39m\n\u001b[32m----> \u001b[39m\u001b[32m1\u001b[39m tdf = \u001b[43mtd_db\u001b[49m\u001b[43m.\u001b[49m\u001b[43mexecute_query\u001b[49m\u001b[43m(\u001b[49m\u001b[43mquery\u001b[49m\u001b[43m)\u001b[49m\n",
      "\u001b[36mFile \u001b[39m\u001b[32mc:\\Users\\ss255385\\OneDrive - Teradata Corporation\\Desktop\\AMuRD-Iteration-7\\src\\modules\\db.py:68\u001b[39m, in \u001b[36mTeradataDatabase.execute_query\u001b[39m\u001b[34m(self, query)\u001b[39m\n\u001b[32m     66\u001b[39m \u001b[38;5;28;01mexcept\u001b[39;00m \u001b[38;5;167;01mException\u001b[39;00m \u001b[38;5;28;01mas\u001b[39;00m e:\n\u001b[32m     67\u001b[39m     logger.exception(e, \u001b[33m\"\u001b[39m\u001b[33mquery execution\u001b[39m\u001b[33m\"\u001b[39m)\n\u001b[32m---> \u001b[39m\u001b[32m68\u001b[39m     \u001b[38;5;28;01mraise\u001b[39;00m \u001b[38;5;167;01mException\u001b[39;00m(\u001b[33mf\u001b[39m\u001b[33m\"\u001b[39m\u001b[33mQuery execution failed: \u001b[39m\u001b[38;5;132;01m{\u001b[39;00m\u001b[38;5;28mstr\u001b[39m(e)\u001b[38;5;132;01m}\u001b[39;00m\u001b[33m\"\u001b[39m)\n",
      "\u001b[31mException\u001b[39m: Query execution failed: [Version 20.0.0.34] [Session 1573] [Teradata Database] [Error 3803] Table 'p_embeddings' already exists.\n at gosqldriver/teradatasql.formatError ErrorUtil.go:83\n at gosqldriver/teradatasql.(*teradataConnection).formatDatabaseError ErrorUtil.go:190\n at gosqldriver/teradatasql.(*teradataConnection).makeChainedDatabaseError ErrorUtil.go:206\n at gosqldriver/teradatasql.(*teradataConnection).processErrorParcel TeradataConnection.go:340\n at gosqldriver/teradatasql.(*TeradataRows).processResponseBundle TeradataRows.go:2597\n at gosqldriver/teradatasql.(*TeradataRows).executeSQLRequest TeradataRows.go:1073\n at gosqldriver/teradatasql.newTeradataRows TeradataRows.go:792\n at gosqldriver/teradatasql.(*teradataStatement).QueryContext TeradataStatement.go:122\n at gosqldriver/teradatasql.(*teradataConnection).QueryContext TeradataConnection.go:823\n at database/sql.ctxDriverQuery ctxutil.go:48\n at database/sql.(*DB).queryDC.func1 sql.go:1786\n at database/sql.withLock sql.go:3574\n at database/sql.(*DB).queryDC sql.go:1781\n at database/sql.(*Conn).QueryContext sql.go:2037\n at main.createRows goside.go:1080\n at main.goCreateRows goside.go:959\n at _cgoexp_ff5e33a08e40_goCreateRows _cgo_gotypes.go:417\n at runtime.cgocallbackg1 cgocall.go:446\n at runtime.cgocallbackg cgocall.go:350\n at runtime.cgocallback asm_amd64.s:1084\n at runtime.goexit asm_amd64.s:1700"
     ]
    }
   ],
   "source": [
    "tdf = td_db.execute_query(query)"
   ]
  },
  {
   "cell_type": "code",
   "execution_count": 3,
   "id": "fd75d481",
   "metadata": {},
   "outputs": [],
   "source": [
    "df = pd.read_csv(PRODUCT_TEST_EMBEDDINGS_PATH)"
   ]
  },
  {
   "cell_type": "code",
   "execution_count": 5,
   "id": "d3e15674",
   "metadata": {},
   "outputs": [
    {
     "data": {
      "text/plain": [
       "'[0.00963592529296875, 0.02484130859375, 0.0007691383361816406, -0.05615234375, 0.0118560791015625, -0.028076171875, -0.007808685302734375, 0.01800537109375, 0.0249176025390625, -0.0257720947265625, 0.0245361328125, 0.00820159912109375, -0.03216552734375, -0.0125274658203125, -0.0224761962890625, -0.0284271240234375, -0.033660888671875, 0.0323486328125, -0.006015777587890625, -0.0100250244140625, 0.03485107421875, -0.00897216796875, -0.040252685546875, -0.039215087890625, -0.017791748046875, 0.00446319580078125, -0.033355712890625, -0.03192138671875, -0.049072265625, -0.004787445068359375, -0.01050567626953125, 0.0243377685546875, -0.0310211181640625, -0.06396484375, -0.028228759765625, 0.053955078125, 0.0374755859375, 0.014007568359375, -0.037628173828125, 0.035003662109375, -0.00463104248046875, 0.0278778076171875, 0.01702880859375, -0.038330078125, -0.0220794677734375, 0.032440185546875, 0.021728515625, 0.0052490234375, 1.0251998901367188e-05, 0.047515869140625, 0.036163330078125, 0.00365447998046875, -0.0095367431640625, -0.0325927734375, -0.01267242431640625, 0.0287933349609375, -0.026275634765625, 0.00960540771484375, -0.023284912109375, 0.04852294921875, -0.04327392578125, 0.01007080078125, 0.032928466796875, -0.0350341796875, -0.047271728515625, 0.069091796875, 0.0276336669921875, 0.02813720703125, -0.037567138671875, -0.00217437744140625, -0.033782958984375, 0.02813720703125, -0.0061492919921875, -0.032501220703125, -0.014007568359375, -0.0196685791015625, 0.0428466796875, -0.0124053955078125, 0.00896453857421875, -0.00713348388671875, 0.105712890625, 0.0192108154296875, -0.006443023681640625, -0.03594970703125, 0.01073455810546875, 0.03912353515625, 0.050384521484375, 0.043121337890625, 0.020660400390625, 0.04046630859375, -0.007114410400390625, 0.0153961181640625, 0.01137542724609375, -0.0184478759765625, -0.045196533203125, -0.0266876220703125, 0.0357666015625, 0.030242919921875, -0.022857666015625, -0.0380859375, -0.070556640625, -0.0192108154296875, 0.0218658447265625, -0.010223388671875, -0.016143798828125, 0.03192138671875, 0.0091400146484375, 0.03350830078125, -0.0225982666015625, 0.00635528564453125, 0.0489501953125, 0.035675048828125, 0.00788116455078125, -0.0491943359375, -0.045745849609375, 0.019134521484375, -0.01528167724609375, -0.025482177734375, -0.007106781005859375, 0.0218353271484375, 0.0323486328125, 0.0232086181640625, 0.032073974609375, -0.040679931640625, 0.048614501953125, -0.015106201171875, 0.034759521484375, 0.0181732177734375, -0.033966064453125, 0.01453399658203125, 0.01255035400390625, 0.0122222900390625, -0.055908203125, -0.01300811767578125, -0.011932373046875, -0.0309600830078125, -0.0264129638671875, -0.03662109375, 0.002956390380859375, 0.0217132568359375, -0.0404052734375, 0.016326904296875, 0.0560302734375, -0.0251312255859375, -0.05242919921875, -0.02667236328125, -0.042572021484375, 0.0489501953125, -0.025970458984375, -0.0185546875, -0.02789306640625, -0.01248931884765625, -0.0115814208984375, 0.00933074951171875, 0.0130767822265625, -0.0193328857421875, 0.040069580078125, 0.03765869140625, -0.0034122467041015625, 0.018524169921875, -0.024749755859375, -0.053741455078125, -0.006221771240234375, -0.0167388916015625, -0.0005741119384765625, -0.0250701904296875, 0.0097198486328125, 0.01513671875, 0.007965087890625, -0.021697998046875, -0.01629638671875, -0.041351318359375, 0.0230560302734375, -0.0626220703125, -0.00673675537109375, 0.0531005859375, 0.0132293701171875, 0.0386962890625, 0.04730224609375, -0.0361328125, 0.0186004638671875, 0.010345458984375, 0.03216552734375, -0.03570556640625, -0.048797607421875, 0.01143646240234375, 0.047698974609375, 0.027740478515625, 0.037689208984375, 0.029022216796875, 0.015777587890625, 0.031524658203125, -0.0274200439453125, 0.0426025390625, -0.0173187255859375, 0.04339599609375, 0.038421630859375, 0.0210113525390625, -0.039031982421875, -0.012969970703125, -0.03326416015625, 0.0338134765625, -0.03656005859375, 0.0013246536254882812, 0.0145111083984375, -0.038970947265625, -0.027008056640625, -0.0167999267578125, -0.006282806396484375, -0.01531982421875, -0.0197906494140625, -0.004024505615234375, 0.0204925537109375, 0.0194244384765625, -0.027435302734375, -0.031524658203125, -0.036651611328125, -0.030487060546875, 0.0227508544921875, 0.036468505859375, 0.01078033447265625, 0.056854248046875, -0.00556182861328125, 0.0595703125, 0.022674560546875, 0.0237274169921875, 0.0499267578125, 0.0478515625, 0.0302581787109375, 0.00664520263671875, 0.008331298828125, 0.01102447509765625, -0.037139892578125, -0.0292510986328125, 0.0175628662109375, -0.01259613037109375, -0.034149169921875, -0.01108551025390625, 0.0308837890625, 0.03961181640625, -0.04083251953125, 0.016387939453125, -0.0085906982421875, -0.011688232421875, -0.04376220703125, -0.00048041343688964844, 0.050079345703125, -0.023895263671875, 0.013031005859375, -0.017730712890625, 0.03753662109375, 0.01422119140625, -0.037017822265625, 0.0280914306640625, 0.040618896484375, 0.0506591796875, 0.037811279296875, -0.0283050537109375, -0.032073974609375, -0.052734375, 0.0021610260009765625, -0.01415252685546875, -0.00832366943359375, 0.042388916015625, 0.017059326171875, 0.034393310546875, -0.02587890625, -0.02978515625, -0.033935546875, -0.0158233642578125, -0.030731201171875, -0.0274505615234375, -0.038299560546875, -0.033599853515625, -0.0297698974609375, 0.0190887451171875, -0.004680633544921875, -0.0303955078125, 0.005039215087890625, -0.01059722900390625, 0.006561279296875, -0.0202789306640625, 0.032989501953125, -0.024688720703125, -0.01500701904296875, -0.0120391845703125, 0.0021419525146484375, -0.0102691650390625, 0.01531982421875, -0.0106048583984375, 0.02313232421875, -0.0033721923828125, 0.056793212890625, 0.0289306640625, 0.023956298828125, -0.0245513916015625, -0.045928955078125, 0.01491546630859375, -0.062103271484375, 0.0306549072265625, -0.056732177734375, -0.0238037109375, 0.015869140625, 0.0302886962890625, -0.049468994140625, -0.016357421875, -0.0310211181640625, 0.0283203125, -0.055419921875, 0.0246429443359375, -0.01397705078125, 0.0135345458984375, 0.018798828125, -0.03948974609375, -0.0467529296875, -0.026458740234375, -0.0267333984375, 0.05950927734375, -0.020416259765625, 0.027099609375, -0.045196533203125, -0.04010009765625, -0.0340576171875, 0.0293731689453125, 0.02880859375, 0.0250396728515625, 0.028167724609375, -0.05438232421875, 0.0209503173828125, -0.015350341796875, 0.048492431640625, -0.00717926025390625, 0.0014972686767578125, 0.03948974609375, -0.0266265869140625, 0.04595947265625, -0.03277587890625, 0.0225830078125, 0.04931640625, -0.020477294921875, 0.008392333984375, -0.01016998291015625, -0.032958984375, -0.04010009765625, 0.04815673828125, -0.0517578125, 0.06787109375, -0.0076751708984375, 0.034881591796875, 0.0205841064453125, 0.022613525390625, -0.0187835693359375, 0.053192138671875, 0.0137786865234375, -0.01995849609375, 0.037078857421875, 0.022003173828125, -0.064208984375, 0.02691650390625, -0.033294677734375, 0.0198974609375, 0.029693603515625, 0.0704345703125, -0.038299560546875, -0.0164031982421875, -0.0077972412109375, 0.028839111328125, -0.01519775390625, -0.0259552001953125, -0.0281524658203125, 0.0240020751953125, 0.006175994873046875, -0.0178070068359375, 0.004154205322265625, 0.0099334716796875, -0.023712158203125, -0.11077880859375, -0.016845703125, 0.029571533203125, -0.045623779296875, 0.01181793212890625, -0.024810791015625, 0.031402587890625, -0.036651611328125, -0.0238037109375, -0.020599365234375, 0.1356201171875, 0.01739501953125, 0.0487060546875, -0.053985595703125, -0.03570556640625, 0.02099609375, 0.0247802734375, 0.01934814453125, 0.03790283203125, 0.030242919921875, -0.03338623046875, 0.00475311279296875, 0.038818359375, -0.020233154296875, 0.0289764404296875, 0.0169830322265625, 0.01898193359375, 0.058135986328125, 0.0299530029296875, -0.0211944580078125, 0.0185546875, -0.01409149169921875, 0.05316162109375, 0.0103759765625, -0.037750244140625, -0.0307464599609375, -0.0287933349609375, 0.025543212890625, -0.041900634765625, 0.0179443359375, -0.0506591796875, 0.00576019287109375, -0.04400634765625, -0.00739288330078125, 0.022247314453125, 0.0168304443359375, 0.02099609375, -0.040313720703125, 0.040435791015625, -0.026824951171875, -0.022430419921875, -0.0246124267578125, -0.033599853515625, 0.038848876953125, -0.016845703125, 0.040130615234375, 0.027740478515625, -0.037994384765625, -0.0162200927734375, 0.032379150390625, 0.01873779296875, 0.03497314453125, -0.037506103515625, -0.045166015625, -0.0222625732421875, -0.056671142578125, -0.00994873046875, -0.03704833984375, 0.038726806640625, 0.022918701171875, 0.046661376953125, 0.03204345703125, -0.046600341796875, -0.019439697265625, 0.01502227783203125, 0.033782958984375, -0.03302001953125, -0.0074005126953125, -0.037628173828125, -0.032470703125, -0.0267333984375, -0.0275115966796875, -0.041961669921875, 0.029541015625, 0.034637451171875, -0.023468017578125, -0.0267486572265625, 0.07037353515625, 0.041259765625, -0.0064849853515625, 0.0196685791015625, -0.015411376953125, -0.04730224609375, 0.025848388671875, 0.05230712890625, -0.0300140380859375, 0.06915283203125, 0.0274200439453125, -0.0173797607421875, 0.0022373199462890625, 0.031646728515625, 0.01345062255859375, 0.01253509521484375, 0.0531005859375, 0.020843505859375, -0.03179931640625, 0.025421142578125, 0.03521728515625, -0.028961181640625, -0.018402099609375, -0.046417236328125, 0.0244598388671875, -0.013092041015625, -0.029327392578125, -0.03515625, -0.03668212890625, 0.018798828125, 0.027191162109375, 0.027252197265625, -0.02020263671875, 0.02984619140625, -0.005931854248046875, 0.0257110595703125, -0.034881591796875, 0.0321044921875, 0.0196990966796875, 0.040008544921875, -0.033050537109375, 0.0272674560546875, 0.053985595703125, -0.035736083984375, 0.0258636474609375, -0.0374755859375, 0.057952880859375, -0.0310516357421875, 0.0151824951171875, -0.029052734375, 0.013580322265625, 0.0247344970703125, 0.028228759765625, 0.02337646484375, -0.030548095703125, -0.0019388198852539062, 0.018096923828125, 0.0271148681640625, 0.00144195556640625, 0.01971435546875, -0.0248260498046875, -0.030426025390625, 0.06658935546875, 0.0012416839599609375, 0.04931640625, -0.01462554931640625, 0.03533935546875, 0.009552001953125, 0.0213775634765625, -0.02093505859375, -0.0616455078125, -0.0137786865234375, -0.031280517578125, 0.0247039794921875, -0.02001953125, 0.0194244384765625, 0.0226287841796875, -0.0237579345703125, -0.028717041015625, 0.0308837890625, 0.045623779296875, 0.033966064453125, -0.0330810546875, -0.03363037109375, -0.004673004150390625, 0.0102081298828125, 0.07916259765625, 0.028961181640625, 0.042724609375, -0.01654052734375, 0.019439697265625, 0.0195770263671875, 0.041534423828125, 0.0006489753723144531, -0.0275726318359375, 0.02728271484375, 0.0341796875, 0.0123443603515625, -0.03485107421875, -0.021453857421875, 0.03369140625, -0.0248870849609375, 0.03216552734375, 0.005718231201171875, 0.0185699462890625, 0.051361083984375, -0.0187530517578125, -0.048919677734375, 0.04296875, -0.0138092041015625, -0.0499267578125, -0.0216827392578125, 0.004184722900390625, -0.00029659271240234375, 0.04541015625, -0.033966064453125, 0.0273895263671875, -0.026397705078125, -0.008056640625, 0.0012359619140625, 0.0265655517578125, -0.02117919921875, -0.035614013671875, -0.02252197265625, -0.0308685302734375, -0.0161590576171875, -0.03717041015625, -0.0222625732421875, -0.0141143798828125, 0.01422119140625, -0.00461578369140625, 0.041259765625, 0.0308074951171875, -0.01470947265625, -0.0293426513671875, 0.00983428955078125, 0.027618408203125, 0.0160369873046875, 0.032257080078125, 0.04461669921875, 0.0149993896484375, 0.030792236328125, -0.01355743408203125, 0.0148773193359375, 0.00756072998046875, 0.025421142578125, -0.01788330078125, -0.0290679931640625, -0.029998779296875, 0.0257415771484375, -0.001220703125, -0.016204833984375, -0.044647216796875, -0.00858306884765625, -0.0291900634765625, -0.036041259765625, -0.0445556640625, -0.0408935546875, -0.00786590576171875, -0.00147247314453125, 0.036956787109375, 0.0474853515625, -0.032501220703125, 0.023223876953125, -0.037628173828125, 0.00399017333984375, 0.0226898193359375, -0.0085906982421875, 0.040557861328125, -0.0163421630859375, -0.0211334228515625, 0.056793212890625, 0.0260162353515625, 0.02099609375, -0.04290771484375, 0.03125, 0.0709228515625, -0.038909912109375, -0.021270751953125, 0.025146484375, -0.0281524658203125, -0.0247039794921875, -0.0245513916015625, 0.0203857421875, -0.004093170166015625, -0.04315185546875, -0.0011110305786132812, -0.00760650634765625, 0.0231170654296875, 0.007320404052734375, -0.02783203125, -0.007129669189453125, -0.0439453125, 0.03326416015625, -0.01419830322265625, -0.04522705078125, -0.0308837890625, 0.068359375, 0.0078887939453125, -0.0275726318359375, -0.025787353515625, -0.019500732421875, -0.01531982421875, -0.01331329345703125, 0.06072998046875, 0.01849365234375, -0.00107574462890625, 0.0062103271484375, 0.027618408203125, -0.0216827392578125, 0.044525146484375, -0.004077911376953125, -0.06341552734375, -0.0283050537109375, 0.020111083984375, -0.01316070556640625, 0.042572021484375, -0.0271148681640625, 0.01248931884765625, -0.0157012939453125, -0.0478515625, -0.02490234375, -0.0311431884765625, 0.02783203125, -0.00505828857421875, -0.0352783203125, -0.0235595703125, -0.0325927734375, 0.00962066650390625, -0.0215606689453125, 0.00630950927734375, 0.0601806640625, 0.006465911865234375, -0.01374053955078125, -0.020904541015625, -0.03314208984375, 0.033782958984375, 0.006443023681640625, 0.02252197265625, 0.03448486328125, -0.004207611083984375, 0.01444244384765625, 0.048675537109375, -0.012237548828125, -0.0213470458984375, -0.023406982421875, 0.0010805130004882812, 0.0174560546875, 0.021514892578125, 0.03570556640625, 0.05010986328125, 0.017364501953125, -0.0153961181640625, 0.01165771484375, -0.01027679443359375, -0.04486083984375, -0.041656494140625, -0.046539306640625, -0.032257080078125, -0.00963592529296875, -0.032806396484375, -0.04046630859375, -0.05010986328125, -0.02252197265625, 0.02655029296875, 0.032989501953125, -0.03955078125, 0.040557861328125, 0.036285400390625, -0.016326904296875, 0.025543212890625, -0.01175689697265625, -0.037628173828125, 0.00368499755859375, 0.0455322265625, -0.021392822265625, 0.033172607421875, -0.023406982421875, 0.00806427001953125, -0.041015625, 0.02392578125, -0.004154205322265625, -0.06048583984375, 0.0151824951171875, -0.0015869140625, 0.0104217529296875, -0.017486572265625, -0.0080413818359375, 0.0157470703125, -0.01453399658203125, 0.043426513671875, -0.034820556640625, 0.023468017578125, -0.01050567626953125, -0.0304412841796875, -0.0474853515625, -0.0208587646484375, -0.049560546875, 0.0184783935546875, -0.035736083984375, 0.031341552734375, 0.0303497314453125, 0.0028553009033203125, 0.0025577545166015625, -0.009368896484375, -0.040771484375, -0.05035400390625, 0.04998779296875, -0.046234130859375, 0.0051116943359375, 0.028717041015625, 0.043853759765625, 0.052032470703125, -0.0269927978515625, 0.05908203125, -0.0184173583984375, 0.04644775390625, -0.057220458984375, -0.00580596923828125, 0.003948211669921875, -0.0193328857421875, -0.007633209228515625, -0.02386474609375, -0.021453857421875, 0.0293121337890625, -0.0275115966796875, -0.050262451171875, 0.00592803955078125, 0.0182037353515625, 0.027008056640625, -0.02093505859375, -0.019439697265625, 0.05718994140625, 0.040496826171875, -0.004207611083984375, 0.0360107421875, -0.0308685302734375, 0.01062774658203125, -0.01113128662109375, -0.036468505859375, -0.005069732666015625, 0.02783203125, -0.00962066650390625, 0.06585693359375, 0.0239410400390625, -0.01934814453125, -0.051361083984375, -0.004627227783203125, -0.0034084320068359375, 0.0152740478515625, 0.04931640625, -0.023956298828125, 0.02886962890625, -0.025360107421875, -0.01123809814453125, -0.04522705078125, -0.030426025390625, -0.0260772705078125, -0.0005025863647460938, -0.0211639404296875, 0.006072998046875, -0.0274810791015625, 0.0225677490234375, 0.012298583984375, -0.012939453125, 0.0009946823120117188, -0.04779052734375, -0.03369140625, -0.0291290283203125, 0.02313232421875, 0.04364013671875, 0.0223236083984375, 0.015228271484375, 0.007419586181640625, -0.01702880859375, 0.018829345703125, 0.02093505859375, 0.0234832763671875, -0.0239410400390625, -0.03973388671875, -0.043060302734375, -0.03411865234375, -0.0230560302734375, -0.044830322265625, -0.0282135009765625, -0.032318115234375, 0.041900634765625, 0.0143585205078125, -0.047454833984375, 0.041656494140625, 0.0205078125, 0.037506103515625, -0.0333251953125, -0.021636962890625, 0.0035343170166015625, -0.00035572052001953125, 0.0247955322265625, -0.03753662109375, -0.0281829833984375, 0.004550933837890625, -0.0233306884765625, -0.031463623046875, 0.025787353515625, 0.0186767578125, -0.01422882080078125, -0.03643798828125, 0.020050048828125, -0.058258056640625, -0.0010509490966796875, 0.042144775390625, -0.0321044921875, 0.02392578125, -0.024078369140625, -0.02227783203125, -0.00708770751953125, 0.01245880126953125, 0.035247802734375, -0.05108642578125, -0.009246826171875, 0.012298583984375, 0.00676727294921875, 0.032470703125, -0.0167083740234375, 0.036834716796875, -0.044952392578125, 0.05157470703125, -0.01236724853515625, -0.016937255859375, 0.01364898681640625, -0.037384033203125, 0.003154754638671875, -0.0239105224609375, 0.01934814453125, 0.032684326171875, -0.0095672607421875, -0.04400634765625, 0.0321044921875, -0.020904541015625, -0.05255126953125, 0.036712646484375, -0.003078460693359375, -0.01023101806640625, -0.033905029296875, 0.04742431640625, -0.036041259765625, 0.0020160675048828125, -0.06829833984375, 0.031646728515625, -0.038299560546875, 0.0164642333984375, 0.0035724639892578125, -0.0253448486328125, -0.01325225830078125, -0.0355224609375, 0.07916259765625, -0.0271759033203125, 0.005382537841796875, -0.0284881591796875, -0.00922393798828125, -0.037322998046875, -0.03631591796875, -0.0172882080078125, 0.01922607421875, -0.039031982421875, -0.0190582275390625, -0.06329345703125, -0.02947998046875, 0.024078369140625, -0.03509521484375, -0.01468658447265625, 0.035186767578125, 0.01393890380859375, 0.0128936767578125, 0.003475189208984375, -0.03668212890625, 0.0513916015625, -0.018524169921875, -0.006038665771484375, -0.0010633468627929688, -0.01374053955078125, 0.0292510986328125, -0.009246826171875, -0.0176239013671875, 0.040069580078125, 0.022857666015625, -0.0263671875, -0.042694091796875, 0.00527191162109375, 0.021636962890625, -0.039886474609375, 0.0295562744140625, 0.015106201171875, -0.0136260986328125, 0.058502197265625, 0.02374267578125, 0.0192413330078125, 0.0190887451171875, -0.01824951171875, -0.033172607421875, -0.015655517578125, 0.04302978515625, 0.01312255859375, 0.054840087890625, -0.009368896484375, 0.02703857421875, -0.032196044921875, 0.0394287109375, -0.0249481201171875, 0.0186920166015625, -0.02764892578125, 0.0200042724609375, 0.045501708984375, -0.0152740478515625, -0.01806640625, 0.056121826171875, -0.0211944580078125, 0.0015010833740234375, 0.0133819580078125, -0.0018529891967773438, 0.033477783203125, -0.0258026123046875, -0.040802001953125, 0.00846099853515625, -0.035736083984375, 0.016265869140625, -0.048370361328125, 0.045135498046875, 0.01806640625, -0.0125732421875, -0.0123748779296875, 0.033935546875, 0.02911376953125, 0.043212890625, 0.061370849609375, -0.01186370849609375, 0.01544952392578125, 0.053314208984375, 0.03326416015625, 0.04949951171875, -0.05401611328125, -0.004467010498046875, -0.007965087890625, 0.0214691162109375, -0.0343017578125, 0.037109375, 0.00079345703125, -0.006664276123046875, 0.05938720703125, 0.0205535888671875, 0.00186920166015625, 0.0072784423828125, -0.02178955078125, -0.0352783203125, 0.0181121826171875, -0.0296783447265625, 0.0252532958984375, 0.04150390625, 0.00997161865234375, -0.0140228271484375, -0.0318603515625, 0.0282745361328125]'"
      ]
     },
     "execution_count": 5,
     "metadata": {},
     "output_type": "execute_result"
    }
   ],
   "source": [
    "df['embeddings'].iloc[0]"
   ]
  },
  {
   "cell_type": "code",
   "execution_count": 20,
   "id": "ae03bdfc",
   "metadata": {},
   "outputs": [],
   "source": [
    "import json\n",
    "# for row in df.iterrows():\n",
    "#     id = row[0]\n",
    "#     embeddings = row[1]\n",
    "#     print(id, embeddings)\n",
    "#     break\n",
    "l = json.loads(df.iloc[0, 1])\n",
    "l = [str(embed) for embed in l]\n",
    "queries = \"\"\n",
    "for i in range(len(df)):\n",
    "    id = df.iloc[i, 0]\n",
    "    embeddings = json.loads(df.iloc[i, 1])\n",
    "    embeddings = [str(embed) for embed in embeddings]\n",
    "    queries += f\"\"\"\n",
    "INSERT INTO amurd.p_embeddings VALUES ({id}, {embeddings});\\n\n",
    "\"\"\""
   ]
  },
  {
   "cell_type": "code",
   "execution_count": 22,
   "id": "463324e2",
   "metadata": {},
   "outputs": [],
   "source": [
    "print(queries)"
   ]
  },
  {
   "cell_type": "code",
   "execution_count": null,
   "id": "b215a465",
   "metadata": {},
   "outputs": [],
   "source": [
    "embeddings = pd.DataFrame(df['embeddings'].tolist(),\n",
    "                                   columns=[f\"dim_{i}\" for i in range(1024)])\n",
    "df_expanded = pd.concat([df[['id']], embeddings], axis=1)"
   ]
  },
  {
   "cell_type": "code",
   "execution_count": null,
   "id": "ca43e373",
   "metadata": {},
   "outputs": [],
   "source": [
    "query = f\"\"\"\n",
    "CREATE MULTISET TABLE amurd.c_embeddings (\n",
    "    class_id INTEGER NOT NULL,\n",
    "    {\",\\n \".join([f\"dim_{i} FLOAT\" for i in range(1024)])}\n",
    ") PRIMARY INDEX (class_id);\n",
    "\"\"\""
   ]
  },
  {
   "cell_type": "code",
   "execution_count": null,
   "id": "31f85ded",
   "metadata": {},
   "outputs": [],
   "source": [
    "class_embedding_df = pd.read_csv(CLASS_EMBEDDINGS_PATH)"
   ]
  },
  {
   "cell_type": "code",
   "execution_count": null,
   "id": "63b60530",
   "metadata": {},
   "outputs": [],
   "source": [
    "class_embedding_df = pd.read_csv(CLASS_EMBEDDINGS_PATH)\n",
    "class_id = class_embedding_df[\"id\"]\n",
    "embedding = class_embedding_df[\"embedding\"]"
   ]
  },
  {
   "cell_type": "code",
   "execution_count": null,
   "id": "2a62eb82",
   "metadata": {},
   "outputs": [],
   "source": [
    "df_new = pd.DataFrame({\n",
    "    \"product_id\": class_id,\n",
    "    \"embedding\": embedding\n",
    "})\n",
    "\n",
    "tdf_new = DataFrame(df_new, types={\"embedding\": VECTOR})\n",
    "# copy_to_sql(df_new, table_name=\"product_embeddings\", if_exists=\"replace\", types={\"embedding\": BLOB(4096)})"
   ]
  },
  {
   "cell_type": "markdown",
   "id": "ab70901a",
   "metadata": {},
   "source": [
    "## Disconnect"
   ]
  },
  {
   "cell_type": "code",
   "execution_count": null,
   "id": "d99b60f7",
   "metadata": {},
   "outputs": [],
   "source": [
    "td_db.disconnect()"
   ]
  },
  {
   "cell_type": "code",
   "execution_count": null,
   "id": "65a6c0ee",
   "metadata": {},
   "outputs": [],
   "source": []
  }
 ],
 "metadata": {
  "kernelspec": {
   "display_name": "Python 3",
   "language": "python",
   "name": "python3"
  },
  "language_info": {
   "codemirror_mode": {
    "name": "ipython",
    "version": 3
   },
   "file_extension": ".py",
   "mimetype": "text/x-python",
   "name": "python",
   "nbconvert_exporter": "python",
   "pygments_lexer": "ipython3",
   "version": "3.13.5"
  }
 },
 "nbformat": 4,
 "nbformat_minor": 5
}
