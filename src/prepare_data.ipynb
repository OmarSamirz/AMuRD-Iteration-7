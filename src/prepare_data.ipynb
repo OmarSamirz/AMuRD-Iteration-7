{
 "cells": [
  {
   "cell_type": "markdown",
   "id": "e262c5fc",
   "metadata": {},
   "source": [
    "# Import packages"
   ]
  },
  {
   "cell_type": "code",
   "execution_count": 1,
   "id": "5cff14ac",
   "metadata": {},
   "outputs": [
    {
     "name": "stderr",
     "output_type": "stream",
     "text": [
      "[nltk_data] Downloading package stopwords to\n",
      "[nltk_data]     C:\\Users\\os255022\\AppData\\Roaming\\nltk_data...\n",
      "[nltk_data]   Package stopwords is already up-to-date!\n"
     ]
    },
    {
     "name": "stdout",
     "output_type": "stream",
     "text": [
      "Log directory cleaned: c:\\internship\\AMuRD-Iteration-7\\src\\logs\n",
      "Logger initialized. All logs will be saved to: c:\\internship\\AMuRD-Iteration-7\\src\\logs\\borai_20250811_161150.log\n"
     ]
    }
   ],
   "source": [
    "import pandas as pd\n",
    "from teradataml import *\n",
    "\n",
    "from utils import clean_text\n",
    "from constants import TEST_DATA_PATH\n",
    "from moduels.db import TeradataDatabase"
   ]
  },
  {
   "cell_type": "markdown",
   "id": "b2b3aa3e",
   "metadata": {},
   "source": [
    "## Connect to database"
   ]
  },
  {
   "cell_type": "code",
   "execution_count": 2,
   "id": "b5a80968",
   "metadata": {},
   "outputs": [],
   "source": [
    "td_db = TeradataDatabase()\n",
    "td_db.connect()"
   ]
  },
  {
   "cell_type": "markdown",
   "id": "2b044c27",
   "metadata": {},
   "source": [
    "## Load data to database"
   ]
  },
  {
   "cell_type": "code",
   "execution_count": null,
   "id": "43a42a44",
   "metadata": {},
   "outputs": [
    {
     "data": {
      "text/html": [
       "<div>\n",
       "<style scoped>\n",
       "    .dataframe tbody tr th:only-of-type {\n",
       "        vertical-align: middle;\n",
       "    }\n",
       "\n",
       "    .dataframe tbody tr th {\n",
       "        vertical-align: top;\n",
       "    }\n",
       "\n",
       "    .dataframe thead th {\n",
       "        text-align: right;\n",
       "    }\n",
       "</style>\n",
       "<table border=\"1\" class=\"dataframe\">\n",
       "  <thead>\n",
       "    <tr style=\"text-align: right;\">\n",
       "      <th></th>\n",
       "      <th>Item_Name</th>\n",
       "      <th>class</th>\n",
       "      <th>Brand</th>\n",
       "      <th>Weight</th>\n",
       "      <th>Number of units</th>\n",
       "      <th>Size of units</th>\n",
       "      <th>Price</th>\n",
       "      <th>T.Price</th>\n",
       "      <th>Pack</th>\n",
       "      <th>Unit</th>\n",
       "    </tr>\n",
       "  </thead>\n",
       "  <tbody>\n",
       "    <tr>\n",
       "      <th>0</th>\n",
       "      <td>Americana Okra zero 400 gm</td>\n",
       "      <td>Vegetables &amp; Fruits</td>\n",
       "      <td>Americana</td>\n",
       "      <td>400gm</td>\n",
       "      <td>1</td>\n",
       "      <td>NaN</td>\n",
       "      <td>NaN</td>\n",
       "      <td>NaN</td>\n",
       "      <td>كيس</td>\n",
       "      <td>gm</td>\n",
       "    </tr>\n",
       "    <tr>\n",
       "      <th>1</th>\n",
       "      <td>ليمون اداليا 500 جم</td>\n",
       "      <td>Tins, Jars &amp; Packets</td>\n",
       "      <td>NaN</td>\n",
       "      <td>500جم</td>\n",
       "      <td>1</td>\n",
       "      <td>NaN</td>\n",
       "      <td>NaN</td>\n",
       "      <td>NaN</td>\n",
       "      <td>علبة</td>\n",
       "      <td>جم</td>\n",
       "    </tr>\n",
       "    <tr>\n",
       "      <th>2</th>\n",
       "      <td>صلصه هاينز برطمان خصم عرض</td>\n",
       "      <td>Tins, Jars &amp; Packets</td>\n",
       "      <td>هاينز</td>\n",
       "      <td>NaN</td>\n",
       "      <td>1</td>\n",
       "      <td>NaN</td>\n",
       "      <td>NaN</td>\n",
       "      <td>NaN</td>\n",
       "      <td>علبة</td>\n",
       "      <td>NaN</td>\n",
       "    </tr>\n",
       "    <tr>\n",
       "      <th>3</th>\n",
       "      <td>Dasani water 330ML</td>\n",
       "      <td>Water</td>\n",
       "      <td>Dasani</td>\n",
       "      <td>330مل</td>\n",
       "      <td>1</td>\n",
       "      <td>NaN</td>\n",
       "      <td>NaN</td>\n",
       "      <td>NaN</td>\n",
       "      <td>زجاجة</td>\n",
       "      <td>مل</td>\n",
       "    </tr>\n",
       "    <tr>\n",
       "      <th>4</th>\n",
       "      <td>بودرة عصير أناناس من سورس، 900 جم</td>\n",
       "      <td>Soft Drinks &amp; Juices</td>\n",
       "      <td>سورس</td>\n",
       "      <td>900جم</td>\n",
       "      <td>1</td>\n",
       "      <td>NaN</td>\n",
       "      <td>NaN</td>\n",
       "      <td>NaN</td>\n",
       "      <td>عبوة</td>\n",
       "      <td>جم</td>\n",
       "    </tr>\n",
       "  </tbody>\n",
       "</table>\n",
       "</div>"
      ],
      "text/plain": [
       "                           Item_Name                 class      Brand Weight  \\\n",
       "0         Americana Okra zero 400 gm   Vegetables & Fruits  Americana  400gm   \n",
       "1                ليمون اداليا 500 جم  Tins, Jars & Packets        NaN  500جم   \n",
       "2          صلصه هاينز برطمان خصم عرض  Tins, Jars & Packets      هاينز    NaN   \n",
       "3                 Dasani water 330ML                 Water     Dasani  330مل   \n",
       "4  بودرة عصير أناناس من سورس، 900 جم  Soft Drinks & Juices       سورس  900جم   \n",
       "\n",
       "   Number of units Size of units  Price  T.Price   Pack Unit  \n",
       "0                1           NaN    NaN      NaN    كيس   gm  \n",
       "1                1           NaN    NaN      NaN   علبة   جم  \n",
       "2                1           NaN    NaN      NaN   علبة  NaN  \n",
       "3                1           NaN    NaN      NaN  زجاجة   مل  \n",
       "4                1           NaN    NaN      NaN   عبوة   جم  "
      ]
     },
     "execution_count": 3,
     "metadata": {},
     "output_type": "execute_result"
    }
   ],
   "source": [
    "df = pd.read_csv(TEST_DATA_PATH)\n",
    "df.head()"
   ]
  },
  {
   "cell_type": "code",
   "execution_count": null,
   "id": "6a00ee2d",
   "metadata": {},
   "outputs": [],
   "source": [
    "df = df[[\"Item_Name\", \"Brand\"]]\n",
    "df.rename(columns={\"Item_Name\": \"product_name\", \"Brand\": \"brand_name\"}, inplace=True)"
   ]
  },
  {
   "cell_type": "code",
   "execution_count": null,
   "id": "5515fc25",
   "metadata": {},
   "outputs": [
    {
     "data": {
      "text/html": [
       "<div>\n",
       "<style scoped>\n",
       "    .dataframe tbody tr th:only-of-type {\n",
       "        vertical-align: middle;\n",
       "    }\n",
       "\n",
       "    .dataframe tbody tr th {\n",
       "        vertical-align: top;\n",
       "    }\n",
       "\n",
       "    .dataframe thead th {\n",
       "        text-align: right;\n",
       "    }\n",
       "</style>\n",
       "<table border=\"1\" class=\"dataframe\">\n",
       "  <thead>\n",
       "    <tr style=\"text-align: right;\">\n",
       "      <th></th>\n",
       "      <th>product_name</th>\n",
       "      <th>brand_name</th>\n",
       "    </tr>\n",
       "  </thead>\n",
       "  <tbody>\n",
       "    <tr>\n",
       "      <th>0</th>\n",
       "      <td>Americana Okra zero 400 gm</td>\n",
       "      <td>Americana</td>\n",
       "    </tr>\n",
       "    <tr>\n",
       "      <th>1</th>\n",
       "      <td>ليمون اداليا 500 جم</td>\n",
       "      <td>NaN</td>\n",
       "    </tr>\n",
       "    <tr>\n",
       "      <th>2</th>\n",
       "      <td>صلصه هاينز برطمان خصم عرض</td>\n",
       "      <td>هاينز</td>\n",
       "    </tr>\n",
       "    <tr>\n",
       "      <th>3</th>\n",
       "      <td>Dasani water 330ML</td>\n",
       "      <td>Dasani</td>\n",
       "    </tr>\n",
       "    <tr>\n",
       "      <th>4</th>\n",
       "      <td>بودرة عصير أناناس من سورس، 900 جم</td>\n",
       "      <td>سورس</td>\n",
       "    </tr>\n",
       "    <tr>\n",
       "      <th>...</th>\n",
       "      <td>...</td>\n",
       "      <td>...</td>\n",
       "    </tr>\n",
       "    <tr>\n",
       "      <th>4767</th>\n",
       "      <td>كادبورى شوكولاته كريسبللو 34ج</td>\n",
       "      <td>كادبورى</td>\n",
       "    </tr>\n",
       "    <tr>\n",
       "      <th>4768</th>\n",
       "      <td>جهينه كوكتيل 1ل</td>\n",
       "      <td>جهينه</td>\n",
       "    </tr>\n",
       "    <tr>\n",
       "      <th>4769</th>\n",
       "      <td>دبل ديرى مشروب بنكهه ليمون 275مل</td>\n",
       "      <td>دبل ديرى</td>\n",
       "    </tr>\n",
       "    <tr>\n",
       "      <th>4770</th>\n",
       "      <td>Galaxy Smooth Milk Chocolate 24 x 36g</td>\n",
       "      <td>Galaxy</td>\n",
       "    </tr>\n",
       "    <tr>\n",
       "      <th>4772</th>\n",
       "      <td>ابو عوف معمول شيكولاتة علبه</td>\n",
       "      <td>ابو عوف</td>\n",
       "    </tr>\n",
       "  </tbody>\n",
       "</table>\n",
       "<p>4573 rows × 2 columns</p>\n",
       "</div>"
      ],
      "text/plain": [
       "                               product_name brand_name\n",
       "0                Americana Okra zero 400 gm  Americana\n",
       "1                       ليمون اداليا 500 جم        NaN\n",
       "2                 صلصه هاينز برطمان خصم عرض      هاينز\n",
       "3                        Dasani water 330ML     Dasani\n",
       "4         بودرة عصير أناناس من سورس، 900 جم       سورس\n",
       "...                                     ...        ...\n",
       "4767          كادبورى شوكولاته كريسبللو 34ج    كادبورى\n",
       "4768                        جهينه كوكتيل 1ل      جهينه\n",
       "4769       دبل ديرى مشروب بنكهه ليمون 275مل   دبل ديرى\n",
       "4770  Galaxy Smooth Milk Chocolate 24 x 36g     Galaxy\n",
       "4772            ابو عوف معمول شيكولاتة علبه    ابو عوف\n",
       "\n",
       "[4573 rows x 2 columns]"
      ]
     },
     "execution_count": 5,
     "metadata": {},
     "output_type": "execute_result"
    }
   ],
   "source": [
    "df.drop_duplicates(subset=[\"product_name\"], inplace=True)\n",
    "df.dropna(subset=[\"product_name\"], inplace=True)\n",
    "df"
   ]
  },
  {
   "cell_type": "code",
   "execution_count": null,
   "id": "77b21e24",
   "metadata": {},
   "outputs": [],
   "source": [
    "df[\"brand_name\"] = df[\"brand_name\"].astype(str)"
   ]
  },
  {
   "cell_type": "code",
   "execution_count": null,
   "id": "a1092c2a",
   "metadata": {},
   "outputs": [],
   "source": [
    "tdf = DataFrame(df)"
   ]
  },
  {
   "cell_type": "code",
   "execution_count": null,
   "id": "ca482ab8",
   "metadata": {},
   "outputs": [
    {
     "data": {
      "application/vnd.jupyter.widget-view+json": {
       "model_id": "a6bd9dc3abea438ab985103df23c1f8d",
       "version_major": 2,
       "version_minor": 0
      },
      "text/plain": []
     },
     "metadata": {},
     "output_type": "display_data"
    },
    {
     "data": {
      "text/html": [
       "<style type=\"text/css\">\n",
       "\ttable { border:ridge 5px}\n",
       "\ttable td {border:inset 1px;}\n",
       "\ttable tr#HeaderRow {background-color:grey; color:white;}\n",
       "\t</style>\n",
       "<html><table style=\"min-width:1000px;\">\n",
       "\t<tr id=\"HeaderRow\">\n",
       "<th>product_name</th><th>brand_name</th><th>product_id</th>\n",
       "</tr>\n",
       "\t<tr>\n",
       "\t\t<td>صلصه هاينز برطمان خصم عرض</td>\n",
       "\t\t<td>هاينز</td>\n",
       "\t\t<td>2</td>\n",
       "\t</tr>\n",
       "\t<tr>\n",
       "\t\t<td>بودرة عصير أناناس من سورس، 900 جم</td>\n",
       "\t\t<td>سورس</td>\n",
       "\t\t<td>4</td>\n",
       "\t</tr>\n",
       "\t<tr>\n",
       "\t\t<td>بسكو مصر لوكس 6 قطعه علبه 12</td>\n",
       "\t\t<td>بسكو مصر لوكس</td>\n",
       "\t\t<td>5</td>\n",
       "\t</tr>\n",
       "\t<tr>\n",
       "\t\t<td>Anise  - 100g</td>\n",
       "\t\t<td>nan</td>\n",
       "\t\t<td>6</td>\n",
       "\t</tr>\n",
       "\t<tr>\n",
       "\t\t<td>مسحوق برسيل جيل باللافندر - 3.9 كجم</td>\n",
       "\t\t<td>برسيل</td>\n",
       "\t\t<td>8</td>\n",
       "\t</tr>\n",
       "\t<tr>\n",
       "\t\t<td>شكولاته الشمعدان بيور بندق</td>\n",
       "\t\t<td>الشمعدان</td>\n",
       "\t\t<td>9</td>\n",
       "\t</tr>\n",
       "\t<tr>\n",
       "\t\t<td>لوبيا بلدى - 500 جم</td>\n",
       "\t\t<td>nan</td>\n",
       "\t\t<td>7</td>\n",
       "\t</tr>\n",
       "\t<tr>\n",
       "\t\t<td>Dasani water 330ML</td>\n",
       "\t\t<td>Dasani</td>\n",
       "\t\t<td>3</td>\n",
       "\t</tr>\n",
       "\t<tr>\n",
       "\t\t<td>ليمون اداليا 500 جم</td>\n",
       "\t\t<td>nan</td>\n",
       "\t\t<td>1</td>\n",
       "\t</tr>\n",
       "\t<tr>\n",
       "\t\t<td>Americana Okra zero 400 gm</td>\n",
       "\t\t<td>Americana</td>\n",
       "\t\t<td>0</td>\n",
       "\t</tr>\n",
       "</table></html>"
      ],
      "text/plain": [
       "                          product_name     brand_name  product_id\n",
       "0            صلصه هاينز برطمان خصم عرض          هاينز           2\n",
       "1    بودرة عصير أناناس من سورس، 900 جم           سورس           4\n",
       "2         بسكو مصر لوكس 6 قطعه علبه 12  بسكو مصر لوكس           5\n",
       "3                        Anise  - 100g            nan           6\n",
       "4  مسحوق برسيل جيل باللافندر - 3.9 كجم          برسيل           8\n",
       "5           شكولاته الشمعدان بيور بندق       الشمعدان           9\n",
       "6                  لوبيا بلدى - 500 جم            nan           7\n",
       "7                   Dasani water 330ML         Dasani           3\n",
       "8                  ليمون اداليا 500 جم            nan           1\n",
       "9           Americana Okra zero 400 gm      Americana           0"
      ]
     },
     "execution_count": 8,
     "metadata": {},
     "output_type": "execute_result"
    }
   ],
   "source": [
    "tdf = tdf.assign(product_id=tdf.index_label)\n",
    "tdf = tdf.drop(columns=[\"index_label\"])\n",
    "tdf"
   ]
  },
  {
   "cell_type": "code",
   "execution_count": null,
   "id": "415bf272",
   "metadata": {},
   "outputs": [
    {
     "data": {
      "application/vnd.jupyter.widget-view+json": {
       "model_id": "ac96203a6a934116a3fc0c56b4e7708b",
       "version_major": 2,
       "version_minor": 0
      },
      "text/plain": []
     },
     "metadata": {},
     "output_type": "display_data"
    },
    {
     "data": {
      "text/html": [
       "<style type=\"text/css\">\n",
       "\ttable { border:ridge 5px}\n",
       "\ttable td {border:inset 1px;}\n",
       "\ttable tr#HeaderRow {background-color:grey; color:white;}\n",
       "\t</style>\n",
       "<html><table style=\"min-width:1000px;\">\n",
       "\t<tr id=\"HeaderRow\">\n",
       "<th>product_id</th><th>product_name</th><th>brand_name</th>\n",
       "</tr>\n",
       "\t<tr>\n",
       "\t\t<td>2</td>\n",
       "\t\t<td>صلصه هاينز برطمان خصم عرض</td>\n",
       "\t\t<td>هاينز</td>\n",
       "\t</tr>\n",
       "\t<tr>\n",
       "\t\t<td>4</td>\n",
       "\t\t<td>بودرة عصير أناناس من سورس، 900 جم</td>\n",
       "\t\t<td>سورس</td>\n",
       "\t</tr>\n",
       "\t<tr>\n",
       "\t\t<td>5</td>\n",
       "\t\t<td>بسكو مصر لوكس 6 قطعه علبه 12</td>\n",
       "\t\t<td>بسكو مصر لوكس</td>\n",
       "\t</tr>\n",
       "\t<tr>\n",
       "\t\t<td>6</td>\n",
       "\t\t<td>Anise  - 100g</td>\n",
       "\t\t<td>nan</td>\n",
       "\t</tr>\n",
       "\t<tr>\n",
       "\t\t<td>8</td>\n",
       "\t\t<td>مسحوق برسيل جيل باللافندر - 3.9 كجم</td>\n",
       "\t\t<td>برسيل</td>\n",
       "\t</tr>\n",
       "\t<tr>\n",
       "\t\t<td>9</td>\n",
       "\t\t<td>شكولاته الشمعدان بيور بندق</td>\n",
       "\t\t<td>الشمعدان</td>\n",
       "\t</tr>\n",
       "\t<tr>\n",
       "\t\t<td>7</td>\n",
       "\t\t<td>لوبيا بلدى - 500 جم</td>\n",
       "\t\t<td>nan</td>\n",
       "\t</tr>\n",
       "\t<tr>\n",
       "\t\t<td>3</td>\n",
       "\t\t<td>Dasani water 330ML</td>\n",
       "\t\t<td>Dasani</td>\n",
       "\t</tr>\n",
       "\t<tr>\n",
       "\t\t<td>1</td>\n",
       "\t\t<td>ليمون اداليا 500 جم</td>\n",
       "\t\t<td>nan</td>\n",
       "\t</tr>\n",
       "\t<tr>\n",
       "\t\t<td>0</td>\n",
       "\t\t<td>Americana Okra zero 400 gm</td>\n",
       "\t\t<td>Americana</td>\n",
       "\t</tr>\n",
       "</table></html>"
      ],
      "text/plain": [
       "   product_id                         product_name     brand_name\n",
       "0           2            صلصه هاينز برطمان خصم عرض          هاينز\n",
       "1           4    بودرة عصير أناناس من سورس، 900 جم           سورس\n",
       "2           5         بسكو مصر لوكس 6 قطعه علبه 12  بسكو مصر لوكس\n",
       "3           6                        Anise  - 100g            nan\n",
       "4           8  مسحوق برسيل جيل باللافندر - 3.9 كجم          برسيل\n",
       "5           9           شكولاته الشمعدان بيور بندق       الشمعدان\n",
       "6           7                  لوبيا بلدى - 500 جم            nan\n",
       "7           3                   Dasani water 330ML         Dasani\n",
       "8           1                  ليمون اداليا 500 جم            nan\n",
       "9           0           Americana Okra zero 400 gm      Americana"
      ]
     },
     "execution_count": 9,
     "metadata": {},
     "output_type": "execute_result"
    }
   ],
   "source": [
    "tdf = tdf.select([\"product_id\", \"product_name\", \"brand_name\"])\n",
    "tdf"
   ]
  },
  {
   "cell_type": "code",
   "execution_count": null,
   "id": "2cb70c9d",
   "metadata": {},
   "outputs": [],
   "source": [
    "copy_to_sql(tdf, \"products\", \"amurd\", if_exists=\"replace\")"
   ]
  },
  {
   "cell_type": "markdown",
   "id": "a73aaf3b",
   "metadata": {},
   "source": [
    "## Load table from database"
   ]
  },
  {
   "cell_type": "code",
   "execution_count": 3,
   "id": "c3928e4a",
   "metadata": {},
   "outputs": [
    {
     "data": {
      "application/vnd.jupyter.widget-view+json": {
       "model_id": "49bf641eef334e1c86b309c237bab03d",
       "version_major": 2,
       "version_minor": 0
      },
      "text/plain": []
     },
     "metadata": {},
     "output_type": "display_data"
    },
    {
     "data": {
      "text/html": [
       "<style type=\"text/css\">\n",
       "\ttable { border:ridge 5px}\n",
       "\ttable td {border:inset 1px;}\n",
       "\ttable tr#HeaderRow {background-color:grey; color:white;}\n",
       "\t</style>\n",
       "<html><table style=\"min-width:1000px;\">\n",
       "\t<tr id=\"HeaderRow\">\n",
       "<th>product_id</th><th>product_name</th><th>brand_name</th><th>index_label</th>\n",
       "</tr>\n",
       "\t<tr>\n",
       "\t\t<td>2</td>\n",
       "\t\t<td>صلصه هاينز برطمان خصم عرض</td>\n",
       "\t\t<td>هاينز</td>\n",
       "\t\t<td>2</td>\n",
       "\t</tr>\n",
       "\t<tr>\n",
       "\t\t<td>4</td>\n",
       "\t\t<td>بودرة عصير أناناس من سورس، 900 جم</td>\n",
       "\t\t<td>سورس</td>\n",
       "\t\t<td>4</td>\n",
       "\t</tr>\n",
       "\t<tr>\n",
       "\t\t<td>5</td>\n",
       "\t\t<td>بسكو مصر لوكس 6 قطعه علبه 12</td>\n",
       "\t\t<td>بسكو مصر لوكس</td>\n",
       "\t\t<td>5</td>\n",
       "\t</tr>\n",
       "\t<tr>\n",
       "\t\t<td>6</td>\n",
       "\t\t<td>Anise  - 100g</td>\n",
       "\t\t<td>nan</td>\n",
       "\t\t<td>6</td>\n",
       "\t</tr>\n",
       "\t<tr>\n",
       "\t\t<td>8</td>\n",
       "\t\t<td>مسحوق برسيل جيل باللافندر - 3.9 كجم</td>\n",
       "\t\t<td>برسيل</td>\n",
       "\t\t<td>8</td>\n",
       "\t</tr>\n",
       "\t<tr>\n",
       "\t\t<td>9</td>\n",
       "\t\t<td>شكولاته الشمعدان بيور بندق</td>\n",
       "\t\t<td>الشمعدان</td>\n",
       "\t\t<td>9</td>\n",
       "\t</tr>\n",
       "\t<tr>\n",
       "\t\t<td>7</td>\n",
       "\t\t<td>لوبيا بلدى - 500 جم</td>\n",
       "\t\t<td>nan</td>\n",
       "\t\t<td>7</td>\n",
       "\t</tr>\n",
       "\t<tr>\n",
       "\t\t<td>3</td>\n",
       "\t\t<td>Dasani water 330ML</td>\n",
       "\t\t<td>Dasani</td>\n",
       "\t\t<td>3</td>\n",
       "\t</tr>\n",
       "\t<tr>\n",
       "\t\t<td>1</td>\n",
       "\t\t<td>ليمون اداليا 500 جم</td>\n",
       "\t\t<td>nan</td>\n",
       "\t\t<td>1</td>\n",
       "\t</tr>\n",
       "\t<tr>\n",
       "\t\t<td>0</td>\n",
       "\t\t<td>Americana Okra zero 400 gm</td>\n",
       "\t\t<td>Americana</td>\n",
       "\t\t<td>0</td>\n",
       "\t</tr>\n",
       "</table></html>"
      ],
      "text/plain": [
       "   product_id                         product_name     brand_name  index_label\n",
       "0           2            صلصه هاينز برطمان خصم عرض          هاينز            2\n",
       "1           4    بودرة عصير أناناس من سورس، 900 جم           سورس            4\n",
       "2           5         بسكو مصر لوكس 6 قطعه علبه 12  بسكو مصر لوكس            5\n",
       "3           6                        Anise  - 100g            nan            6\n",
       "4           8  مسحوق برسيل جيل باللافندر - 3.9 كجم          برسيل            8\n",
       "5           9           شكولاته الشمعدان بيور بندق       الشمعدان            9\n",
       "6           7                  لوبيا بلدى - 500 جم            nan            7\n",
       "7           3                   Dasani water 330ML         Dasani            3\n",
       "8           1                  ليمون اداليا 500 جم            nan            1\n",
       "9           0           Americana Okra zero 400 gm      Americana            0"
      ]
     },
     "execution_count": 3,
     "metadata": {},
     "output_type": "execute_result"
    }
   ],
   "source": [
    "tdf = td_db.execute_query(\"SELECT * FROM amurd.products\")\n",
    "tdf = DataFrame(tdf)\n",
    "tdf"
   ]
  },
  {
   "cell_type": "code",
   "execution_count": 4,
   "id": "8f66418d",
   "metadata": {},
   "outputs": [
    {
     "ename": "RuntimeError",
     "evalue": "[Teradata][teradataml](TDML_2551) Authentication Token is required to run 'list_user_envs'. Set it using set_auth_token().",
     "output_type": "error",
     "traceback": [
      "\u001b[31m---------------------------------------------------------------------------\u001b[39m",
      "\u001b[31mRuntimeError\u001b[39m                              Traceback (most recent call last)",
      "\u001b[36mCell\u001b[39m\u001b[36m \u001b[39m\u001b[32mIn[4]\u001b[39m\u001b[32m, line 2\u001b[39m\n\u001b[32m      1\u001b[39m \u001b[38;5;66;03m# set_auth_token(base_url=\"test-environment-zxmlsctr5gru8885.env.clearscape.teradata.com\")\u001b[39;00m\n\u001b[32m----> \u001b[39m\u001b[32m2\u001b[39m \u001b[43mtdf\u001b[49m\u001b[43m.\u001b[49m\u001b[43mapply\u001b[49m\u001b[43m(\u001b[49m\u001b[43mclean_text\u001b[49m\u001b[43m,\u001b[49m\u001b[43m \u001b[49m\u001b[43menv_name\u001b[49m\u001b[43m=\u001b[49m\u001b[33;43m\"\u001b[39;49m\u001b[33;43miteration6\u001b[39;49m\u001b[33;43m\"\u001b[39;49m\u001b[43m)\u001b[49m\n",
      "\u001b[36mFile \u001b[39m\u001b[32mc:\\internship\\AMuRD-Iteration-7\\.venv\\Lib\\site-packages\\teradataml\\telemetry_utils\\queryband.py:50\u001b[39m, in \u001b[36mcollect_queryband.<locals>.outer_wrapper.<locals>.inner_wrapper\u001b[39m\u001b[34m(*func_args, **func_kwargs)\u001b[39m\n\u001b[32m     45\u001b[39m \u001b[38;5;129m@wraps\u001b[39m(func)\n\u001b[32m     46\u001b[39m \u001b[38;5;28;01mdef\u001b[39;00m\u001b[38;5;250m \u001b[39m\u001b[34minner_wrapper\u001b[39m(*func_args, **func_kwargs):\n\u001b[32m     47\u001b[39m     \u001b[38;5;66;03m# Pass the required argument 'session_queryband' along with other\u001b[39;00m\n\u001b[32m     48\u001b[39m     \u001b[38;5;66;03m# expected arguments to collect_queryband() decorator which is\u001b[39;00m\n\u001b[32m     49\u001b[39m     \u001b[38;5;66;03m# imported as tdsqlalchemy_collect_queryband.\u001b[39;00m\n\u001b[32m---> \u001b[39m\u001b[32m50\u001b[39m     \u001b[38;5;28;01mreturn\u001b[39;00m \u001b[43mtdsqlalchemy_collect_queryband\u001b[49m\u001b[43m(\u001b[49m\u001b[43msession_queryband\u001b[49m\u001b[43m,\u001b[49m\u001b[43m \u001b[49m\u001b[43m*\u001b[49m\u001b[43mqb_deco_pos_args\u001b[49m\u001b[43m,\u001b[49m\u001b[43m \u001b[49m\u001b[43m*\u001b[49m\u001b[43m*\u001b[49m\u001b[43mqb_deco_kwargs\u001b[49m\u001b[43m)\u001b[49m\u001b[43m(\u001b[49m\u001b[43mfunc\u001b[49m\u001b[43m)\u001b[49m\u001b[43m(\u001b[49m\u001b[43m*\u001b[49m\u001b[43mfunc_args\u001b[49m\u001b[43m,\u001b[49m\u001b[43m \u001b[49m\u001b[43m*\u001b[49m\u001b[43m*\u001b[49m\u001b[43mfunc_kwargs\u001b[49m\u001b[43m)\u001b[49m\n",
      "\u001b[36mFile \u001b[39m\u001b[32mc:\\internship\\AMuRD-Iteration-7\\.venv\\Lib\\site-packages\\teradatasqlalchemy\\telemetry\\queryband.py:382\u001b[39m, in \u001b[36mcollect_queryband.<locals>.qb_decorator.<locals>.wrapper\u001b[39m\u001b[34m(*args, **kwargs)\u001b[39m\n\u001b[32m    379\u001b[39m     \u001b[38;5;66;03m# Append queryband to buffer.\u001b[39;00m\n\u001b[32m    380\u001b[39m     session_queryband.append_qb(qb_str)\n\u001b[32m--> \u001b[39m\u001b[32m382\u001b[39m \u001b[38;5;28;01mreturn\u001b[39;00m \u001b[43mexposed_func\u001b[49m\u001b[43m(\u001b[49m\u001b[43m*\u001b[49m\u001b[43margs\u001b[49m\u001b[43m,\u001b[49m\u001b[43m \u001b[49m\u001b[43m*\u001b[49m\u001b[43m*\u001b[49m\u001b[43mkwargs\u001b[49m\u001b[43m)\u001b[49m\n",
      "\u001b[36mFile \u001b[39m\u001b[32mc:\\internship\\AMuRD-Iteration-7\\.venv\\Lib\\site-packages\\teradataml\\dataframe\\dataframe.py:13336\u001b[39m, in \u001b[36mDataFrame.apply\u001b[39m\u001b[34m(self, user_function, exec_mode, chunk_size, num_rows, **kwargs)\u001b[39m\n\u001b[32m  13315\u001b[39m     \u001b[38;5;28;01mraise\u001b[39;00m \u001b[38;5;167;01mTypeError\u001b[39;00m(Messages.get_message(MessageCodes.UNKNOWN_ARGUMENT,\n\u001b[32m  13316\u001b[39m                                          \u001b[33m\"\u001b[39m\u001b[33mapply\u001b[39m\u001b[33m\"\u001b[39m, unknown_args[\u001b[32m0\u001b[39m]))\n\u001b[32m  13318\u001b[39m tbl_op_util = _TableOperatorUtils(arg_info_matrix, \u001b[38;5;28mself\u001b[39m, \u001b[33m\"\u001b[39m\u001b[33mapply\u001b[39m\u001b[33m\"\u001b[39m,\n\u001b[32m  13319\u001b[39m                                   user_function, exec_mode,\n\u001b[32m  13320\u001b[39m                                   chunk_size=chunk_size,\n\u001b[32m   (...)\u001b[39m\u001b[32m  13333\u001b[39m                                   style=style,\n\u001b[32m  13334\u001b[39m                                   debug=debug)\n\u001b[32m> \u001b[39m\u001b[32m13336\u001b[39m \u001b[38;5;28;01mreturn\u001b[39;00m \u001b[43mtbl_op_util\u001b[49m\u001b[43m.\u001b[49m\u001b[43mexecute\u001b[49m\u001b[43m(\u001b[49m\u001b[43m)\u001b[49m\n",
      "\u001b[36mFile \u001b[39m\u001b[32mc:\\internship\\AMuRD-Iteration-7\\.venv\\Lib\\site-packages\\teradataml\\table_operators\\table_operator_util.py:463\u001b[39m, in \u001b[36m_TableOperatorUtils.execute\u001b[39m\u001b[34m(self)\u001b[39m\n\u001b[32m    460\u001b[39m         \u001b[38;5;28;01mreturn\u001b[39;00m \u001b[38;5;28mself\u001b[39m.__execute_script_table_operator()\n\u001b[32m    461\u001b[39m     \u001b[38;5;28;01melif\u001b[39;00m \u001b[38;5;28mself\u001b[39m.operation == TableOperatorConstants.APPLY_OP.value \u001b[38;5;129;01mor\u001b[39;00m \\\n\u001b[32m    462\u001b[39m         (\u001b[38;5;28mself\u001b[39m.operation == TableOperatorConstants.UDF_OP.value \u001b[38;5;129;01mand\u001b[39;00m \u001b[38;5;28mself\u001b[39m.exec_mode == \u001b[33m'\u001b[39m\u001b[33mREMOTE\u001b[39m\u001b[33m'\u001b[39m):\n\u001b[32m--> \u001b[39m\u001b[32m463\u001b[39m         \u001b[38;5;28;01mreturn\u001b[39;00m \u001b[38;5;28;43mself\u001b[39;49m\u001b[43m.\u001b[49m\u001b[43m__execute_apply_table_operator\u001b[49m\u001b[43m(\u001b[49m\u001b[43m)\u001b[49m\n\u001b[32m    464\u001b[39m \u001b[38;5;28;01mexcept\u001b[39;00m \u001b[38;5;167;01mException\u001b[39;00m:\n\u001b[32m    465\u001b[39m     \u001b[38;5;28;01mraise\u001b[39;00m\n",
      "\u001b[36mFile \u001b[39m\u001b[32mc:\\internship\\AMuRD-Iteration-7\\.venv\\Lib\\site-packages\\teradataml\\table_operators\\table_operator_util.py:614\u001b[39m, in \u001b[36m_TableOperatorUtils.__execute_apply_table_operator\u001b[39m\u001b[34m(self)\u001b[39m\n\u001b[32m    612\u001b[39m \u001b[38;5;66;03m# First create Apply Table operator object so that validations are done on inputs.\u001b[39;00m\n\u001b[32m    613\u001b[39m \u001b[38;5;28;01mfrom\u001b[39;00m\u001b[38;5;250m \u001b[39m\u001b[34;01mteradataml\u001b[39;00m\u001b[34;01m.\u001b[39;00m\u001b[34;01mtable_operators\u001b[39;00m\u001b[34;01m.\u001b[39;00m\u001b[34;01mApply\u001b[39;00m\u001b[38;5;250m \u001b[39m\u001b[38;5;28;01mimport\u001b[39;00m Apply\n\u001b[32m--> \u001b[39m\u001b[32m614\u001b[39m apply_op_obj = \u001b[43mApply\u001b[49m\u001b[43m(\u001b[49m\u001b[43mdata\u001b[49m\u001b[43m=\u001b[49m\u001b[38;5;28;43mself\u001b[39;49m\u001b[43m.\u001b[49m\u001b[43mdata\u001b[49m\u001b[43m,\u001b[49m\n\u001b[32m    615\u001b[39m \u001b[43m                     \u001b[49m\u001b[43mscript_name\u001b[49m\u001b[43m=\u001b[49m\u001b[38;5;28;43mself\u001b[39;49m\u001b[43m.\u001b[49m\u001b[43mscript_name\u001b[49m\u001b[43m,\u001b[49m\n\u001b[32m    616\u001b[39m \u001b[43m                     \u001b[49m\u001b[43menv_name\u001b[49m\u001b[43m=\u001b[49m\u001b[38;5;28;43mself\u001b[39;49m\u001b[43m.\u001b[49m\u001b[43menv_name\u001b[49m\u001b[43m,\u001b[49m\n\u001b[32m    617\u001b[39m \u001b[43m                     \u001b[49m\u001b[43mfiles_local_path\u001b[49m\u001b[43m=\u001b[49m\u001b[43mGarbageCollector\u001b[49m\u001b[43m.\u001b[49m\u001b[43m_get_temp_dir_name\u001b[49m\u001b[43m(\u001b[49m\u001b[43m)\u001b[49m\u001b[43m,\u001b[49m\n\u001b[32m    618\u001b[39m \u001b[43m                     \u001b[49m\u001b[43mapply_command\u001b[49m\u001b[43m=\u001b[49m\u001b[33;43m\"\u001b[39;49m\u001b[33;43mpython3 \u001b[39;49m\u001b[38;5;132;43;01m{}\u001b[39;49;00m\u001b[33;43m\"\u001b[39;49m\u001b[43m.\u001b[49m\u001b[43mformat\u001b[49m\u001b[43m(\u001b[49m\u001b[38;5;28;43mself\u001b[39;49m\u001b[43m.\u001b[49m\u001b[43mscript_name\u001b[49m\u001b[43m)\u001b[49m\u001b[43m,\u001b[49m\n\u001b[32m    619\u001b[39m \u001b[43m                     \u001b[49m\u001b[43mreturns\u001b[49m\u001b[43m=\u001b[49m\u001b[38;5;28;43mself\u001b[39;49m\u001b[43m.\u001b[49m\u001b[43mreturns\u001b[49m\u001b[43m,\u001b[49m\n\u001b[32m    620\u001b[39m \u001b[43m                     \u001b[49m\u001b[43mdelimiter\u001b[49m\u001b[43m=\u001b[49m\u001b[38;5;28;43mself\u001b[39;49m\u001b[43m.\u001b[49m\u001b[43mdelimiter\u001b[49m\u001b[43m,\u001b[49m\n\u001b[32m    621\u001b[39m \u001b[43m                     \u001b[49m\u001b[43mquotechar\u001b[49m\u001b[43m=\u001b[49m\u001b[38;5;28;43mself\u001b[39;49m\u001b[43m.\u001b[49m\u001b[43mquotechar\u001b[49m\u001b[43m,\u001b[49m\n\u001b[32m    622\u001b[39m \u001b[43m                     \u001b[49m\u001b[43mdata_order_column\u001b[49m\u001b[43m=\u001b[49m\u001b[38;5;28;43mself\u001b[39;49m\u001b[43m.\u001b[49m\u001b[43mdata_order_column\u001b[49m\u001b[43m,\u001b[49m\n\u001b[32m    623\u001b[39m \u001b[43m                     \u001b[49m\u001b[43mis_local_order\u001b[49m\u001b[43m=\u001b[49m\u001b[38;5;28;43mself\u001b[39;49m\u001b[43m.\u001b[49m\u001b[43mis_local_order\u001b[49m\u001b[43m,\u001b[49m\n\u001b[32m    624\u001b[39m \u001b[43m                     \u001b[49m\u001b[43msort_ascending\u001b[49m\u001b[43m=\u001b[49m\u001b[38;5;28;43mself\u001b[39;49m\u001b[43m.\u001b[49m\u001b[43msort_ascending\u001b[49m\u001b[43m,\u001b[49m\n\u001b[32m    625\u001b[39m \u001b[43m                     \u001b[49m\u001b[43mnulls_first\u001b[49m\u001b[43m=\u001b[49m\u001b[38;5;28;43mself\u001b[39;49m\u001b[43m.\u001b[49m\u001b[43mnulls_first\u001b[49m\u001b[43m,\u001b[49m\n\u001b[32m    626\u001b[39m \u001b[43m                     \u001b[49m\u001b[43mdata_partition_column\u001b[49m\u001b[43m=\u001b[49m\u001b[38;5;28;43mself\u001b[39;49m\u001b[43m.\u001b[49m\u001b[43mdata_partition_column\u001b[49m\u001b[43m,\u001b[49m\n\u001b[32m    627\u001b[39m \u001b[43m                     \u001b[49m\u001b[43mdata_hash_column\u001b[49m\u001b[43m=\u001b[49m\u001b[38;5;28;43mself\u001b[39;49m\u001b[43m.\u001b[49m\u001b[43mdata_hash_column\u001b[49m\u001b[43m,\u001b[49m\n\u001b[32m    628\u001b[39m \u001b[43m                     \u001b[49m\u001b[43mstyle\u001b[49m\u001b[43m=\u001b[49m\u001b[38;5;28;43mself\u001b[39;49m\u001b[43m.\u001b[49m\u001b[43mstyle\u001b[49m\u001b[43m,\u001b[49m\n\u001b[32m    629\u001b[39m \u001b[43m                     \u001b[49m\u001b[43m_validate_version\u001b[49m\u001b[43m=\u001b[49m\u001b[38;5;28;43mself\u001b[39;49m\u001b[43m.\u001b[49m\u001b[43m_validate_version\u001b[49m\u001b[43m,\u001b[49m\n\u001b[32m    630\u001b[39m \u001b[43m                     \u001b[49m\u001b[43m_func_name\u001b[49m\u001b[43m \u001b[49m\u001b[43m=\u001b[49m\u001b[43m \u001b[49m\u001b[38;5;28;43mself\u001b[39;49m\u001b[43m.\u001b[49m\u001b[43moperation\u001b[49m\u001b[43m,\u001b[49m\n\u001b[32m    631\u001b[39m \u001b[43m                     \u001b[49m\u001b[43m_packages\u001b[49m\u001b[43m \u001b[49m\u001b[43m=\u001b[49m\u001b[43m \u001b[49m\u001b[38;5;28;43mself\u001b[39;49m\u001b[43m.\u001b[49m\u001b[43mpackages\u001b[49m\n\u001b[32m    632\u001b[39m \u001b[43m                     \u001b[49m\u001b[43m)\u001b[49m\n\u001b[32m    634\u001b[39m \u001b[38;5;66;03m# APPLY operator requires installation and deletion of script file.\u001b[39;00m\n\u001b[32m    635\u001b[39m \u001b[38;5;66;03m# Get the UserEnv object and store it in a variable.\u001b[39;00m\n\u001b[32m    636\u001b[39m \u001b[38;5;28mself\u001b[39m.__env = get_env(apply_op_obj.env_name) \u001b[38;5;28;01mif\u001b[39;00m \u001b[38;5;28misinstance\u001b[39m(apply_op_obj.env_name, \u001b[38;5;28mstr\u001b[39m) \\\n\u001b[32m    637\u001b[39m     \u001b[38;5;28;01melse\u001b[39;00m apply_op_obj.env_name\n",
      "\u001b[36mFile \u001b[39m\u001b[32mc:\\internship\\AMuRD-Iteration-7\\.venv\\Lib\\site-packages\\teradataml\\table_operators\\Apply.py:357\u001b[39m, in \u001b[36mApply.__init__\u001b[39m\u001b[34m(self, data, script_name, files_local_path, apply_command, delimiter, returns, quotechar, env_name, style, data_partition_column, data_hash_column, data_order_column, is_local_order, sort_ascending, nulls_first, **kwargs)\u001b[39m\n\u001b[32m    354\u001b[39m \u001b[38;5;66;03m# Check if validation for Python and python package versions mismatch is required.\u001b[39;00m\n\u001b[32m    355\u001b[39m \u001b[38;5;28;01mif\u001b[39;00m _validation_required:\n\u001b[32m    356\u001b[39m     \u001b[38;5;66;03m# Check if the Python interpreter major versions are consistent between Vantage and local.\u001b[39;00m\n\u001b[32m--> \u001b[39m\u001b[32m357\u001b[39m     \u001b[43mUtilFuncs\u001b[49m\u001b[43m.\u001b[49m\u001b[43m_check_python_version_diff\u001b[49m\u001b[43m(\u001b[49m\u001b[38;5;28;43mself\u001b[39;49m\u001b[43m.\u001b[49m\u001b[43menv_name\u001b[49m\u001b[43m)\u001b[49m\n\u001b[32m    358\u001b[39m     \u001b[38;5;66;03m# Check if the package versions are consistent between Vantage and local.\u001b[39;00m\n\u001b[32m    359\u001b[39m     UtilFuncs._check_package_version_diff(_func_name, _packages, \u001b[38;5;28mself\u001b[39m.env_name)\n",
      "\u001b[36mFile \u001b[39m\u001b[32mc:\\internship\\AMuRD-Iteration-7\\.venv\\Lib\\site-packages\\teradataml\\common\\utils.py:2755\u001b[39m, in \u001b[36mUtilFuncs._check_python_version_diff\u001b[39m\u001b[34m(env)\u001b[39m\n\u001b[32m   2753\u001b[39m \u001b[38;5;28;01mfrom\u001b[39;00m\u001b[38;5;250m \u001b[39m\u001b[34;01mteradataml\u001b[39;00m\u001b[34;01m.\u001b[39;00m\u001b[34;01mscriptmgmt\u001b[39;00m\u001b[34;01m.\u001b[39;00m\u001b[34;01mlls_utils\u001b[39;00m\u001b[38;5;250m \u001b[39m\u001b[38;5;28;01mimport\u001b[39;00m list_user_envs\n\u001b[32m   2754\u001b[39m \u001b[38;5;28;01mfrom\u001b[39;00m\u001b[38;5;250m \u001b[39m\u001b[34;01mteradataml\u001b[39;00m\u001b[34;01m.\u001b[39;00m\u001b[34;01mscriptmgmt\u001b[39;00m\u001b[34;01m.\u001b[39;00m\u001b[34;01mUserEnv\u001b[39;00m\u001b[38;5;250m \u001b[39m\u001b[38;5;28;01mimport\u001b[39;00m UserEnv\n\u001b[32m-> \u001b[39m\u001b[32m2755\u001b[39m env_list = \u001b[43mlist_user_envs\u001b[49m\u001b[43m(\u001b[49m\u001b[43m)\u001b[49m\n\u001b[32m   2756\u001b[39m user_env_name = env.env_name \u001b[38;5;28;01mif\u001b[39;00m \u001b[38;5;28misinstance\u001b[39m(env, UserEnv) \u001b[38;5;28;01melse\u001b[39;00m env\n\u001b[32m   2757\u001b[39m env_base_version = env_list[env_list[\u001b[33m'\u001b[39m\u001b[33menv_name\u001b[39m\u001b[33m'\u001b[39m] == user_env_name].base_env_name.values\n",
      "\u001b[36mFile \u001b[39m\u001b[32mc:\\internship\\AMuRD-Iteration-7\\.venv\\Lib\\site-packages\\teradataml\\telemetry_utils\\queryband.py:50\u001b[39m, in \u001b[36mcollect_queryband.<locals>.outer_wrapper.<locals>.inner_wrapper\u001b[39m\u001b[34m(*func_args, **func_kwargs)\u001b[39m\n\u001b[32m     45\u001b[39m \u001b[38;5;129m@wraps\u001b[39m(func)\n\u001b[32m     46\u001b[39m \u001b[38;5;28;01mdef\u001b[39;00m\u001b[38;5;250m \u001b[39m\u001b[34minner_wrapper\u001b[39m(*func_args, **func_kwargs):\n\u001b[32m     47\u001b[39m     \u001b[38;5;66;03m# Pass the required argument 'session_queryband' along with other\u001b[39;00m\n\u001b[32m     48\u001b[39m     \u001b[38;5;66;03m# expected arguments to collect_queryband() decorator which is\u001b[39;00m\n\u001b[32m     49\u001b[39m     \u001b[38;5;66;03m# imported as tdsqlalchemy_collect_queryband.\u001b[39;00m\n\u001b[32m---> \u001b[39m\u001b[32m50\u001b[39m     \u001b[38;5;28;01mreturn\u001b[39;00m \u001b[43mtdsqlalchemy_collect_queryband\u001b[49m\u001b[43m(\u001b[49m\u001b[43msession_queryband\u001b[49m\u001b[43m,\u001b[49m\u001b[43m \u001b[49m\u001b[43m*\u001b[49m\u001b[43mqb_deco_pos_args\u001b[49m\u001b[43m,\u001b[49m\u001b[43m \u001b[49m\u001b[43m*\u001b[49m\u001b[43m*\u001b[49m\u001b[43mqb_deco_kwargs\u001b[49m\u001b[43m)\u001b[49m\u001b[43m(\u001b[49m\u001b[43mfunc\u001b[49m\u001b[43m)\u001b[49m\u001b[43m(\u001b[49m\u001b[43m*\u001b[49m\u001b[43mfunc_args\u001b[49m\u001b[43m,\u001b[49m\u001b[43m \u001b[49m\u001b[43m*\u001b[49m\u001b[43m*\u001b[49m\u001b[43mfunc_kwargs\u001b[49m\u001b[43m)\u001b[49m\n",
      "\u001b[36mFile \u001b[39m\u001b[32mc:\\internship\\AMuRD-Iteration-7\\.venv\\Lib\\site-packages\\teradatasqlalchemy\\telemetry\\queryband.py:382\u001b[39m, in \u001b[36mcollect_queryband.<locals>.qb_decorator.<locals>.wrapper\u001b[39m\u001b[34m(*args, **kwargs)\u001b[39m\n\u001b[32m    379\u001b[39m     \u001b[38;5;66;03m# Append queryband to buffer.\u001b[39;00m\n\u001b[32m    380\u001b[39m     session_queryband.append_qb(qb_str)\n\u001b[32m--> \u001b[39m\u001b[32m382\u001b[39m \u001b[38;5;28;01mreturn\u001b[39;00m \u001b[43mexposed_func\u001b[49m\u001b[43m(\u001b[49m\u001b[43m*\u001b[49m\u001b[43margs\u001b[49m\u001b[43m,\u001b[49m\u001b[43m \u001b[49m\u001b[43m*\u001b[49m\u001b[43m*\u001b[49m\u001b[43mkwargs\u001b[49m\u001b[43m)\u001b[49m\n",
      "\u001b[36mFile \u001b[39m\u001b[32mc:\\internship\\AMuRD-Iteration-7\\.venv\\Lib\\site-packages\\teradataml\\scriptmgmt\\lls_utils.py:307\u001b[39m, in \u001b[36mlist_user_envs\u001b[39m\u001b[34m(env_name, **kwargs)\u001b[39m\n\u001b[32m    304\u001b[39m _Validators._validate_function_arguments(__arg_info_matrix)\n\u001b[32m    306\u001b[39m \u001b[38;5;28;01mtry\u001b[39;00m:\n\u001b[32m--> \u001b[39m\u001b[32m307\u001b[39m     response = UtilFuncs._http_request(\u001b[43m_get_ues_url\u001b[49m\u001b[43m(\u001b[49m\u001b[43m)\u001b[49m, headers=_get_auth_token())\n\u001b[32m    308\u001b[39m     \u001b[38;5;66;03m# Below condition is special case handling when remove_all_envs() used by user, remove_all_envs()\u001b[39;00m\n\u001b[32m    309\u001b[39m     \u001b[38;5;66;03m# removes all the envs which result in a status_code 404 and due to which warnings provided in\u001b[39;00m\n\u001b[32m    310\u001b[39m     \u001b[38;5;66;03m# list_user_envs() not appears.\u001b[39;00m\n\u001b[32m    311\u001b[39m     \u001b[38;5;28;01mif\u001b[39;00m response.status_code == \u001b[32m404\u001b[39m \u001b[38;5;129;01mand\u001b[39;00m \u001b[33m\"\u001b[39m\u001b[33mNo user environments found.\u001b[39m\u001b[33m\"\u001b[39m \u001b[38;5;129;01min\u001b[39;00m response.text:\n",
      "\u001b[36mFile \u001b[39m\u001b[32mc:\\internship\\AMuRD-Iteration-7\\.venv\\Lib\\site-packages\\teradataml\\scriptmgmt\\UserEnv.py:93\u001b[39m, in \u001b[36m_get_ues_url\u001b[39m\u001b[34m(env_type, **kwargs)\u001b[39m\n\u001b[32m     90\u001b[39m \u001b[38;5;28;01mif\u001b[39;00m configure.ues_url \u001b[38;5;129;01mis\u001b[39;00m \u001b[38;5;28;01mNone\u001b[39;00m:\n\u001b[32m     91\u001b[39m     error_msg = Messages.get_message(MessageCodes.SET_REQUIRED_PARAMS,\n\u001b[32m     92\u001b[39m                                      \u001b[33m'\u001b[39m\u001b[33mAuthentication Token\u001b[39m\u001b[33m'\u001b[39m, api_name, \u001b[33m'\u001b[39m\u001b[33mset_auth_token\u001b[39m\u001b[33m'\u001b[39m)\n\u001b[32m---> \u001b[39m\u001b[32m93\u001b[39m     \u001b[38;5;28;01mraise\u001b[39;00m \u001b[38;5;167;01mRuntimeError\u001b[39;00m(error_msg)\n\u001b[32m     95\u001b[39m ues_url = \u001b[33m\"\u001b[39m\u001b[38;5;132;01m{}\u001b[39;00m\u001b[33m/\u001b[39m\u001b[38;5;132;01m{}\u001b[39;00m\u001b[33m\"\u001b[39m.format(configure.ues_url, env_type)\n\u001b[32m     97\u001b[39m \u001b[38;5;28;01mif\u001b[39;00m kwargs.get(\u001b[33m\"\u001b[39m\u001b[33mremove_all_envs\u001b[39m\u001b[33m\"\u001b[39m, \u001b[38;5;28;01mFalse\u001b[39;00m):\n",
      "\u001b[31mRuntimeError\u001b[39m: [Teradata][teradataml](TDML_2551) Authentication Token is required to run 'list_user_envs'. Set it using set_auth_token()."
     ]
    }
   ],
   "source": [
    "# set_auth_token(base_url=\"test-environment-zxmlsctr5gru8885.env.clearscape.teradata.com\")\n",
    "tdf.apply(clean_text, env_name=\"iteration6\")\n"
   ]
  },
  {
   "cell_type": "code",
   "execution_count": 4,
   "id": "d549dd1b",
   "metadata": {},
   "outputs": [],
   "source": [
    "configure.ues_url"
   ]
  },
  {
   "cell_type": "markdown",
   "id": "ab70901a",
   "metadata": {},
   "source": [
    "## Disconnect"
   ]
  },
  {
   "cell_type": "code",
   "execution_count": null,
   "id": "d99b60f7",
   "metadata": {},
   "outputs": [],
   "source": [
    "td_db.disconnect()"
   ]
  },
  {
   "cell_type": "code",
   "execution_count": null,
   "id": "65a6c0ee",
   "metadata": {},
   "outputs": [],
   "source": []
  }
 ],
 "metadata": {
  "kernelspec": {
   "display_name": ".venv (3.12.9)",
   "language": "python",
   "name": "python3"
  },
  "language_info": {
   "codemirror_mode": {
    "name": "ipython",
    "version": 3
   },
   "file_extension": ".py",
   "mimetype": "text/x-python",
   "name": "python",
   "nbconvert_exporter": "python",
   "pygments_lexer": "ipython3",
   "version": "3.12.9"
  }
 },
 "nbformat": 4,
 "nbformat_minor": 5
}
