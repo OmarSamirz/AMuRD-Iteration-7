{
 "cells": [
  {
   "cell_type": "markdown",
   "id": "e262c5fc",
   "metadata": {},
   "source": [
    "# Import packages"
   ]
  },
  {
   "cell_type": "code",
   "execution_count": 5,
   "id": "5cff14ac",
   "metadata": {},
   "outputs": [],
   "source": [
    "import pandas as pd\n",
    "from teradataml import *\n",
    "import ast\n",
    "from teradataml.dataframe.copy_to import copy_to_sql\n",
    "\n",
    "from modules.db import TeradataDatabase\n",
    "from utils import clean_text, load_embedding_model\n",
    "from constants import CLEANED_TEST_DATA_PATH, CLASS_EMBEDDINGS_PATH, PRODUCT_TEST_EMBEDDINGS_PATH, CLEANED_GPC_PATH, CLEANED_TEST_DATA_PATH, TEST_DATA_PATH, E5_LARGE_INSTRUCT_CONFIG_PATH"
   ]
  },
  {
   "cell_type": "markdown",
   "id": "b2b3aa3e",
   "metadata": {},
   "source": [
    "## Connect to database"
   ]
  },
  {
   "cell_type": "code",
   "execution_count": 6,
   "id": "b5a80968",
   "metadata": {},
   "outputs": [],
   "source": [
    "td_db = TeradataDatabase()\n",
    "td_db.connect()"
   ]
  },
  {
   "cell_type": "markdown",
   "id": "2b044c27",
   "metadata": {},
   "source": [
    "### Insert Product Names in DB"
   ]
  },
  {
   "cell_type": "code",
   "execution_count": 7,
   "id": "43a42a44",
   "metadata": {},
   "outputs": [
    {
     "data": {
      "text/html": [
       "<div>\n",
       "<style scoped>\n",
       "    .dataframe tbody tr th:only-of-type {\n",
       "        vertical-align: middle;\n",
       "    }\n",
       "\n",
       "    .dataframe tbody tr th {\n",
       "        vertical-align: top;\n",
       "    }\n",
       "\n",
       "    .dataframe thead th {\n",
       "        text-align: right;\n",
       "    }\n",
       "</style>\n",
       "<table border=\"1\" class=\"dataframe\">\n",
       "  <thead>\n",
       "    <tr style=\"text-align: right;\">\n",
       "      <th></th>\n",
       "      <th>id</th>\n",
       "      <th>Item_Name</th>\n",
       "      <th>translated_text</th>\n",
       "      <th>cleaned_text</th>\n",
       "    </tr>\n",
       "  </thead>\n",
       "  <tbody>\n",
       "    <tr>\n",
       "      <th>0</th>\n",
       "      <td>0</td>\n",
       "      <td>Americana Okra zero 400 gm</td>\n",
       "      <td>Americana Okra zero 400 gm</td>\n",
       "      <td>americana okra zero gm</td>\n",
       "    </tr>\n",
       "    <tr>\n",
       "      <th>1</th>\n",
       "      <td>1</td>\n",
       "      <td>ليمون اداليا 500 جم</td>\n",
       "      <td>Lemon Adalia 500 gm</td>\n",
       "      <td>lemon adalia gm</td>\n",
       "    </tr>\n",
       "    <tr>\n",
       "      <th>2</th>\n",
       "      <td>2</td>\n",
       "      <td>صلصه هاينز برطمان خصم عرض</td>\n",
       "      <td>Heinz Bartman Sauce Discount Offer</td>\n",
       "      <td>heinz bartman sauce discount offer</td>\n",
       "    </tr>\n",
       "    <tr>\n",
       "      <th>3</th>\n",
       "      <td>3</td>\n",
       "      <td>Dasani water 330ML</td>\n",
       "      <td>Dasani water 330ML</td>\n",
       "      <td>dasani water ml</td>\n",
       "    </tr>\n",
       "    <tr>\n",
       "      <th>4</th>\n",
       "      <td>4</td>\n",
       "      <td>بودرة عصير أناناس من سورس، 900 جم</td>\n",
       "      <td>Soros Pineapple Juice Powder, 900g</td>\n",
       "      <td>soros pineapple juice powder g</td>\n",
       "    </tr>\n",
       "  </tbody>\n",
       "</table>\n",
       "</div>"
      ],
      "text/plain": [
       "   id                          Item_Name                     translated_text  \\\n",
       "0   0         Americana Okra zero 400 gm          Americana Okra zero 400 gm   \n",
       "1   1                ليمون اداليا 500 جم                 Lemon Adalia 500 gm   \n",
       "2   2          صلصه هاينز برطمان خصم عرض  Heinz Bartman Sauce Discount Offer   \n",
       "3   3                 Dasani water 330ML                  Dasani water 330ML   \n",
       "4   4  بودرة عصير أناناس من سورس، 900 جم  Soros Pineapple Juice Powder, 900g   \n",
       "\n",
       "                         cleaned_text  \n",
       "0              americana okra zero gm  \n",
       "1                     lemon adalia gm  \n",
       "2  heinz bartman sauce discount offer  \n",
       "3                     dasani water ml  \n",
       "4      soros pineapple juice powder g  "
      ]
     },
     "execution_count": 7,
     "metadata": {},
     "output_type": "execute_result"
    }
   ],
   "source": [
    "df = pd.read_csv(CLEANED_TEST_DATA_PATH)\n",
    "df.head()"
   ]
  },
  {
   "cell_type": "code",
   "execution_count": 8,
   "id": "6a00ee2d",
   "metadata": {},
   "outputs": [],
   "source": [
    "df.rename(columns={\"translated_text\": \"product_name\"}, inplace=True)"
   ]
  },
  {
   "cell_type": "code",
   "execution_count": 9,
   "id": "5515fc25",
   "metadata": {},
   "outputs": [],
   "source": [
    "df.drop_duplicates(subset=[\"product_name\"], inplace=True)\n",
    "df.dropna(subset=[\"product_name\"], inplace=True)\n",
    "df = df[[\"id\" , \"product_name\"]]"
   ]
  },
  {
   "cell_type": "code",
   "execution_count": 10,
   "id": "c88411f0",
   "metadata": {},
   "outputs": [],
   "source": [
    "copy_to_sql(df, \"products\", \"demo_user\", if_exists=\"replace\")"
   ]
  },
  {
   "cell_type": "markdown",
   "id": "695423f4",
   "metadata": {},
   "source": [
    "### Insert Class Names in DB"
   ]
  },
  {
   "cell_type": "code",
   "execution_count": 11,
   "id": "c9783e58",
   "metadata": {},
   "outputs": [
    {
     "data": {
      "text/html": [
       "<div>\n",
       "<style scoped>\n",
       "    .dataframe tbody tr th:only-of-type {\n",
       "        vertical-align: middle;\n",
       "    }\n",
       "\n",
       "    .dataframe tbody tr th {\n",
       "        vertical-align: top;\n",
       "    }\n",
       "\n",
       "    .dataframe thead th {\n",
       "        text-align: right;\n",
       "    }\n",
       "</style>\n",
       "<table border=\"1\" class=\"dataframe\">\n",
       "  <thead>\n",
       "    <tr style=\"text-align: right;\">\n",
       "      <th></th>\n",
       "      <th>Item_Name</th>\n",
       "      <th>class</th>\n",
       "      <th>Brand</th>\n",
       "      <th>Weight</th>\n",
       "      <th>Number of units</th>\n",
       "      <th>Size of units</th>\n",
       "      <th>Price</th>\n",
       "      <th>T.Price</th>\n",
       "      <th>Pack</th>\n",
       "      <th>Unit</th>\n",
       "    </tr>\n",
       "  </thead>\n",
       "  <tbody>\n",
       "    <tr>\n",
       "      <th>0</th>\n",
       "      <td>Americana Okra zero 400 gm</td>\n",
       "      <td>Vegetables &amp; Fruits</td>\n",
       "      <td>Americana</td>\n",
       "      <td>400gm</td>\n",
       "      <td>1</td>\n",
       "      <td>NaN</td>\n",
       "      <td>NaN</td>\n",
       "      <td>NaN</td>\n",
       "      <td>كيس</td>\n",
       "      <td>gm</td>\n",
       "    </tr>\n",
       "    <tr>\n",
       "      <th>1</th>\n",
       "      <td>ليمون اداليا 500 جم</td>\n",
       "      <td>Tins, Jars &amp; Packets</td>\n",
       "      <td>NaN</td>\n",
       "      <td>500جم</td>\n",
       "      <td>1</td>\n",
       "      <td>NaN</td>\n",
       "      <td>NaN</td>\n",
       "      <td>NaN</td>\n",
       "      <td>علبة</td>\n",
       "      <td>جم</td>\n",
       "    </tr>\n",
       "    <tr>\n",
       "      <th>2</th>\n",
       "      <td>صلصه هاينز برطمان خصم عرض</td>\n",
       "      <td>Tins, Jars &amp; Packets</td>\n",
       "      <td>هاينز</td>\n",
       "      <td>NaN</td>\n",
       "      <td>1</td>\n",
       "      <td>NaN</td>\n",
       "      <td>NaN</td>\n",
       "      <td>NaN</td>\n",
       "      <td>علبة</td>\n",
       "      <td>NaN</td>\n",
       "    </tr>\n",
       "    <tr>\n",
       "      <th>3</th>\n",
       "      <td>Dasani water 330ML</td>\n",
       "      <td>Water</td>\n",
       "      <td>Dasani</td>\n",
       "      <td>330مل</td>\n",
       "      <td>1</td>\n",
       "      <td>NaN</td>\n",
       "      <td>NaN</td>\n",
       "      <td>NaN</td>\n",
       "      <td>زجاجة</td>\n",
       "      <td>مل</td>\n",
       "    </tr>\n",
       "    <tr>\n",
       "      <th>4</th>\n",
       "      <td>بودرة عصير أناناس من سورس، 900 جم</td>\n",
       "      <td>Soft Drinks &amp; Juices</td>\n",
       "      <td>سورس</td>\n",
       "      <td>900جم</td>\n",
       "      <td>1</td>\n",
       "      <td>NaN</td>\n",
       "      <td>NaN</td>\n",
       "      <td>NaN</td>\n",
       "      <td>عبوة</td>\n",
       "      <td>جم</td>\n",
       "    </tr>\n",
       "  </tbody>\n",
       "</table>\n",
       "</div>"
      ],
      "text/plain": [
       "                           Item_Name                 class      Brand Weight  \\\n",
       "0         Americana Okra zero 400 gm   Vegetables & Fruits  Americana  400gm   \n",
       "1                ليمون اداليا 500 جم  Tins, Jars & Packets        NaN  500جم   \n",
       "2          صلصه هاينز برطمان خصم عرض  Tins, Jars & Packets      هاينز    NaN   \n",
       "3                 Dasani water 330ML                 Water     Dasani  330مل   \n",
       "4  بودرة عصير أناناس من سورس، 900 جم  Soft Drinks & Juices       سورس  900جم   \n",
       "\n",
       "   Number of units Size of units  Price  T.Price   Pack Unit  \n",
       "0                1           NaN    NaN      NaN    كيس   gm  \n",
       "1                1           NaN    NaN      NaN   علبة   جم  \n",
       "2                1           NaN    NaN      NaN   علبة  NaN  \n",
       "3                1           NaN    NaN      NaN  زجاجة   مل  \n",
       "4                1           NaN    NaN      NaN   عبوة   جم  "
      ]
     },
     "execution_count": 11,
     "metadata": {},
     "output_type": "execute_result"
    }
   ],
   "source": [
    "df = pd.read_csv(TEST_DATA_PATH)\n",
    "df.head()"
   ]
  },
  {
   "cell_type": "code",
   "execution_count": null,
   "id": "825bf8ca",
   "metadata": {},
   "outputs": [],
   "source": [
    "df_class = df[\"class\"].dropna().unique()\n",
    "# df = df.reset_index(drop=False) \n",
    "# df.rename(columns={'index': 'id'}, inplace=True)\n",
    "df_classes = pd.DataFrame({\"class\": df_class})"
   ]
  },
  {
   "cell_type": "code",
   "execution_count": null,
   "id": "769ae87c",
   "metadata": {},
   "outputs": [],
   "source": [
    "df_classes[\"id\"] = df_classes.index\n",
    "df_classes = df_classes[[\"id\", \"class\"]]"
   ]
  },
  {
   "cell_type": "code",
   "execution_count": null,
   "id": "ac791227",
   "metadata": {},
   "outputs": [],
   "source": [
    "copy_to_sql(df_classes, \"classes\", \"demo_user\", if_exists=\"replace\")"
   ]
  },
  {
   "cell_type": "code",
   "execution_count": 16,
   "id": "35a359ff",
   "metadata": {},
   "outputs": [],
   "source": [
    "df_actual_class = df[[\"class\"]]\n",
    "df_actual_class[\"product_id\"] = df_actual_class.index\n",
    "\n",
    "df_actual_class = df_actual_class[[\"product_id\", \"class\"]]"
   ]
  },
  {
   "cell_type": "code",
   "execution_count": 18,
   "id": "7fe1e3d7",
   "metadata": {},
   "outputs": [],
   "source": [
    "copy_to_sql(df_actual_class, \"actual_classes\", \"demo_user\", if_exists=\"replace\")"
   ]
  },
  {
   "cell_type": "markdown",
   "id": "a73aaf3b",
   "metadata": {},
   "source": [
    "### Insert Product Embeddings in DB"
   ]
  },
  {
   "cell_type": "code",
   "execution_count": null,
   "id": "0bc9b971",
   "metadata": {},
   "outputs": [
    {
     "data": {
      "text/html": [
       "<div>\n",
       "<style scoped>\n",
       "    .dataframe tbody tr th:only-of-type {\n",
       "        vertical-align: middle;\n",
       "    }\n",
       "\n",
       "    .dataframe tbody tr th {\n",
       "        vertical-align: top;\n",
       "    }\n",
       "\n",
       "    .dataframe thead th {\n",
       "        text-align: right;\n",
       "    }\n",
       "</style>\n",
       "<table border=\"1\" class=\"dataframe\">\n",
       "  <thead>\n",
       "    <tr style=\"text-align: right;\">\n",
       "      <th></th>\n",
       "      <th>id</th>\n",
       "      <th>embeddings</th>\n",
       "    </tr>\n",
       "  </thead>\n",
       "  <tbody>\n",
       "    <tr>\n",
       "      <th>0</th>\n",
       "      <td>0</td>\n",
       "      <td>[0.0131988525390625, 0.0203704833984375, -0.00...</td>\n",
       "    </tr>\n",
       "    <tr>\n",
       "      <th>1</th>\n",
       "      <td>1</td>\n",
       "      <td>[0.0016574859619140625, 0.041656494140625, 0.0...</td>\n",
       "    </tr>\n",
       "    <tr>\n",
       "      <th>2</th>\n",
       "      <td>2</td>\n",
       "      <td>[0.0162811279296875, 0.018951416015625, -0.025...</td>\n",
       "    </tr>\n",
       "    <tr>\n",
       "      <th>3</th>\n",
       "      <td>3</td>\n",
       "      <td>[0.0190277099609375, 0.0229949951171875, -0.01...</td>\n",
       "    </tr>\n",
       "    <tr>\n",
       "      <th>4</th>\n",
       "      <td>4</td>\n",
       "      <td>[0.0226593017578125, 0.0291900634765625, -0.02...</td>\n",
       "    </tr>\n",
       "  </tbody>\n",
       "</table>\n",
       "</div>"
      ],
      "text/plain": [
       "   id                                         embeddings\n",
       "0   0  [0.0131988525390625, 0.0203704833984375, -0.00...\n",
       "1   1  [0.0016574859619140625, 0.041656494140625, 0.0...\n",
       "2   2  [0.0162811279296875, 0.018951416015625, -0.025...\n",
       "3   3  [0.0190277099609375, 0.0229949951171875, -0.01...\n",
       "4   4  [0.0226593017578125, 0.0291900634765625, -0.02..."
      ]
     },
     "execution_count": 20,
     "metadata": {},
     "output_type": "execute_result"
    }
   ],
   "source": [
    "df = pd.read_csv(PRODUCT_TEST_EMBEDDINGS_PATH)"
   ]
  },
  {
   "cell_type": "code",
   "execution_count": null,
   "id": "35db37d9",
   "metadata": {},
   "outputs": [],
   "source": [
    "df['embeddings'] = df['embeddings'].apply(ast.literal_eval)\n",
    "emb_cols = pd.DataFrame(df['embeddings'].tolist(), columns=[f'embed_{i}' for i in range(len(df['embeddings'][0]))])\n",
    "\n",
    "df_expanded = pd.concat([df[['id']], emb_cols], axis=1)"
   ]
  },
  {
   "cell_type": "code",
   "execution_count": 35,
   "id": "b38a7aaf",
   "metadata": {},
   "outputs": [],
   "source": [
    "copy_to_sql(df_expanded, \"p_embeddings\", \"demo_user\", if_exists=\"replace\")"
   ]
  },
  {
   "cell_type": "code",
   "execution_count": 39,
   "id": "85565790",
   "metadata": {},
   "outputs": [],
   "source": [
    "df_products = td_db.execute_query(\"Select * from demo_user.products\")\n",
    "df_products = DataFrame(df_products, False)"
   ]
  },
  {
   "cell_type": "markdown",
   "id": "cba2a557",
   "metadata": {},
   "source": [
    "### Insert Class Embeddings in DB"
   ]
  },
  {
   "cell_type": "code",
   "execution_count": null,
   "id": "98c20ac2",
   "metadata": {},
   "outputs": [],
   "source": [
    "df = pd.read_csv(TEST_DATA_PATH)\n",
    "df.head()"
   ]
  },
  {
   "cell_type": "code",
   "execution_count": null,
   "id": "bf9be8e7",
   "metadata": {},
   "outputs": [],
   "source": [
    "df_class = df[\"class\"].dropna().unique()\n",
    "# df = df.reset_index(drop=False) \n",
    "# df.rename(columns={'index': 'id'}, inplace=True)\n",
    "df = pd.DataFrame({\"class\": df_class})"
   ]
  },
  {
   "cell_type": "code",
   "execution_count": 14,
   "id": "d94a7ded",
   "metadata": {},
   "outputs": [],
   "source": [
    "model = load_embedding_model(E5_LARGE_INSTRUCT_CONFIG_PATH)"
   ]
  },
  {
   "cell_type": "code",
   "execution_count": 27,
   "id": "cd1d2c9f",
   "metadata": {},
   "outputs": [
    {
     "data": {
      "application/vnd.jupyter.widget-view+json": {
       "model_id": "af389cfe8d9f49be94d7852fe36c4345",
       "version_major": 2,
       "version_minor": 0
      },
      "text/plain": [
       "Batches:   0%|          | 0/2 [00:00<?, ?it/s]"
      ]
     },
     "metadata": {},
     "output_type": "display_data"
    }
   ],
   "source": [
    "class_name = df[\"class\"].tolist()\n",
    "embeddings = model.get_embeddings(class_name)"
   ]
  },
  {
   "cell_type": "code",
   "execution_count": 28,
   "id": "fb0a2ad9",
   "metadata": {},
   "outputs": [],
   "source": [
    "embeddings = embeddings.tolist()\n",
    "emb_cols = pd.DataFrame(embeddings, columns=[f'embed_{i}' for i in range(len(embeddings[0]))])"
   ]
  },
  {
   "cell_type": "code",
   "execution_count": 29,
   "id": "f8cae6d0",
   "metadata": {},
   "outputs": [],
   "source": [
    "df_expanded = pd.concat([df[['id']], emb_cols], axis=1)"
   ]
  },
  {
   "cell_type": "code",
   "execution_count": 32,
   "id": "abef9a4d",
   "metadata": {},
   "outputs": [],
   "source": [
    "copy_to_sql(df_expanded, \"c_embeddings\", \"demo_user\", if_exists=\"replace\")"
   ]
  },
  {
   "cell_type": "markdown",
   "id": "778142fc",
   "metadata": {},
   "source": [
    "## IN-DB Similiraty"
   ]
  },
  {
   "cell_type": "code",
   "execution_count": 3,
   "id": "e66741fa",
   "metadata": {},
   "outputs": [],
   "source": [
    "RESULT_TABLE = \"demo_user.similiratiy_score\""
   ]
  },
  {
   "cell_type": "code",
   "execution_count": 35,
   "id": "9fbb8344",
   "metadata": {},
   "outputs": [],
   "source": [
    "# Create the result table\n",
    "q = f\"\"\"\n",
    "    CREATE TABLE {RESULT_TABLE} (\n",
    "        item_id BIGINT,\n",
    "        closest_category_id BIGINT,\n",
    "        cosine_distance FLOAT\n",
    "    );\n",
    "    \"\"\""
   ]
  },
  {
   "cell_type": "code",
   "execution_count": 36,
   "id": "330e2e19",
   "metadata": {},
   "outputs": [
    {
     "data": {
      "text/plain": [
       "[]"
      ]
     },
     "execution_count": 36,
     "metadata": {},
     "output_type": "execute_result"
    }
   ],
   "source": [
    "td_db.execute_query(q)"
   ]
  },
  {
   "cell_type": "code",
   "execution_count": 43,
   "id": "780dcb6a",
   "metadata": {},
   "outputs": [],
   "source": [
    "# Generate the string of vector columns for 1024 dimensions\n",
    "vector_cols = \", \".join([f\"embed_{i}\" for i in range(1024)])\n",
    "\n",
    "# Generate the quoted string for feature columns\n",
    "vector_cols_quoted = \", \".join([f\"'embed_{i}'\" for i in range(1024)])"
   ]
  },
  {
   "cell_type": "code",
   "execution_count": null,
   "id": "8d9c535a",
   "metadata": {},
   "outputs": [],
   "source": [
    "classification_sql = f\"\"\"\n",
    "INSERT INTO {RESULT_TABLE}\n",
    "WITH RankedDistances AS (\n",
    "    SELECT\n",
    "        o.Target_ID AS product_id,\n",
    "        o.Reference_ID AS class_id,\n",
    "        o.Distance,\n",
    "        ROW_NUMBER() OVER (PARTITION BY o.Target_ID ORDER BY o.Distance ASC) as rn\n",
    "    FROM TD_VectorDistance (\n",
    "        ON (SELECT id, {vector_cols} FROM p_embeddings) AS TargetTable\n",
    "        ON (SELECT id, {vector_cols} FROM c_embeddings) AS ReferenceTable DIMENSION\n",
    "        USING\n",
    "            TargetIDColumn('id')\n",
    "            RefIDColumn('id')\n",
    "            TargetFeatureColumns({vector_cols_quoted})\n",
    "            RefFeatureColumns({vector_cols_quoted})\n",
    "            DistanceMeasure('cosine')\n",
    "    ) AS o\n",
    ")\n",
    "SELECT\n",
    "    item_id,\n",
    "    category_id,\n",
    "    Distance\n",
    "FROM RankedDistances\n",
    "WHERE rn = 1;\n",
    "\"\"\"\n",
    "td_db.execute_query(classification_sql)"
   ]
  },
  {
   "cell_type": "code",
   "execution_count": 53,
   "id": "dc461243",
   "metadata": {},
   "outputs": [
    {
     "data": {
      "application/vnd.jupyter.widget-view+json": {
       "model_id": "9cfe5fe7895b46c9a89cc05068e4f52c",
       "version_major": 2,
       "version_minor": 0
      },
      "text/plain": []
     },
     "metadata": {},
     "output_type": "display_data"
    },
    {
     "data": {
      "text/html": [
       "<style type=\"text/css\">\n",
       "\ttable { border:ridge 5px}\n",
       "\ttable td {border:inset 1px;}\n",
       "\ttable tr#HeaderRow {background-color:grey; color:white;}\n",
       "\t</style>\n",
       "<html><table style=\"min-width:1000px;\">\n",
       "\t<tr id=\"HeaderRow\">\n",
       "<th>item_id</th><th>closest_category_id</th><th>cosine_distance</th>\n",
       "</tr>\n",
       "\t<tr>\n",
       "\t\t<td>0</td>\n",
       "\t\t<td>31</td>\n",
       "\t\t<td>0.13978061328505798</td>\n",
       "\t</tr>\n",
       "\t<tr>\n",
       "\t\t<td>11</td>\n",
       "\t\t<td>31</td>\n",
       "\t\t<td>0.13165661426991537</td>\n",
       "\t</tr>\n",
       "\t<tr>\n",
       "\t\t<td>18</td>\n",
       "\t\t<td>7</td>\n",
       "\t\t<td>0.14913114673814587</td>\n",
       "\t</tr>\n",
       "\t<tr>\n",
       "\t\t<td>1</td>\n",
       "\t\t<td>31</td>\n",
       "\t\t<td>0.1530110484109758</td>\n",
       "\t</tr>\n",
       "\t<tr>\n",
       "\t\t<td>17</td>\n",
       "\t\t<td>20</td>\n",
       "\t\t<td>0.12880388116464037</td>\n",
       "\t</tr>\n",
       "\t<tr>\n",
       "\t\t<td>23</td>\n",
       "\t\t<td>1</td>\n",
       "\t\t<td>0.15575709612568223</td>\n",
       "\t</tr>\n",
       "\t<tr>\n",
       "\t\t<td>10</td>\n",
       "\t\t<td>1</td>\n",
       "\t\t<td>0.145510153212157</td>\n",
       "\t</tr>\n",
       "\t<tr>\n",
       "\t\t<td>3</td>\n",
       "\t\t<td>2</td>\n",
       "\t\t<td>0.10794134237588049</td>\n",
       "\t</tr>\n",
       "\t<tr>\n",
       "\t\t<td>8</td>\n",
       "\t\t<td>28</td>\n",
       "\t\t<td>0.15756675125841724</td>\n",
       "\t</tr>\n",
       "\t<tr>\n",
       "\t\t<td>2</td>\n",
       "\t\t<td>12</td>\n",
       "\t\t<td>0.14420966831184534</td>\n",
       "\t</tr>\n",
       "</table></html>"
      ],
      "text/plain": [
       "   item_id  closest_category_id  cosine_distance\n",
       "0        0                   31         0.139781\n",
       "1       11                   31         0.131657\n",
       "2       18                    7         0.149131\n",
       "3        1                   31         0.153011\n",
       "4       17                   20         0.128804\n",
       "5       23                    1         0.155757\n",
       "6       10                    1         0.145510\n",
       "7        3                    2         0.107941\n",
       "8        8                   28         0.157567\n",
       "9        2                   12         0.144210"
      ]
     },
     "execution_count": 53,
     "metadata": {},
     "output_type": "execute_result"
    }
   ],
   "source": [
    "tdf = td_db.execute_query(\"SELECT * FROM demo_user.similiratiy_score\")\n",
    "tdf = DataFrame(tdf, False)\n",
    "tdf"
   ]
  },
  {
   "cell_type": "code",
   "execution_count": 4,
   "id": "4061bf1d",
   "metadata": {},
   "outputs": [],
   "source": [
    "results_query = f\"\"\"\n",
    "SELECT\n",
    "    p.product_name AS product_name,\n",
    "    c.\"class\" AS predicted_class,\n",
    "    a.\"class\" AS actual_class,\n",
    "    r.cosine_distance AS similarity_score\n",
    "FROM {RESULT_TABLE} r\n",
    "JOIN products p\n",
    "    ON r.item_id = p.id\n",
    "JOIN classes c\n",
    "    ON r.closest_category_id = c.id\n",
    "JOIN actual_classes a\n",
    "    ON a.product_id = p.id;\n",
    "\"\"\""
   ]
  },
  {
   "cell_type": "code",
   "execution_count": 5,
   "id": "924d1c69",
   "metadata": {},
   "outputs": [],
   "source": [
    "tdf = td_db.execute_query(results_query)\n",
    "df = pd.DataFrame(tdf)"
   ]
  },
  {
   "cell_type": "code",
   "execution_count": 6,
   "id": "784d09d6",
   "metadata": {},
   "outputs": [
    {
     "data": {
      "text/html": [
       "<div>\n",
       "<style scoped>\n",
       "    .dataframe tbody tr th:only-of-type {\n",
       "        vertical-align: middle;\n",
       "    }\n",
       "\n",
       "    .dataframe tbody tr th {\n",
       "        vertical-align: top;\n",
       "    }\n",
       "\n",
       "    .dataframe thead th {\n",
       "        text-align: right;\n",
       "    }\n",
       "</style>\n",
       "<table border=\"1\" class=\"dataframe\">\n",
       "  <thead>\n",
       "    <tr style=\"text-align: right;\">\n",
       "      <th></th>\n",
       "      <th>product_name</th>\n",
       "      <th>predicted_class</th>\n",
       "      <th>actual_class</th>\n",
       "      <th>similarity_score</th>\n",
       "    </tr>\n",
       "  </thead>\n",
       "  <tbody>\n",
       "    <tr>\n",
       "      <th>0</th>\n",
       "      <td>Lemon Adalia 500 gm</td>\n",
       "      <td>Jams, Spreads &amp; Syrups</td>\n",
       "      <td>Tins, Jars &amp; Packets</td>\n",
       "      <td>0.153011</td>\n",
       "    </tr>\n",
       "    <tr>\n",
       "      <th>1</th>\n",
       "      <td>Candlestick Chocolate Pure Hazelnut</td>\n",
       "      <td>Chocolates, Sweets &amp; Desserts</td>\n",
       "      <td>Biscuits &amp; Cakes</td>\n",
       "      <td>0.114309</td>\n",
       "    </tr>\n",
       "    <tr>\n",
       "      <th>2</th>\n",
       "      <td>Lubya Baladi - 500 gm</td>\n",
       "      <td>Jams, Spreads &amp; Syrups</td>\n",
       "      <td>Rice, Pasta &amp; Pulses</td>\n",
       "      <td>0.176968</td>\n",
       "    </tr>\n",
       "    <tr>\n",
       "      <th>3</th>\n",
       "      <td>Americana Okra zero 400 gm</td>\n",
       "      <td>Jams, Spreads &amp; Syrups</td>\n",
       "      <td>Vegetables &amp; Fruits</td>\n",
       "      <td>0.139781</td>\n",
       "    </tr>\n",
       "    <tr>\n",
       "      <th>4</th>\n",
       "      <td>Dasani water 330ML</td>\n",
       "      <td>Water</td>\n",
       "      <td>Water</td>\n",
       "      <td>0.107941</td>\n",
       "    </tr>\n",
       "    <tr>\n",
       "      <th>...</th>\n",
       "      <td>...</td>\n",
       "      <td>...</td>\n",
       "      <td>...</td>\n",
       "      <td>...</td>\n",
       "    </tr>\n",
       "    <tr>\n",
       "      <th>4498</th>\n",
       "      <td>Mr Organic Pasta Sauce Italian Bolognese 350g</td>\n",
       "      <td>Rice, Pasta &amp; Pulses</td>\n",
       "      <td>Tins, Jars &amp; Packets</td>\n",
       "      <td>0.138744</td>\n",
       "    </tr>\n",
       "    <tr>\n",
       "      <th>4499</th>\n",
       "      <td>Foody Fava Beans Plain 3 K</td>\n",
       "      <td>Vegetables &amp; Fruits</td>\n",
       "      <td>Tins, Jars &amp; Packets</td>\n",
       "      <td>0.131579</td>\n",
       "    </tr>\n",
       "    <tr>\n",
       "      <th>4500</th>\n",
       "      <td>Saw chicken hips.</td>\n",
       "      <td>Poultry</td>\n",
       "      <td>Poultry</td>\n",
       "      <td>0.137450</td>\n",
       "    </tr>\n",
       "    <tr>\n",
       "      <th>4501</th>\n",
       "      <td>Almarai Whole Milk 1 L Plastic</td>\n",
       "      <td>Dairy &amp; Eggs</td>\n",
       "      <td>Dairy &amp; Eggs</td>\n",
       "      <td>0.145429</td>\n",
       "    </tr>\n",
       "    <tr>\n",
       "      <th>4502</th>\n",
       "      <td>Dandarawy Fava Beans – 400g</td>\n",
       "      <td>Nuts, Dates &amp; Dried Fruits</td>\n",
       "      <td>Tins, Jars &amp; Packets</td>\n",
       "      <td>0.162494</td>\n",
       "    </tr>\n",
       "  </tbody>\n",
       "</table>\n",
       "<p>4503 rows × 4 columns</p>\n",
       "</div>"
      ],
      "text/plain": [
       "                                       product_name  \\\n",
       "0                               Lemon Adalia 500 gm   \n",
       "1               Candlestick Chocolate Pure Hazelnut   \n",
       "2                             Lubya Baladi - 500 gm   \n",
       "3                        Americana Okra zero 400 gm   \n",
       "4                                Dasani water 330ML   \n",
       "...                                             ...   \n",
       "4498  Mr Organic Pasta Sauce Italian Bolognese 350g   \n",
       "4499                     Foody Fava Beans Plain 3 K   \n",
       "4500                              Saw chicken hips.   \n",
       "4501                 Almarai Whole Milk 1 L Plastic   \n",
       "4502                    Dandarawy Fava Beans – 400g   \n",
       "\n",
       "                    predicted_class          actual_class  similarity_score  \n",
       "0            Jams, Spreads & Syrups  Tins, Jars & Packets          0.153011  \n",
       "1     Chocolates, Sweets & Desserts      Biscuits & Cakes          0.114309  \n",
       "2            Jams, Spreads & Syrups  Rice, Pasta & Pulses          0.176968  \n",
       "3            Jams, Spreads & Syrups   Vegetables & Fruits          0.139781  \n",
       "4                             Water                 Water          0.107941  \n",
       "...                             ...                   ...               ...  \n",
       "4498           Rice, Pasta & Pulses  Tins, Jars & Packets          0.138744  \n",
       "4499            Vegetables & Fruits  Tins, Jars & Packets          0.131579  \n",
       "4500                        Poultry               Poultry          0.137450  \n",
       "4501                   Dairy & Eggs          Dairy & Eggs          0.145429  \n",
       "4502     Nuts, Dates & Dried Fruits  Tins, Jars & Packets          0.162494  \n",
       "\n",
       "[4503 rows x 4 columns]"
      ]
     },
     "execution_count": 6,
     "metadata": {},
     "output_type": "execute_result"
    }
   ],
   "source": [
    "df"
   ]
  },
  {
   "cell_type": "code",
   "execution_count": 29,
   "id": "b397dce9",
   "metadata": {},
   "outputs": [],
   "source": [
    "df.dropna(inplace=True)"
   ]
  },
  {
   "cell_type": "code",
   "execution_count": 30,
   "id": "f1398be3",
   "metadata": {},
   "outputs": [
    {
     "data": {
      "text/plain": [
       "0.4329434502414501"
      ]
     },
     "execution_count": 30,
     "metadata": {},
     "output_type": "execute_result"
    }
   ],
   "source": [
    "from sklearn.metrics import f1_score\n",
    "\n",
    "y_pred = df[\"predicted_class\"].tolist()\n",
    "y_true = df[\"actual_class\"].tolist()\n",
    "\n",
    "f1_score(y_true, y_pred, average=\"weighted\")"
   ]
  },
  {
   "cell_type": "code",
   "execution_count": 7,
   "id": "c7445e12",
   "metadata": {},
   "outputs": [],
   "source": [
    "copy_to_sql(df, \"results\", \"demo_user\", if_exists=\"replace\")"
   ]
  },
  {
   "cell_type": "code",
   "execution_count": 3,
   "id": "a80a67c6",
   "metadata": {},
   "outputs": [],
   "source": [
    "query = \"\"\"\n",
    "SELECT * FROM TD_ClassificationEvaluator (\n",
    "   ON demo_user.results AS InputTable\n",
    "   OUT PERMANENT TABLE OutputTable(classification_metrics)\n",
    "   USING\n",
    "       ObservationColumn('actual_class')\n",
    "       PredictionColumn('predicted_class')\n",
    "       Labels('Condiments, Dressings & Marinades', 'Furniture', 'Personal care, skin & body care', 'null', 'Tea, Coffee & Hot Drinks', 'Sweets & Desserts', 'Hair, Shower, Bath & Soap', 'Fruits', 'Nuts, Dates & Dried Fruits', 'Vegetables & Fruits', 'Home Appliances', 'Sauces, Dressings & Condiments', 'Baby Care', 'Tea and Coffee', 'Disposables & Napkins', 'Tins, Jars & Packets', 'Chips & Crackers', 'Soft Drinks & Juices', 'Cooking Ingredients', 'Dairy & Eggs', 'Bakery', 'Vegetables & Herbs', 'Biscuits & Cakes', 'Candles & Air Fresheners', 'Water', 'Rice, Pasta & Pulses', 'Poultry', 'Beef & Processed Meat', 'Home Textile', 'Cleaning Supplies', 'Beef & Lamb Meat', 'Chocolates, Sweets & Desserts', 'Jams, Spreads & Syrups')\n",
    ") AS dt;\n",
    "\"\"\"\n",
    "tdf = td_db.execute_query(query)\n"
   ]
  },
  {
   "cell_type": "code",
   "execution_count": 4,
   "id": "ddf958d5",
   "metadata": {},
   "outputs": [
    {
     "data": {
      "application/vnd.jupyter.widget-view+json": {
       "model_id": "fa3a7cb827eb4c2194b9c4762cb1c355",
       "version_major": 2,
       "version_minor": 0
      },
      "text/plain": []
     },
     "metadata": {},
     "output_type": "display_data"
    },
    {
     "data": {
      "text/html": [
       "<style type=\"text/css\">\n",
       "\ttable { border:ridge 5px}\n",
       "\ttable td {border:inset 1px;}\n",
       "\ttable tr#HeaderRow {background-color:grey; color:white;}\n",
       "\t</style>\n",
       "<html><table style=\"min-width:1000px;\">\n",
       "\t<tr id=\"HeaderRow\">\n",
       "<th>SeqNum</th><th>Metric</th><th>MetricValue</th><th>index_label</th>\n",
       "</tr>\n",
       "\t<tr>\n",
       "\t\t<td>3</td>\n",
       "\t\t<td>Micro-Recall</td>\n",
       "\t\t<td>0.41289023162134947</td>\n",
       "\t\t<td>2</td>\n",
       "\t</tr>\n",
       "\t<tr>\n",
       "\t\t<td>5</td>\n",
       "\t\t<td>Macro-Precision</td>\n",
       "\t\t<td>0.3528525087190308</td>\n",
       "\t\t<td>4</td>\n",
       "\t</tr>\n",
       "\t<tr>\n",
       "\t\t<td>6</td>\n",
       "\t\t<td>Macro-Recall</td>\n",
       "\t\t<td>0.322042812468733</td>\n",
       "\t\t<td>5</td>\n",
       "\t</tr>\n",
       "\t<tr>\n",
       "\t\t<td>7</td>\n",
       "\t\t<td>Macro-F1</td>\n",
       "\t\t<td>0.24408072902307343</td>\n",
       "\t\t<td>6</td>\n",
       "\t</tr>\n",
       "\t<tr>\n",
       "\t\t<td>9</td>\n",
       "\t\t<td>Weighted-Recall</td>\n",
       "\t\t<td>0.41289023162134947</td>\n",
       "\t\t<td>8</td>\n",
       "\t</tr>\n",
       "\t<tr>\n",
       "\t\t<td>10</td>\n",
       "\t\t<td>Weighted-F1</td>\n",
       "\t\t<td>0.4729390335334207</td>\n",
       "\t\t<td>9</td>\n",
       "\t</tr>\n",
       "\t<tr>\n",
       "\t\t<td>8</td>\n",
       "\t\t<td>Weighted-Precision</td>\n",
       "\t\t<td>0.6789587385301326</td>\n",
       "\t\t<td>7</td>\n",
       "\t</tr>\n",
       "\t<tr>\n",
       "\t\t<td>4</td>\n",
       "\t\t<td>Micro-F1</td>\n",
       "\t\t<td>0.41289023162134947</td>\n",
       "\t\t<td>3</td>\n",
       "\t</tr>\n",
       "\t<tr>\n",
       "\t\t<td>2</td>\n",
       "\t\t<td>Micro-Precision</td>\n",
       "\t\t<td>0.41289023162134947</td>\n",
       "\t\t<td>1</td>\n",
       "\t</tr>\n",
       "\t<tr>\n",
       "\t\t<td>1</td>\n",
       "\t\t<td>Accuracy</td>\n",
       "\t\t<td>0.41289023162134947</td>\n",
       "\t\t<td>0</td>\n",
       "\t</tr>\n",
       "</table></html>"
      ],
      "text/plain": [
       "   SeqNum              Metric  MetricValue  index_label\n",
       "0       3        Micro-Recall     0.412890            2\n",
       "1       5     Macro-Precision     0.352853            4\n",
       "2       6        Macro-Recall     0.322043            5\n",
       "3       7            Macro-F1     0.244081            6\n",
       "4       9     Weighted-Recall     0.412890            8\n",
       "5      10         Weighted-F1     0.472939            9\n",
       "6       8  Weighted-Precision     0.678959            7\n",
       "7       4            Micro-F1     0.412890            3\n",
       "8       2     Micro-Precision     0.412890            1\n",
       "9       1            Accuracy     0.412890            0"
      ]
     },
     "execution_count": 4,
     "metadata": {},
     "output_type": "execute_result"
    }
   ],
   "source": [
    "DataFrame(td_db.execute_query(\"select * from demo_user.classification_metrics\"))"
   ]
  },
  {
   "cell_type": "markdown",
   "id": "ab70901a",
   "metadata": {},
   "source": [
    "## Disconnect"
   ]
  },
  {
   "cell_type": "code",
   "execution_count": null,
   "id": "d99b60f7",
   "metadata": {},
   "outputs": [],
   "source": [
    "td_db.disconnect()"
   ]
  },
  {
   "cell_type": "code",
   "execution_count": null,
   "id": "65a6c0ee",
   "metadata": {},
   "outputs": [],
   "source": []
  }
 ],
 "metadata": {
  "kernelspec": {
   "display_name": ".venv (3.12.9)",
   "language": "python",
   "name": "python3"
  },
  "language_info": {
   "codemirror_mode": {
    "name": "ipython",
    "version": 3
   },
   "file_extension": ".py",
   "mimetype": "text/x-python",
   "name": "python",
   "nbconvert_exporter": "python",
   "pygments_lexer": "ipython3",
   "version": "3.12.9"
  }
 },
 "nbformat": 4,
 "nbformat_minor": 5
}
