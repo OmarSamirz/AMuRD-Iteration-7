{
 "cells": [
  {
   "cell_type": "markdown",
   "id": "e262c5fc",
   "metadata": {},
   "source": [
    "# Import packages"
   ]
  },
  {
   "cell_type": "code",
   "execution_count": 1,
   "id": "5cff14ac",
   "metadata": {},
   "outputs": [
    {
     "name": "stdout",
     "output_type": "stream",
     "text": [
      "Warning: Could not clean log directory: [WinError 32] The process cannot access the file because it is being used by another process: 'logs\\\\borai_20250820_173633.log'\n",
      "Logger initialized. All logs will be saved to: c:\\Users\\ss255385\\OneDrive - Teradata Corporation\\Desktop\\AMuRD-Iteration-7\\src\\logs\\borai_20250820_192939.log\n"
     ]
    }
   ],
   "source": [
    "import pandas as pd\n",
    "from teradataml import *\n",
    "import ast\n",
    "import json\n",
    "import torch\n",
    "from teradataml.dataframe.copy_to import copy_to_sql\n",
    "from transformers.generation import GenerationMixin\n",
    "\n",
    "from modules.db import TeradataDatabase\n",
    "from modules.models import( \n",
    "    OpusTranslationModelConfig, \n",
    "                        OpusTranslationModel, \n",
    "                        SentenceEmbeddingConfig, \n",
    "                        SentenceEmbeddingModel, \n",
    ")\n",
    "from utils import clean_text, load_embedding_model, unicode_clean, load_translation_model\n",
    "from constants import (\n",
    "    CLEANED_TEST_DATA_PATH, TRAIN_VAL_DATA_PATH, CLASS_EMBEDDINGS_PATH, PRODUCT_TEST_EMBEDDINGS_PATH, \n",
    "    CLEANED_GPC_PATH, CLEANED_TEST_DATA_PATH, TEST_DATA_PATH, E5_LARGE_INSTRUCT_CONFIG_PATH, \n",
    "    OPUS_TRANSLATION_CONFIG_PATH, DATA_PATH, PRODUCT_TRAIN_EMBEDDINGS_PATH, QWEN3_8B_CONFIG_PATH, VALIDATION_DATA_PATH,\n",
    "    FULL_DATA_SET_DATA_PATH, PRODUCT_FULL_DATASET_EMBEDDINGS_PATH,  CLEANED_FULL_DATASET_DATA_PATH,\n",
    "    CLASS_EMBEDDINGS_PATH_QWEN, PRODUCT_FULL_DATASET_EMBEDDINGS__QWEN_PATH\n",
    ")\n"
   ]
  },
  {
   "cell_type": "markdown",
   "id": "b2b3aa3e",
   "metadata": {},
   "source": [
    "## Connect to database"
   ]
  },
  {
   "cell_type": "code",
   "execution_count": 3,
   "id": "b5a80968",
   "metadata": {},
   "outputs": [],
   "source": [
    "td_db = TeradataDatabase()\n",
    "td_db.connect()"
   ]
  },
  {
   "cell_type": "markdown",
   "id": "4e21d26e",
   "metadata": {},
   "source": [
    "### Combine Dataset into 1 file"
   ]
  },
  {
   "cell_type": "code",
   "execution_count": 4,
   "id": "3e0847c3",
   "metadata": {},
   "outputs": [],
   "source": [
    "df_train = pd.read_csv(TRAIN_VAL_DATA_PATH)\n",
    "df_test = pd.read_csv(TEST_DATA_PATH)\n",
    "df_valid = pd.read_csv(VALIDATION_DATA_PATH)"
   ]
  },
  {
   "cell_type": "code",
   "execution_count": 5,
   "id": "bd3c1258",
   "metadata": {},
   "outputs": [],
   "source": [
    "full_df = pd.concat([df_train, df_test, df_valid], ignore_index=True)\n",
    "full_df.to_csv(FULL_DATA_SET_DATA_PATH, index=False)"
   ]
  },
  {
   "cell_type": "markdown",
   "id": "2b044c27",
   "metadata": {},
   "source": [
    "### Insert Product Names in DB"
   ]
  },
  {
   "cell_type": "code",
   "execution_count": 21,
   "id": "43a42a44",
   "metadata": {},
   "outputs": [
    {
     "data": {
      "text/html": [
       "<div>\n",
       "<style scoped>\n",
       "    .dataframe tbody tr th:only-of-type {\n",
       "        vertical-align: middle;\n",
       "    }\n",
       "\n",
       "    .dataframe tbody tr th {\n",
       "        vertical-align: top;\n",
       "    }\n",
       "\n",
       "    .dataframe thead th {\n",
       "        text-align: right;\n",
       "    }\n",
       "</style>\n",
       "<table border=\"1\" class=\"dataframe\">\n",
       "  <thead>\n",
       "    <tr style=\"text-align: right;\">\n",
       "      <th></th>\n",
       "      <th>Item_Name</th>\n",
       "      <th>class</th>\n",
       "      <th>Brand</th>\n",
       "      <th>Weight</th>\n",
       "      <th>Number of units</th>\n",
       "      <th>Size of units</th>\n",
       "      <th>Price</th>\n",
       "      <th>T.Price</th>\n",
       "      <th>Pack</th>\n",
       "      <th>Unit</th>\n",
       "    </tr>\n",
       "  </thead>\n",
       "  <tbody>\n",
       "    <tr>\n",
       "      <th>0</th>\n",
       "      <td>مونتانا ذره 400 ج</td>\n",
       "      <td>Vegetables &amp; Fruits</td>\n",
       "      <td>مونتانا</td>\n",
       "      <td>400جم</td>\n",
       "      <td>1</td>\n",
       "      <td>NaN</td>\n",
       "      <td>NaN</td>\n",
       "      <td>NaN</td>\n",
       "      <td>كيس</td>\n",
       "      <td>جم</td>\n",
       "    </tr>\n",
       "    <tr>\n",
       "      <th>1</th>\n",
       "      <td>Ahmad Tea Fruit And Herb Selection Herbal Teab...</td>\n",
       "      <td>Tea, Coffee &amp; Hot Drinks</td>\n",
       "      <td>Ahmad Tea</td>\n",
       "      <td>NaN</td>\n",
       "      <td>20</td>\n",
       "      <td>NaN</td>\n",
       "      <td>NaN</td>\n",
       "      <td>NaN</td>\n",
       "      <td>علبة</td>\n",
       "      <td>NaN</td>\n",
       "    </tr>\n",
       "    <tr>\n",
       "      <th>2</th>\n",
       "      <td>Lulu Brown Samoon 1pkt</td>\n",
       "      <td>Bakery</td>\n",
       "      <td>Lulu</td>\n",
       "      <td>NaN</td>\n",
       "      <td>1</td>\n",
       "      <td>NaN</td>\n",
       "      <td>NaN</td>\n",
       "      <td>NaN</td>\n",
       "      <td>عبوة</td>\n",
       "      <td>NaN</td>\n",
       "    </tr>\n",
       "    <tr>\n",
       "      <th>3</th>\n",
       "      <td>فلفل رومى بلدى حشو وزن</td>\n",
       "      <td>Vegetables &amp; Fruits</td>\n",
       "      <td>NaN</td>\n",
       "      <td>NaN</td>\n",
       "      <td>1</td>\n",
       "      <td>NaN</td>\n",
       "      <td>NaN</td>\n",
       "      <td>NaN</td>\n",
       "      <td>كيس</td>\n",
       "      <td>NaN</td>\n",
       "    </tr>\n",
       "    <tr>\n",
       "      <th>4</th>\n",
       "      <td>كانز</td>\n",
       "      <td>Soft Drinks &amp; Juices</td>\n",
       "      <td>NaN</td>\n",
       "      <td>NaN</td>\n",
       "      <td>1</td>\n",
       "      <td>NaN</td>\n",
       "      <td>NaN</td>\n",
       "      <td>NaN</td>\n",
       "      <td>كانز</td>\n",
       "      <td>NaN</td>\n",
       "    </tr>\n",
       "  </tbody>\n",
       "</table>\n",
       "</div>"
      ],
      "text/plain": [
       "                                           Item_Name  \\\n",
       "0                                  مونتانا ذره 400 ج   \n",
       "1  Ahmad Tea Fruit And Herb Selection Herbal Teab...   \n",
       "2                             Lulu Brown Samoon 1pkt   \n",
       "3                             فلفل رومى بلدى حشو وزن   \n",
       "4                                               كانز   \n",
       "\n",
       "                      class      Brand Weight Number of units Size of units  \\\n",
       "0       Vegetables & Fruits    مونتانا  400جم               1           NaN   \n",
       "1  Tea, Coffee & Hot Drinks  Ahmad Tea    NaN              20           NaN   \n",
       "2                    Bakery       Lulu    NaN               1           NaN   \n",
       "3       Vegetables & Fruits        NaN    NaN               1           NaN   \n",
       "4      Soft Drinks & Juices        NaN    NaN               1           NaN   \n",
       "\n",
       "  Price T.Price  Pack Unit  \n",
       "0   NaN     NaN   كيس   جم  \n",
       "1   NaN     NaN  علبة  NaN  \n",
       "2   NaN     NaN  عبوة  NaN  \n",
       "3   NaN     NaN   كيس  NaN  \n",
       "4   NaN     NaN  كانز  NaN  "
      ]
     },
     "execution_count": 21,
     "metadata": {},
     "output_type": "execute_result"
    }
   ],
   "source": [
    "df = pd.read_csv(FULL_DATA_SET_DATA_PATH)\n",
    "df.head()"
   ]
  },
  {
   "cell_type": "code",
   "execution_count": 22,
   "id": "6a00ee2d",
   "metadata": {},
   "outputs": [],
   "source": [
    "df.rename(columns={\"Item_Name\": \"product_name\"}, inplace=True)"
   ]
  },
  {
   "cell_type": "code",
   "execution_count": 23,
   "id": "5515fc25",
   "metadata": {},
   "outputs": [],
   "source": [
    "df.drop_duplicates(subset=[\"product_name\"], inplace=True)\n",
    "df.dropna(subset=[\"product_name\"], inplace=True)\n",
    "df.reset_index(inplace=True)\n",
    "df.rename(columns={'index': 'id'}, inplace=True)\n",
    "df = df[[\"id\" , \"product_name\"]]"
   ]
  },
  {
   "cell_type": "code",
   "execution_count": 24,
   "id": "74e5af79",
   "metadata": {},
   "outputs": [],
   "source": [
    "df['product_name'] = df['product_name'].apply(unicode_clean)"
   ]
  },
  {
   "cell_type": "code",
   "execution_count": 25,
   "id": "c88411f0",
   "metadata": {},
   "outputs": [],
   "source": [
    "copy_to_sql(df, \"products\", \"demo_user\", if_exists=\"replace\")"
   ]
  },
  {
   "cell_type": "markdown",
   "id": "b795d91d",
   "metadata": {},
   "source": [
    "### Cleaning the Products"
   ]
  },
  {
   "cell_type": "code",
   "execution_count": 27,
   "id": "5c01ca08",
   "metadata": {},
   "outputs": [],
   "source": [
    "cleaning_query = \"\"\"\n",
    "UPDATE demo_user.products\n",
    "SET product_name = LOWER(\n",
    "                  TRIM(\n",
    "                    REGEXP_REPLACE(\n",
    "                      REGEXP_REPLACE(\n",
    "                        REGEXP_REPLACE(product_name, '[[:digit:]]+', ''), \n",
    "                        '[-_/\\\\|]', ' '),                              \n",
    "                      '[[:punct:]]', ' '                              \n",
    "                    )\n",
    "                  )\n",
    "                );\n",
    "\"\"\""
   ]
  },
  {
   "cell_type": "code",
   "execution_count": 28,
   "id": "7153bbdf",
   "metadata": {},
   "outputs": [],
   "source": [
    "tdf = td_db.execute_query(cleaning_query)"
   ]
  },
  {
   "cell_type": "markdown",
   "id": "292aa95b",
   "metadata": {},
   "source": [
    "### Translating Products "
   ]
  },
  {
   "cell_type": "code",
   "execution_count": 29,
   "id": "1e345562",
   "metadata": {},
   "outputs": [
    {
     "data": {
      "text/html": [
       "<div>\n",
       "<style scoped>\n",
       "    .dataframe tbody tr th:only-of-type {\n",
       "        vertical-align: middle;\n",
       "    }\n",
       "\n",
       "    .dataframe tbody tr th {\n",
       "        vertical-align: top;\n",
       "    }\n",
       "\n",
       "    .dataframe thead th {\n",
       "        text-align: right;\n",
       "    }\n",
       "</style>\n",
       "<table border=\"1\" class=\"dataframe\">\n",
       "  <thead>\n",
       "    <tr style=\"text-align: right;\">\n",
       "      <th></th>\n",
       "      <th>id</th>\n",
       "      <th>product_name</th>\n",
       "    </tr>\n",
       "  </thead>\n",
       "  <tbody>\n",
       "    <tr>\n",
       "      <th>0</th>\n",
       "      <td>0</td>\n",
       "      <td>مونتانا ذره  ج</td>\n",
       "    </tr>\n",
       "    <tr>\n",
       "      <th>1</th>\n",
       "      <td>18749</td>\n",
       "      <td>بسمة ملوخية  جم</td>\n",
       "    </tr>\n",
       "    <tr>\n",
       "      <th>2</th>\n",
       "      <td>1</td>\n",
       "      <td>ahmad tea fruit and herb selection herbal teab...</td>\n",
       "    </tr>\n",
       "    <tr>\n",
       "      <th>3</th>\n",
       "      <td>18750</td>\n",
       "      <td>فرزه بطاطس مجمده</td>\n",
       "    </tr>\n",
       "    <tr>\n",
       "      <th>4</th>\n",
       "      <td>2</td>\n",
       "      <td>lulu brown samoon pkt</td>\n",
       "    </tr>\n",
       "    <tr>\n",
       "      <th>...</th>\n",
       "      <td>...</td>\n",
       "      <td>...</td>\n",
       "    </tr>\n",
       "    <tr>\n",
       "      <th>37579</th>\n",
       "      <td>47715</td>\n",
       "      <td>تيفانى بريك ريزو وافر ج</td>\n",
       "    </tr>\n",
       "    <tr>\n",
       "      <th>37580</th>\n",
       "      <td>47716</td>\n",
       "      <td>كادبورى شوكولاته كريسبللو ج</td>\n",
       "    </tr>\n",
       "    <tr>\n",
       "      <th>37581</th>\n",
       "      <td>47717</td>\n",
       "      <td>جهينه كوكتيل ل</td>\n",
       "    </tr>\n",
       "    <tr>\n",
       "      <th>37582</th>\n",
       "      <td>47718</td>\n",
       "      <td>دبل ديرى مشروب بنكهه ليمون مل</td>\n",
       "    </tr>\n",
       "    <tr>\n",
       "      <th>37583</th>\n",
       "      <td>47719</td>\n",
       "      <td>galaxy smooth milk chocolate  x g</td>\n",
       "    </tr>\n",
       "  </tbody>\n",
       "</table>\n",
       "<p>37584 rows × 2 columns</p>\n",
       "</div>"
      ],
      "text/plain": [
       "          id                                       product_name\n",
       "0          0                                     مونتانا ذره  ج\n",
       "1      18749                                    بسمة ملوخية  جم\n",
       "2          1  ahmad tea fruit and herb selection herbal teab...\n",
       "3      18750                                   فرزه بطاطس مجمده\n",
       "4          2                              lulu brown samoon pkt\n",
       "...      ...                                                ...\n",
       "37579  47715                            تيفانى بريك ريزو وافر ج\n",
       "37580  47716                        كادبورى شوكولاته كريسبللو ج\n",
       "37581  47717                                     جهينه كوكتيل ل\n",
       "37582  47718                      دبل ديرى مشروب بنكهه ليمون مل\n",
       "37583  47719                  galaxy smooth milk chocolate  x g\n",
       "\n",
       "[37584 rows x 2 columns]"
      ]
     },
     "execution_count": 29,
     "metadata": {},
     "output_type": "execute_result"
    }
   ],
   "source": [
    "tdf = td_db.execute_query(\"Select * from demo_user.products\")\n",
    "df = pd.DataFrame(tdf)\n",
    "df"
   ]
  },
  {
   "cell_type": "code",
   "execution_count": 30,
   "id": "6ec022f4",
   "metadata": {},
   "outputs": [],
   "source": [
    "model = load_translation_model(OPUS_TRANSLATION_CONFIG_PATH)"
   ]
  },
  {
   "cell_type": "code",
   "execution_count": 31,
   "id": "baccadd1",
   "metadata": {},
   "outputs": [],
   "source": [
    "products = df[\"product_name\"].tolist()\n",
    "batch_size = 32\n",
    "translations = []\n",
    "for i in range(0, len(products), batch_size):\n",
    "    batch = products[i:i+batch_size]\n",
    "    batch_translations = [model.translate(p) for p in batch]\n",
    "    translations.extend(batch_translations)"
   ]
  },
  {
   "cell_type": "code",
   "execution_count": 32,
   "id": "52245823",
   "metadata": {},
   "outputs": [],
   "source": [
    "df[\"translated_name\"] = translations\n",
    "df = df[[\"id\", \"translated_name\"]]"
   ]
  },
  {
   "cell_type": "code",
   "execution_count": 33,
   "id": "749f6666",
   "metadata": {},
   "outputs": [],
   "source": [
    "copy_to_sql(df, \"products\", \"demo_user\", if_exists=\"replace\")"
   ]
  },
  {
   "cell_type": "code",
   "execution_count": 34,
   "id": "78e62dbe",
   "metadata": {},
   "outputs": [],
   "source": [
    "df.to_csv(DATA_PATH / \"cleaned_full_dataset.csv\")"
   ]
  },
  {
   "cell_type": "markdown",
   "id": "695423f4",
   "metadata": {},
   "source": [
    "### Insert Class Names in DB"
   ]
  },
  {
   "cell_type": "code",
   "execution_count": 35,
   "id": "c9783e58",
   "metadata": {},
   "outputs": [
    {
     "data": {
      "text/html": [
       "<div>\n",
       "<style scoped>\n",
       "    .dataframe tbody tr th:only-of-type {\n",
       "        vertical-align: middle;\n",
       "    }\n",
       "\n",
       "    .dataframe tbody tr th {\n",
       "        vertical-align: top;\n",
       "    }\n",
       "\n",
       "    .dataframe thead th {\n",
       "        text-align: right;\n",
       "    }\n",
       "</style>\n",
       "<table border=\"1\" class=\"dataframe\">\n",
       "  <thead>\n",
       "    <tr style=\"text-align: right;\">\n",
       "      <th></th>\n",
       "      <th>Item_Name</th>\n",
       "      <th>class</th>\n",
       "      <th>Brand</th>\n",
       "      <th>Weight</th>\n",
       "      <th>Number of units</th>\n",
       "      <th>Size of units</th>\n",
       "      <th>Price</th>\n",
       "      <th>T.Price</th>\n",
       "      <th>Pack</th>\n",
       "      <th>Unit</th>\n",
       "    </tr>\n",
       "  </thead>\n",
       "  <tbody>\n",
       "    <tr>\n",
       "      <th>0</th>\n",
       "      <td>مونتانا ذره 400 ج</td>\n",
       "      <td>Vegetables &amp; Fruits</td>\n",
       "      <td>مونتانا</td>\n",
       "      <td>400جم</td>\n",
       "      <td>1</td>\n",
       "      <td>NaN</td>\n",
       "      <td>NaN</td>\n",
       "      <td>NaN</td>\n",
       "      <td>كيس</td>\n",
       "      <td>جم</td>\n",
       "    </tr>\n",
       "    <tr>\n",
       "      <th>1</th>\n",
       "      <td>Ahmad Tea Fruit And Herb Selection Herbal Teab...</td>\n",
       "      <td>Tea, Coffee &amp; Hot Drinks</td>\n",
       "      <td>Ahmad Tea</td>\n",
       "      <td>NaN</td>\n",
       "      <td>20</td>\n",
       "      <td>NaN</td>\n",
       "      <td>NaN</td>\n",
       "      <td>NaN</td>\n",
       "      <td>علبة</td>\n",
       "      <td>NaN</td>\n",
       "    </tr>\n",
       "    <tr>\n",
       "      <th>2</th>\n",
       "      <td>Lulu Brown Samoon 1pkt</td>\n",
       "      <td>Bakery</td>\n",
       "      <td>Lulu</td>\n",
       "      <td>NaN</td>\n",
       "      <td>1</td>\n",
       "      <td>NaN</td>\n",
       "      <td>NaN</td>\n",
       "      <td>NaN</td>\n",
       "      <td>عبوة</td>\n",
       "      <td>NaN</td>\n",
       "    </tr>\n",
       "    <tr>\n",
       "      <th>3</th>\n",
       "      <td>فلفل رومى بلدى حشو وزن</td>\n",
       "      <td>Vegetables &amp; Fruits</td>\n",
       "      <td>NaN</td>\n",
       "      <td>NaN</td>\n",
       "      <td>1</td>\n",
       "      <td>NaN</td>\n",
       "      <td>NaN</td>\n",
       "      <td>NaN</td>\n",
       "      <td>كيس</td>\n",
       "      <td>NaN</td>\n",
       "    </tr>\n",
       "    <tr>\n",
       "      <th>4</th>\n",
       "      <td>كانز</td>\n",
       "      <td>Soft Drinks &amp; Juices</td>\n",
       "      <td>NaN</td>\n",
       "      <td>NaN</td>\n",
       "      <td>1</td>\n",
       "      <td>NaN</td>\n",
       "      <td>NaN</td>\n",
       "      <td>NaN</td>\n",
       "      <td>كانز</td>\n",
       "      <td>NaN</td>\n",
       "    </tr>\n",
       "  </tbody>\n",
       "</table>\n",
       "</div>"
      ],
      "text/plain": [
       "                                           Item_Name  \\\n",
       "0                                  مونتانا ذره 400 ج   \n",
       "1  Ahmad Tea Fruit And Herb Selection Herbal Teab...   \n",
       "2                             Lulu Brown Samoon 1pkt   \n",
       "3                             فلفل رومى بلدى حشو وزن   \n",
       "4                                               كانز   \n",
       "\n",
       "                      class      Brand Weight Number of units Size of units  \\\n",
       "0       Vegetables & Fruits    مونتانا  400جم               1           NaN   \n",
       "1  Tea, Coffee & Hot Drinks  Ahmad Tea    NaN              20           NaN   \n",
       "2                    Bakery       Lulu    NaN               1           NaN   \n",
       "3       Vegetables & Fruits        NaN    NaN               1           NaN   \n",
       "4      Soft Drinks & Juices        NaN    NaN               1           NaN   \n",
       "\n",
       "  Price T.Price  Pack Unit  \n",
       "0   NaN     NaN   كيس   جم  \n",
       "1   NaN     NaN  علبة  NaN  \n",
       "2   NaN     NaN  عبوة  NaN  \n",
       "3   NaN     NaN   كيس  NaN  \n",
       "4   NaN     NaN  كانز  NaN  "
      ]
     },
     "execution_count": 35,
     "metadata": {},
     "output_type": "execute_result"
    }
   ],
   "source": [
    "df = pd.read_csv(FULL_DATA_SET_DATA_PATH)\n",
    "df.head()"
   ]
  },
  {
   "cell_type": "code",
   "execution_count": 36,
   "id": "825bf8ca",
   "metadata": {},
   "outputs": [],
   "source": [
    "df_class = df[\"class\"].dropna().unique()\n",
    "# df = df.reset_index(drop=False) \n",
    "# df.rename(columns={'index': 'id'}, inplace=True)\n",
    "df_classes = pd.DataFrame({\"class_name\": df_class})"
   ]
  },
  {
   "cell_type": "code",
   "execution_count": 37,
   "id": "769ae87c",
   "metadata": {},
   "outputs": [],
   "source": [
    "df_classes[\"id\"] = df_classes.index\n",
    "df_classes = df_classes[[\"id\", \"class_name\"]]"
   ]
  },
  {
   "cell_type": "code",
   "execution_count": 38,
   "id": "ac791227",
   "metadata": {},
   "outputs": [],
   "source": [
    "copy_to_sql(df_classes, \"classes\", \"demo_user\", if_exists=\"replace\")"
   ]
  },
  {
   "cell_type": "code",
   "execution_count": null,
   "id": "8f018dbd",
   "metadata": {},
   "outputs": [],
   "source": [
    "df_classes"
   ]
  },
  {
   "cell_type": "code",
   "execution_count": 40,
   "id": "35a359ff",
   "metadata": {},
   "outputs": [],
   "source": [
    "df_actual_class = df[[\"class\"]]\n",
    "df_actual_class.rename(columns={'class': 'class_name'}, inplace=True)\n",
    "df_actual_class[\"product_id\"] = df_actual_class.index\n",
    "df_actual_class = df_actual_class[[\"product_id\", \"class_name\"]]"
   ]
  },
  {
   "cell_type": "code",
   "execution_count": 41,
   "id": "7fe1e3d7",
   "metadata": {},
   "outputs": [],
   "source": [
    "copy_to_sql(df_actual_class, \"actual_classes\", \"demo_user\", if_exists=\"replace\")"
   ]
  },
  {
   "cell_type": "markdown",
   "id": "738aad4d",
   "metadata": {},
   "source": [
    "### Cleaning the Class Names"
   ]
  },
  {
   "cell_type": "code",
   "execution_count": 42,
   "id": "5d0db67a",
   "metadata": {},
   "outputs": [],
   "source": [
    "cleaning_query = \"\"\"\n",
    "UPDATE demo_user.classes\n",
    "SET class_name = LOWER(\n",
    "                  TRIM(\n",
    "                      REGEXP_REPLACE(\n",
    "                        REGEXP_REPLACE(class_name, '[^\\w\\s]', ' '),                                \n",
    "                      '[-_/\\\\|]', ' ')                           \n",
    "                  )\n",
    "                );\n",
    "\n",
    "\"\"\""
   ]
  },
  {
   "cell_type": "code",
   "execution_count": 43,
   "id": "148eacc6",
   "metadata": {},
   "outputs": [
    {
     "data": {
      "text/plain": [
       "[]"
      ]
     },
     "execution_count": 43,
     "metadata": {},
     "output_type": "execute_result"
    }
   ],
   "source": [
    "td_db.execute_query(cleaning_query)"
   ]
  },
  {
   "cell_type": "code",
   "execution_count": null,
   "id": "d1dc7b15",
   "metadata": {},
   "outputs": [],
   "source": [
    "tdf = td_db.execute_query(\"Select * from demo_user.classes\")\n",
    "df = pd.DataFrame(tdf)\n",
    "df"
   ]
  },
  {
   "cell_type": "code",
   "execution_count": 45,
   "id": "2e7bc84e",
   "metadata": {},
   "outputs": [],
   "source": [
    "cleaning_query = \"\"\"\n",
    "UPDATE demo_user.actual_classes\n",
    "SET class_name = LOWER(\n",
    "                  TRIM(\n",
    "                      REGEXP_REPLACE(\n",
    "                        REGEXP_REPLACE(class_name, '[^\\w\\s]', ' '),                                \n",
    "                      '[-_/\\\\|]', ' ')                           \n",
    "                  )\n",
    "                );\n",
    "\n",
    "\"\"\""
   ]
  },
  {
   "cell_type": "code",
   "execution_count": 46,
   "id": "2859c153",
   "metadata": {},
   "outputs": [
    {
     "data": {
      "text/plain": [
       "[]"
      ]
     },
     "execution_count": 46,
     "metadata": {},
     "output_type": "execute_result"
    }
   ],
   "source": [
    "td_db.execute_query(cleaning_query)"
   ]
  },
  {
   "cell_type": "code",
   "execution_count": 47,
   "id": "b20ae7e4",
   "metadata": {},
   "outputs": [
    {
     "data": {
      "text/html": [
       "<div>\n",
       "<style scoped>\n",
       "    .dataframe tbody tr th:only-of-type {\n",
       "        vertical-align: middle;\n",
       "    }\n",
       "\n",
       "    .dataframe tbody tr th {\n",
       "        vertical-align: top;\n",
       "    }\n",
       "\n",
       "    .dataframe thead th {\n",
       "        text-align: right;\n",
       "    }\n",
       "</style>\n",
       "<table border=\"1\" class=\"dataframe\">\n",
       "  <thead>\n",
       "    <tr style=\"text-align: right;\">\n",
       "      <th></th>\n",
       "      <th>product_id</th>\n",
       "      <th>class_name</th>\n",
       "    </tr>\n",
       "  </thead>\n",
       "  <tbody>\n",
       "    <tr>\n",
       "      <th>0</th>\n",
       "      <td>0</td>\n",
       "      <td>vegetables   fruits</td>\n",
       "    </tr>\n",
       "    <tr>\n",
       "      <th>1</th>\n",
       "      <td>49149</td>\n",
       "      <td>rice  pasta   pulses</td>\n",
       "    </tr>\n",
       "    <tr>\n",
       "      <th>2</th>\n",
       "      <td>32766</td>\n",
       "      <td>rice  pasta   pulses</td>\n",
       "    </tr>\n",
       "    <tr>\n",
       "      <th>3</th>\n",
       "      <td>1</td>\n",
       "      <td>tea  coffee   hot drinks</td>\n",
       "    </tr>\n",
       "    <tr>\n",
       "      <th>4</th>\n",
       "      <td>49150</td>\n",
       "      <td>poultry</td>\n",
       "    </tr>\n",
       "    <tr>\n",
       "      <th>...</th>\n",
       "      <td>...</td>\n",
       "      <td>...</td>\n",
       "    </tr>\n",
       "    <tr>\n",
       "      <th>52489</th>\n",
       "      <td>32761</td>\n",
       "      <td>sauces  dressings   condiments</td>\n",
       "    </tr>\n",
       "    <tr>\n",
       "      <th>52490</th>\n",
       "      <td>32762</td>\n",
       "      <td>biscuits   cakes</td>\n",
       "    </tr>\n",
       "    <tr>\n",
       "      <th>52491</th>\n",
       "      <td>32763</td>\n",
       "      <td>soft drinks   juices</td>\n",
       "    </tr>\n",
       "    <tr>\n",
       "      <th>52492</th>\n",
       "      <td>32764</td>\n",
       "      <td>sauces  dressings   condiments</td>\n",
       "    </tr>\n",
       "    <tr>\n",
       "      <th>52493</th>\n",
       "      <td>32765</td>\n",
       "      <td>sauces  dressings   condiments</td>\n",
       "    </tr>\n",
       "  </tbody>\n",
       "</table>\n",
       "<p>52494 rows × 2 columns</p>\n",
       "</div>"
      ],
      "text/plain": [
       "       product_id                      class_name\n",
       "0               0             vegetables   fruits\n",
       "1           49149            rice  pasta   pulses\n",
       "2           32766            rice  pasta   pulses\n",
       "3               1        tea  coffee   hot drinks\n",
       "4           49150                         poultry\n",
       "...           ...                             ...\n",
       "52489       32761  sauces  dressings   condiments\n",
       "52490       32762                biscuits   cakes\n",
       "52491       32763            soft drinks   juices\n",
       "52492       32764  sauces  dressings   condiments\n",
       "52493       32765  sauces  dressings   condiments\n",
       "\n",
       "[52494 rows x 2 columns]"
      ]
     },
     "execution_count": 47,
     "metadata": {},
     "output_type": "execute_result"
    }
   ],
   "source": [
    "tdf = td_db.execute_query(\"Select * from demo_user.actual_classes\")\n",
    "df = pd.DataFrame(tdf)\n",
    "df"
   ]
  },
  {
   "cell_type": "markdown",
   "id": "9098c91b",
   "metadata": {},
   "source": [
    "### Create Product Embeddings"
   ]
  },
  {
   "cell_type": "code",
   "execution_count": 4,
   "id": "62c91ead",
   "metadata": {},
   "outputs": [
    {
     "data": {
      "text/html": [
       "<div>\n",
       "<style scoped>\n",
       "    .dataframe tbody tr th:only-of-type {\n",
       "        vertical-align: middle;\n",
       "    }\n",
       "\n",
       "    .dataframe tbody tr th {\n",
       "        vertical-align: top;\n",
       "    }\n",
       "\n",
       "    .dataframe thead th {\n",
       "        text-align: right;\n",
       "    }\n",
       "</style>\n",
       "<table border=\"1\" class=\"dataframe\">\n",
       "  <thead>\n",
       "    <tr style=\"text-align: right;\">\n",
       "      <th></th>\n",
       "      <th>id</th>\n",
       "      <th>translated_name</th>\n",
       "    </tr>\n",
       "  </thead>\n",
       "  <tbody>\n",
       "    <tr>\n",
       "      <th>0</th>\n",
       "      <td>0</td>\n",
       "      <td>Montana Corn C</td>\n",
       "    </tr>\n",
       "    <tr>\n",
       "      <th>1</th>\n",
       "      <td>40837</td>\n",
       "      <td>Reb i Estek</td>\n",
       "    </tr>\n",
       "    <tr>\n",
       "      <th>2</th>\n",
       "      <td>18749</td>\n",
       "      <td>Basma Molokhiya</td>\n",
       "    </tr>\n",
       "    <tr>\n",
       "      <th>3</th>\n",
       "      <td>40838</td>\n",
       "      <td>Americana Beans with ghee g</td>\n",
       "    </tr>\n",
       "    <tr>\n",
       "      <th>4</th>\n",
       "      <td>1</td>\n",
       "      <td>AHMAD TEA FRUIT AND HERB SELECTION HERBAL TEAB...</td>\n",
       "    </tr>\n",
       "    <tr>\n",
       "      <th>...</th>\n",
       "      <td>...</td>\n",
       "      <td>...</td>\n",
       "    </tr>\n",
       "    <tr>\n",
       "      <th>37579</th>\n",
       "      <td>40833</td>\n",
       "      <td>Fragile disc.</td>\n",
       "    </tr>\n",
       "    <tr>\n",
       "      <th>37580</th>\n",
       "      <td>18745</td>\n",
       "      <td>Marmaris Jam Pasta</td>\n",
       "    </tr>\n",
       "    <tr>\n",
       "      <th>37581</th>\n",
       "      <td>40834</td>\n",
       "      <td>Tuna Jam Rose</td>\n",
       "    </tr>\n",
       "    <tr>\n",
       "      <th>37582</th>\n",
       "      <td>18747</td>\n",
       "      <td>Tiger kebab potato chips gm</td>\n",
       "    </tr>\n",
       "    <tr>\n",
       "      <th>37583</th>\n",
       "      <td>40835</td>\n",
       "      <td>Rehana Ginger Powder</td>\n",
       "    </tr>\n",
       "  </tbody>\n",
       "</table>\n",
       "<p>37584 rows × 2 columns</p>\n",
       "</div>"
      ],
      "text/plain": [
       "          id                                    translated_name\n",
       "0          0                                     Montana Corn C\n",
       "1      40837                                        Reb i Estek\n",
       "2      18749                                    Basma Molokhiya\n",
       "3      40838                        Americana Beans with ghee g\n",
       "4          1  AHMAD TEA FRUIT AND HERB SELECTION HERBAL TEAB...\n",
       "...      ...                                                ...\n",
       "37579  40833                                      Fragile disc.\n",
       "37580  18745                                 Marmaris Jam Pasta\n",
       "37581  40834                                      Tuna Jam Rose\n",
       "37582  18747                        Tiger kebab potato chips gm\n",
       "37583  40835                               Rehana Ginger Powder\n",
       "\n",
       "[37584 rows x 2 columns]"
      ]
     },
     "execution_count": 4,
     "metadata": {},
     "output_type": "execute_result"
    }
   ],
   "source": [
    "tdf = td_db.execute_query(\"Select * from demo_user.products\")\n",
    "df = pd.DataFrame(tdf)\n",
    "df"
   ]
  },
  {
   "cell_type": "code",
   "execution_count": 5,
   "id": "fa4b51eb",
   "metadata": {},
   "outputs": [
    {
     "data": {
      "application/vnd.jupyter.widget-view+json": {
       "model_id": "ed0cd15942674623ba1595d12cecf8b2",
       "version_major": 2,
       "version_minor": 0
      },
      "text/plain": [
       "Loading checkpoint shards:   0%|          | 0/4 [00:00<?, ?it/s]"
      ]
     },
     "metadata": {},
     "output_type": "display_data"
    }
   ],
   "source": [
    "# model = load_falcon3_embedding_model(FALCON3_7B_CONFIG_PATH)\n",
    "model = load_embedding_model(QWEN3_8B_CONFIG_PATH)"
   ]
  },
  {
   "cell_type": "code",
   "execution_count": null,
   "id": "2ecbc626",
   "metadata": {},
   "outputs": [],
   "source": [
    "products = df[\"translated_name\"].tolist()\n",
    "#embeddings = model.get_embeddings(products)\n",
    "batch_size = 26\n",
    "embeddings = []\n",
    "\n",
    "for i in range(0, len(products), batch_size):\n",
    "    batch = products[i:i+batch_size]\n",
    "    batch_embeddings = model.get_embeddings(batch)\n",
    "\n",
    "    # Ensure each batch is a proper list of lists\n",
    "    if hasattr(batch_embeddings, \"tolist\"):\n",
    "        batch_embeddings = batch_embeddings.tolist()\n",
    "\n",
    "    embeddings.extend(batch_embeddings)"
   ]
  },
  {
   "cell_type": "code",
   "execution_count": 9,
   "id": "24c8c22c",
   "metadata": {},
   "outputs": [
    {
     "data": {
      "text/plain": [
       "37584"
      ]
     },
     "execution_count": 9,
     "metadata": {},
     "output_type": "execute_result"
    }
   ],
   "source": [
    "len(embeddings)"
   ]
  },
  {
   "cell_type": "code",
   "execution_count": 10,
   "id": "5747bc8e",
   "metadata": {},
   "outputs": [
    {
     "data": {
      "text/plain": [
       "1024"
      ]
     },
     "execution_count": 10,
     "metadata": {},
     "output_type": "execute_result"
    }
   ],
   "source": [
    "df[\"embeddings\"] = embeddings\n",
    "len(df[\"embeddings\"][0])"
   ]
  },
  {
   "cell_type": "code",
   "execution_count": 11,
   "id": "e5accdb2",
   "metadata": {},
   "outputs": [],
   "source": [
    "df = df[[\"id\", \"embeddings\"]]\n",
    "df.to_csv(PRODUCT_FULL_DATASET_EMBEDDINGS__QWEN_PATH)"
   ]
  },
  {
   "cell_type": "markdown",
   "id": "018c7de1",
   "metadata": {},
   "source": [
    "### Insert Product Embeddings in DB (Directly from CSV)"
   ]
  },
  {
   "cell_type": "code",
   "execution_count": null,
   "id": "6b170f43",
   "metadata": {},
   "outputs": [],
   "source": [
    "df = pd.read_csv(PRODUCT_FULL_DATASET_EMBEDDINGS__QWEN_PATH)\n",
    "\n",
    "df[\"embeddings\"] = df[\"embeddings\"].apply(ast.literal_eval)"
   ]
  },
  {
   "cell_type": "code",
   "execution_count": null,
   "id": "8d0742a2",
   "metadata": {},
   "outputs": [],
   "source": [
    "emb_cols = pd.DataFrame(df[\"embeddings\"].to_list(), columns=[f\"embed_{i}\" for i in range(len(df[\"embeddings\"][0]))])"
   ]
  },
  {
   "cell_type": "code",
   "execution_count": null,
   "id": "c78b7268",
   "metadata": {},
   "outputs": [
    {
     "data": {
      "text/html": [
       "<div>\n",
       "<style scoped>\n",
       "    .dataframe tbody tr th:only-of-type {\n",
       "        vertical-align: middle;\n",
       "    }\n",
       "\n",
       "    .dataframe tbody tr th {\n",
       "        vertical-align: top;\n",
       "    }\n",
       "\n",
       "    .dataframe thead th {\n",
       "        text-align: right;\n",
       "    }\n",
       "</style>\n",
       "<table border=\"1\" class=\"dataframe\">\n",
       "  <thead>\n",
       "    <tr style=\"text-align: right;\">\n",
       "      <th></th>\n",
       "      <th>id</th>\n",
       "      <th>embed_0</th>\n",
       "      <th>embed_1</th>\n",
       "      <th>embed_2</th>\n",
       "      <th>embed_3</th>\n",
       "      <th>embed_4</th>\n",
       "      <th>embed_5</th>\n",
       "      <th>embed_6</th>\n",
       "      <th>embed_7</th>\n",
       "      <th>embed_8</th>\n",
       "      <th>...</th>\n",
       "      <th>embed_1014</th>\n",
       "      <th>embed_1015</th>\n",
       "      <th>embed_1016</th>\n",
       "      <th>embed_1017</th>\n",
       "      <th>embed_1018</th>\n",
       "      <th>embed_1019</th>\n",
       "      <th>embed_1020</th>\n",
       "      <th>embed_1021</th>\n",
       "      <th>embed_1022</th>\n",
       "      <th>embed_1023</th>\n",
       "    </tr>\n",
       "  </thead>\n",
       "  <tbody>\n",
       "    <tr>\n",
       "      <th>0</th>\n",
       "      <td>0</td>\n",
       "      <td>0.015328</td>\n",
       "      <td>0.039254</td>\n",
       "      <td>-0.003427</td>\n",
       "      <td>-0.037174</td>\n",
       "      <td>0.006399</td>\n",
       "      <td>-0.043421</td>\n",
       "      <td>-0.010520</td>\n",
       "      <td>0.065841</td>\n",
       "      <td>0.015048</td>\n",
       "      <td>...</td>\n",
       "      <td>-0.029317</td>\n",
       "      <td>-0.012436</td>\n",
       "      <td>-0.017701</td>\n",
       "      <td>-0.027084</td>\n",
       "      <td>0.021784</td>\n",
       "      <td>0.057254</td>\n",
       "      <td>0.006207</td>\n",
       "      <td>-0.015104</td>\n",
       "      <td>-0.029992</td>\n",
       "      <td>0.046426</td>\n",
       "    </tr>\n",
       "    <tr>\n",
       "      <th>1</th>\n",
       "      <td>40837</td>\n",
       "      <td>0.029369</td>\n",
       "      <td>0.050631</td>\n",
       "      <td>0.001408</td>\n",
       "      <td>-0.055559</td>\n",
       "      <td>-0.008562</td>\n",
       "      <td>-0.009442</td>\n",
       "      <td>0.005418</td>\n",
       "      <td>0.018761</td>\n",
       "      <td>0.006816</td>\n",
       "      <td>...</td>\n",
       "      <td>-0.004117</td>\n",
       "      <td>-0.020857</td>\n",
       "      <td>0.000761</td>\n",
       "      <td>-0.010358</td>\n",
       "      <td>0.029784</td>\n",
       "      <td>0.029281</td>\n",
       "      <td>-0.000801</td>\n",
       "      <td>-0.029878</td>\n",
       "      <td>-0.024836</td>\n",
       "      <td>0.045829</td>\n",
       "    </tr>\n",
       "    <tr>\n",
       "      <th>2</th>\n",
       "      <td>18749</td>\n",
       "      <td>0.030012</td>\n",
       "      <td>0.014037</td>\n",
       "      <td>0.013602</td>\n",
       "      <td>-0.053966</td>\n",
       "      <td>-0.001614</td>\n",
       "      <td>-0.008398</td>\n",
       "      <td>0.015482</td>\n",
       "      <td>0.014098</td>\n",
       "      <td>0.028291</td>\n",
       "      <td>...</td>\n",
       "      <td>-0.030414</td>\n",
       "      <td>-0.007876</td>\n",
       "      <td>0.017925</td>\n",
       "      <td>-0.008461</td>\n",
       "      <td>0.018188</td>\n",
       "      <td>0.047249</td>\n",
       "      <td>0.018842</td>\n",
       "      <td>-0.011374</td>\n",
       "      <td>-0.035489</td>\n",
       "      <td>0.009465</td>\n",
       "    </tr>\n",
       "    <tr>\n",
       "      <th>3</th>\n",
       "      <td>40838</td>\n",
       "      <td>0.036557</td>\n",
       "      <td>0.044264</td>\n",
       "      <td>0.001074</td>\n",
       "      <td>-0.026326</td>\n",
       "      <td>0.020214</td>\n",
       "      <td>-0.029555</td>\n",
       "      <td>-0.007647</td>\n",
       "      <td>0.053449</td>\n",
       "      <td>0.013849</td>\n",
       "      <td>...</td>\n",
       "      <td>-0.033112</td>\n",
       "      <td>-0.020942</td>\n",
       "      <td>0.017518</td>\n",
       "      <td>-0.046515</td>\n",
       "      <td>0.026689</td>\n",
       "      <td>0.037485</td>\n",
       "      <td>-0.020751</td>\n",
       "      <td>-0.029199</td>\n",
       "      <td>-0.041687</td>\n",
       "      <td>0.034662</td>\n",
       "    </tr>\n",
       "    <tr>\n",
       "      <th>4</th>\n",
       "      <td>1</td>\n",
       "      <td>0.042021</td>\n",
       "      <td>0.029750</td>\n",
       "      <td>-0.029577</td>\n",
       "      <td>-0.036600</td>\n",
       "      <td>0.030576</td>\n",
       "      <td>-0.050543</td>\n",
       "      <td>-0.027985</td>\n",
       "      <td>0.035200</td>\n",
       "      <td>0.034652</td>\n",
       "      <td>...</td>\n",
       "      <td>-0.052281</td>\n",
       "      <td>-0.079466</td>\n",
       "      <td>0.016898</td>\n",
       "      <td>-0.028278</td>\n",
       "      <td>0.013814</td>\n",
       "      <td>0.037772</td>\n",
       "      <td>0.025222</td>\n",
       "      <td>-0.044246</td>\n",
       "      <td>-0.055822</td>\n",
       "      <td>0.016314</td>\n",
       "    </tr>\n",
       "    <tr>\n",
       "      <th>...</th>\n",
       "      <td>...</td>\n",
       "      <td>...</td>\n",
       "      <td>...</td>\n",
       "      <td>...</td>\n",
       "      <td>...</td>\n",
       "      <td>...</td>\n",
       "      <td>...</td>\n",
       "      <td>...</td>\n",
       "      <td>...</td>\n",
       "      <td>...</td>\n",
       "      <td>...</td>\n",
       "      <td>...</td>\n",
       "      <td>...</td>\n",
       "      <td>...</td>\n",
       "      <td>...</td>\n",
       "      <td>...</td>\n",
       "      <td>...</td>\n",
       "      <td>...</td>\n",
       "      <td>...</td>\n",
       "      <td>...</td>\n",
       "      <td>...</td>\n",
       "    </tr>\n",
       "    <tr>\n",
       "      <th>37579</th>\n",
       "      <td>40833</td>\n",
       "      <td>0.025366</td>\n",
       "      <td>0.027520</td>\n",
       "      <td>-0.007039</td>\n",
       "      <td>-0.026696</td>\n",
       "      <td>0.037357</td>\n",
       "      <td>-0.009309</td>\n",
       "      <td>0.000706</td>\n",
       "      <td>0.076981</td>\n",
       "      <td>0.042368</td>\n",
       "      <td>...</td>\n",
       "      <td>-0.024959</td>\n",
       "      <td>-0.027232</td>\n",
       "      <td>0.030310</td>\n",
       "      <td>-0.012734</td>\n",
       "      <td>0.033812</td>\n",
       "      <td>0.036596</td>\n",
       "      <td>0.043399</td>\n",
       "      <td>-0.030106</td>\n",
       "      <td>-0.046717</td>\n",
       "      <td>0.015050</td>\n",
       "    </tr>\n",
       "    <tr>\n",
       "      <th>37580</th>\n",
       "      <td>18745</td>\n",
       "      <td>0.031433</td>\n",
       "      <td>0.040032</td>\n",
       "      <td>0.011296</td>\n",
       "      <td>-0.035078</td>\n",
       "      <td>0.006681</td>\n",
       "      <td>0.009141</td>\n",
       "      <td>-0.001431</td>\n",
       "      <td>0.023426</td>\n",
       "      <td>0.014119</td>\n",
       "      <td>...</td>\n",
       "      <td>-0.020247</td>\n",
       "      <td>-0.037832</td>\n",
       "      <td>0.021014</td>\n",
       "      <td>-0.007632</td>\n",
       "      <td>0.030130</td>\n",
       "      <td>0.032414</td>\n",
       "      <td>-0.010519</td>\n",
       "      <td>-0.021812</td>\n",
       "      <td>-0.041907</td>\n",
       "      <td>0.022395</td>\n",
       "    </tr>\n",
       "    <tr>\n",
       "      <th>37581</th>\n",
       "      <td>40834</td>\n",
       "      <td>0.029359</td>\n",
       "      <td>0.036676</td>\n",
       "      <td>-0.016532</td>\n",
       "      <td>-0.037347</td>\n",
       "      <td>0.001596</td>\n",
       "      <td>-0.029049</td>\n",
       "      <td>-0.011044</td>\n",
       "      <td>0.032673</td>\n",
       "      <td>0.041653</td>\n",
       "      <td>...</td>\n",
       "      <td>-0.035220</td>\n",
       "      <td>-0.044813</td>\n",
       "      <td>-0.003143</td>\n",
       "      <td>0.009704</td>\n",
       "      <td>0.031135</td>\n",
       "      <td>0.037403</td>\n",
       "      <td>-0.001130</td>\n",
       "      <td>-0.032121</td>\n",
       "      <td>-0.046928</td>\n",
       "      <td>0.012263</td>\n",
       "    </tr>\n",
       "    <tr>\n",
       "      <th>37582</th>\n",
       "      <td>18747</td>\n",
       "      <td>0.019306</td>\n",
       "      <td>0.034287</td>\n",
       "      <td>-0.002833</td>\n",
       "      <td>-0.042215</td>\n",
       "      <td>0.011933</td>\n",
       "      <td>-0.015229</td>\n",
       "      <td>-0.016382</td>\n",
       "      <td>0.012368</td>\n",
       "      <td>0.037919</td>\n",
       "      <td>...</td>\n",
       "      <td>-0.046862</td>\n",
       "      <td>-0.024158</td>\n",
       "      <td>0.020916</td>\n",
       "      <td>-0.040049</td>\n",
       "      <td>0.002285</td>\n",
       "      <td>0.004963</td>\n",
       "      <td>0.017478</td>\n",
       "      <td>-0.029646</td>\n",
       "      <td>-0.049897</td>\n",
       "      <td>0.004193</td>\n",
       "    </tr>\n",
       "    <tr>\n",
       "      <th>37583</th>\n",
       "      <td>40835</td>\n",
       "      <td>0.012711</td>\n",
       "      <td>0.036295</td>\n",
       "      <td>-0.013396</td>\n",
       "      <td>-0.048907</td>\n",
       "      <td>0.006493</td>\n",
       "      <td>-0.038477</td>\n",
       "      <td>0.000978</td>\n",
       "      <td>0.044648</td>\n",
       "      <td>0.021022</td>\n",
       "      <td>...</td>\n",
       "      <td>-0.038036</td>\n",
       "      <td>-0.048957</td>\n",
       "      <td>0.032022</td>\n",
       "      <td>-0.023672</td>\n",
       "      <td>0.023908</td>\n",
       "      <td>0.025823</td>\n",
       "      <td>-0.005897</td>\n",
       "      <td>-0.029004</td>\n",
       "      <td>-0.048676</td>\n",
       "      <td>0.013542</td>\n",
       "    </tr>\n",
       "  </tbody>\n",
       "</table>\n",
       "<p>37584 rows × 1025 columns</p>\n",
       "</div>"
      ],
      "text/plain": [
       "          id   embed_0   embed_1   embed_2   embed_3   embed_4   embed_5  \\\n",
       "0          0  0.015328  0.039254 -0.003427 -0.037174  0.006399 -0.043421   \n",
       "1      40837  0.029369  0.050631  0.001408 -0.055559 -0.008562 -0.009442   \n",
       "2      18749  0.030012  0.014037  0.013602 -0.053966 -0.001614 -0.008398   \n",
       "3      40838  0.036557  0.044264  0.001074 -0.026326  0.020214 -0.029555   \n",
       "4          1  0.042021  0.029750 -0.029577 -0.036600  0.030576 -0.050543   \n",
       "...      ...       ...       ...       ...       ...       ...       ...   \n",
       "37579  40833  0.025366  0.027520 -0.007039 -0.026696  0.037357 -0.009309   \n",
       "37580  18745  0.031433  0.040032  0.011296 -0.035078  0.006681  0.009141   \n",
       "37581  40834  0.029359  0.036676 -0.016532 -0.037347  0.001596 -0.029049   \n",
       "37582  18747  0.019306  0.034287 -0.002833 -0.042215  0.011933 -0.015229   \n",
       "37583  40835  0.012711  0.036295 -0.013396 -0.048907  0.006493 -0.038477   \n",
       "\n",
       "        embed_6   embed_7   embed_8  ...  embed_1014  embed_1015  embed_1016  \\\n",
       "0     -0.010520  0.065841  0.015048  ...   -0.029317   -0.012436   -0.017701   \n",
       "1      0.005418  0.018761  0.006816  ...   -0.004117   -0.020857    0.000761   \n",
       "2      0.015482  0.014098  0.028291  ...   -0.030414   -0.007876    0.017925   \n",
       "3     -0.007647  0.053449  0.013849  ...   -0.033112   -0.020942    0.017518   \n",
       "4     -0.027985  0.035200  0.034652  ...   -0.052281   -0.079466    0.016898   \n",
       "...         ...       ...       ...  ...         ...         ...         ...   \n",
       "37579  0.000706  0.076981  0.042368  ...   -0.024959   -0.027232    0.030310   \n",
       "37580 -0.001431  0.023426  0.014119  ...   -0.020247   -0.037832    0.021014   \n",
       "37581 -0.011044  0.032673  0.041653  ...   -0.035220   -0.044813   -0.003143   \n",
       "37582 -0.016382  0.012368  0.037919  ...   -0.046862   -0.024158    0.020916   \n",
       "37583  0.000978  0.044648  0.021022  ...   -0.038036   -0.048957    0.032022   \n",
       "\n",
       "       embed_1017  embed_1018  embed_1019  embed_1020  embed_1021  embed_1022  \\\n",
       "0       -0.027084    0.021784    0.057254    0.006207   -0.015104   -0.029992   \n",
       "1       -0.010358    0.029784    0.029281   -0.000801   -0.029878   -0.024836   \n",
       "2       -0.008461    0.018188    0.047249    0.018842   -0.011374   -0.035489   \n",
       "3       -0.046515    0.026689    0.037485   -0.020751   -0.029199   -0.041687   \n",
       "4       -0.028278    0.013814    0.037772    0.025222   -0.044246   -0.055822   \n",
       "...           ...         ...         ...         ...         ...         ...   \n",
       "37579   -0.012734    0.033812    0.036596    0.043399   -0.030106   -0.046717   \n",
       "37580   -0.007632    0.030130    0.032414   -0.010519   -0.021812   -0.041907   \n",
       "37581    0.009704    0.031135    0.037403   -0.001130   -0.032121   -0.046928   \n",
       "37582   -0.040049    0.002285    0.004963    0.017478   -0.029646   -0.049897   \n",
       "37583   -0.023672    0.023908    0.025823   -0.005897   -0.029004   -0.048676   \n",
       "\n",
       "       embed_1023  \n",
       "0        0.046426  \n",
       "1        0.045829  \n",
       "2        0.009465  \n",
       "3        0.034662  \n",
       "4        0.016314  \n",
       "...           ...  \n",
       "37579    0.015050  \n",
       "37580    0.022395  \n",
       "37581    0.012263  \n",
       "37582    0.004193  \n",
       "37583    0.013542  \n",
       "\n",
       "[37584 rows x 1025 columns]"
      ]
     },
     "execution_count": 56,
     "metadata": {},
     "output_type": "execute_result"
    }
   ],
   "source": [
    "df_expanded = pd.concat([df[['id']], emb_cols], axis=1)\n",
    "df_expanded"
   ]
  },
  {
   "cell_type": "code",
   "execution_count": null,
   "id": "21757b44",
   "metadata": {},
   "outputs": [],
   "source": [
    "copy_to_sql(df_expanded, \"p_embeddings\", \"demo_user\", if_exists=\"replace\")"
   ]
  },
  {
   "cell_type": "markdown",
   "id": "cba2a557",
   "metadata": {},
   "source": [
    "### Insert Class Embeddings in DB (Directly from CSV)"
   ]
  },
  {
   "cell_type": "code",
   "execution_count": null,
   "id": "98c20ac2",
   "metadata": {},
   "outputs": [
    {
     "data": {
      "text/html": [
       "<div>\n",
       "<style scoped>\n",
       "    .dataframe tbody tr th:only-of-type {\n",
       "        vertical-align: middle;\n",
       "    }\n",
       "\n",
       "    .dataframe tbody tr th {\n",
       "        vertical-align: top;\n",
       "    }\n",
       "\n",
       "    .dataframe thead th {\n",
       "        text-align: right;\n",
       "    }\n",
       "</style>\n",
       "<table border=\"1\" class=\"dataframe\">\n",
       "  <thead>\n",
       "    <tr style=\"text-align: right;\">\n",
       "      <th></th>\n",
       "      <th>Item_Name</th>\n",
       "      <th>class</th>\n",
       "      <th>Brand</th>\n",
       "      <th>Weight</th>\n",
       "      <th>Number of units</th>\n",
       "      <th>Size of units</th>\n",
       "      <th>Price</th>\n",
       "      <th>T.Price</th>\n",
       "      <th>Pack</th>\n",
       "      <th>Unit</th>\n",
       "    </tr>\n",
       "  </thead>\n",
       "  <tbody>\n",
       "    <tr>\n",
       "      <th>0</th>\n",
       "      <td>مونتانا ذره 400 ج</td>\n",
       "      <td>Vegetables &amp; Fruits</td>\n",
       "      <td>مونتانا</td>\n",
       "      <td>400جم</td>\n",
       "      <td>1</td>\n",
       "      <td>NaN</td>\n",
       "      <td>NaN</td>\n",
       "      <td>NaN</td>\n",
       "      <td>كيس</td>\n",
       "      <td>جم</td>\n",
       "    </tr>\n",
       "    <tr>\n",
       "      <th>1</th>\n",
       "      <td>Ahmad Tea Fruit And Herb Selection Herbal Teab...</td>\n",
       "      <td>Tea, Coffee &amp; Hot Drinks</td>\n",
       "      <td>Ahmad Tea</td>\n",
       "      <td>NaN</td>\n",
       "      <td>20</td>\n",
       "      <td>NaN</td>\n",
       "      <td>NaN</td>\n",
       "      <td>NaN</td>\n",
       "      <td>علبة</td>\n",
       "      <td>NaN</td>\n",
       "    </tr>\n",
       "    <tr>\n",
       "      <th>2</th>\n",
       "      <td>Lulu Brown Samoon 1pkt</td>\n",
       "      <td>Bakery</td>\n",
       "      <td>Lulu</td>\n",
       "      <td>NaN</td>\n",
       "      <td>1</td>\n",
       "      <td>NaN</td>\n",
       "      <td>NaN</td>\n",
       "      <td>NaN</td>\n",
       "      <td>عبوة</td>\n",
       "      <td>NaN</td>\n",
       "    </tr>\n",
       "    <tr>\n",
       "      <th>3</th>\n",
       "      <td>فلفل رومى بلدى حشو وزن</td>\n",
       "      <td>Vegetables &amp; Fruits</td>\n",
       "      <td>NaN</td>\n",
       "      <td>NaN</td>\n",
       "      <td>1</td>\n",
       "      <td>NaN</td>\n",
       "      <td>NaN</td>\n",
       "      <td>NaN</td>\n",
       "      <td>كيس</td>\n",
       "      <td>NaN</td>\n",
       "    </tr>\n",
       "    <tr>\n",
       "      <th>4</th>\n",
       "      <td>كانز</td>\n",
       "      <td>Soft Drinks &amp; Juices</td>\n",
       "      <td>NaN</td>\n",
       "      <td>NaN</td>\n",
       "      <td>1</td>\n",
       "      <td>NaN</td>\n",
       "      <td>NaN</td>\n",
       "      <td>NaN</td>\n",
       "      <td>كانز</td>\n",
       "      <td>NaN</td>\n",
       "    </tr>\n",
       "  </tbody>\n",
       "</table>\n",
       "</div>"
      ],
      "text/plain": [
       "                                           Item_Name  \\\n",
       "0                                  مونتانا ذره 400 ج   \n",
       "1  Ahmad Tea Fruit And Herb Selection Herbal Teab...   \n",
       "2                             Lulu Brown Samoon 1pkt   \n",
       "3                             فلفل رومى بلدى حشو وزن   \n",
       "4                                               كانز   \n",
       "\n",
       "                      class      Brand Weight Number of units Size of units  \\\n",
       "0       Vegetables & Fruits    مونتانا  400جم               1           NaN   \n",
       "1  Tea, Coffee & Hot Drinks  Ahmad Tea    NaN              20           NaN   \n",
       "2                    Bakery       Lulu    NaN               1           NaN   \n",
       "3       Vegetables & Fruits        NaN    NaN               1           NaN   \n",
       "4      Soft Drinks & Juices        NaN    NaN               1           NaN   \n",
       "\n",
       "  Price T.Price  Pack Unit  \n",
       "0   NaN     NaN   كيس   جم  \n",
       "1   NaN     NaN  علبة  NaN  \n",
       "2   NaN     NaN  عبوة  NaN  \n",
       "3   NaN     NaN   كيس  NaN  \n",
       "4   NaN     NaN  كانز  NaN  "
      ]
     },
     "execution_count": 3,
     "metadata": {},
     "output_type": "execute_result"
    }
   ],
   "source": [
    "df = pd.read_csv(DATA_PATH / \"full_dataset.csv\")\n",
    "df.head()"
   ]
  },
  {
   "cell_type": "code",
   "execution_count": 4,
   "id": "bf9be8e7",
   "metadata": {},
   "outputs": [],
   "source": [
    "df_class = df[\"class\"].dropna().unique()\n",
    "# df = df.reset_index(drop=False) \n",
    "# df.rename(columns={'index': 'id'}, inplace=True)\n",
    "df = pd.DataFrame({\"class\": df_class})"
   ]
  },
  {
   "cell_type": "code",
   "execution_count": 5,
   "id": "d94a7ded",
   "metadata": {},
   "outputs": [],
   "source": [
    "# model = load_falcon3_embedding_model(FALCON3_7B_CONFIG_PATH)\n",
    "model = load_embedding_model(E5_LARGE_INSTRUCT_CONFIG_PATH)"
   ]
  },
  {
   "cell_type": "code",
   "execution_count": 6,
   "id": "cd1d2c9f",
   "metadata": {},
   "outputs": [
    {
     "data": {
      "application/vnd.jupyter.widget-view+json": {
       "model_id": "35d19e5797134524b9e669c4f0e7ff3d",
       "version_major": 2,
       "version_minor": 0
      },
      "text/plain": [
       "Batches:   0%|          | 0/2 [00:00<?, ?it/s]"
      ]
     },
     "metadata": {},
     "output_type": "display_data"
    }
   ],
   "source": [
    "classes = df[\"class\"].tolist()\n",
    "embeddings = model.get_embeddings(classes)\n",
    "# batch_size = 16\n",
    "# embeddings = []\n",
    "# for i in range(0, len(classes), batch_size):\n",
    "#     batch = classes[i:i+batch_size]\n",
    "#     batch_translations = model.get_embeddings(batch)\n",
    "#     embeddings.extend(batch_translations)"
   ]
  },
  {
   "cell_type": "code",
   "execution_count": 7,
   "id": "fb0a2ad9",
   "metadata": {},
   "outputs": [],
   "source": [
    "embeddings = embeddings.tolist()\n",
    "emb_cols = pd.DataFrame(embeddings, columns=[f'embed_{i}' for i in range(len(embeddings[0]))])"
   ]
  },
  {
   "cell_type": "code",
   "execution_count": 8,
   "id": "f8cae6d0",
   "metadata": {},
   "outputs": [],
   "source": [
    "df.reset_index(inplace=True)\n",
    "df.rename(columns={'index': 'id'}, inplace=True)\n",
    "df_expanded = pd.concat([df[['id']], emb_cols], axis=1)"
   ]
  },
  {
   "cell_type": "code",
   "execution_count": 9,
   "id": "abef9a4d",
   "metadata": {},
   "outputs": [],
   "source": [
    "copy_to_sql(df_expanded, \"c_embeddings\", \"demo_user\", if_exists=\"replace\")"
   ]
  },
  {
   "cell_type": "markdown",
   "id": "a72b2e43",
   "metadata": {},
   "source": [
    "### In-DB Similiraity"
   ]
  },
  {
   "cell_type": "code",
   "execution_count": 26,
   "id": "e66741fa",
   "metadata": {},
   "outputs": [],
   "source": [
    "RESULT_TABLE = \"demo_user.similiratiy_score\""
   ]
  },
  {
   "cell_type": "code",
   "execution_count": 27,
   "id": "9fbb8344",
   "metadata": {},
   "outputs": [],
   "source": [
    "# Create the result table\n",
    "q = f\"\"\"\n",
    "    CREATE TABLE {RESULT_TABLE} (\n",
    "        item_id BIGINT,\n",
    "        closest_category_id BIGINT,\n",
    "        cosine_distance FLOAT\n",
    "    );\n",
    "    \"\"\""
   ]
  },
  {
   "cell_type": "code",
   "execution_count": 28,
   "id": "330e2e19",
   "metadata": {},
   "outputs": [
    {
     "data": {
      "text/plain": [
       "[]"
      ]
     },
     "execution_count": 28,
     "metadata": {},
     "output_type": "execute_result"
    }
   ],
   "source": [
    "td_db.execute_query(q)"
   ]
  },
  {
   "cell_type": "code",
   "execution_count": 29,
   "id": "780dcb6a",
   "metadata": {},
   "outputs": [],
   "source": [
    "# Generate the string of vector columns for 1024 dimensions\n",
    "vector_cols = \", \".join([f\"embed_{i}\" for i in range(1024)])\n",
    "\n",
    "# Generate the quoted string for feature columns\n",
    "vector_cols_quoted = \", \".join([f\"'embed_{i}'\" for i in range(1024)])"
   ]
  },
  {
   "cell_type": "code",
   "execution_count": 30,
   "id": "8d9c535a",
   "metadata": {},
   "outputs": [
    {
     "data": {
      "text/plain": [
       "[]"
      ]
     },
     "execution_count": 30,
     "metadata": {},
     "output_type": "execute_result"
    }
   ],
   "source": [
    "classification_sql = f\"\"\"\n",
    "INSERT INTO {RESULT_TABLE}\n",
    "WITH RankedDistances AS (\n",
    "    SELECT\n",
    "        o.Target_ID AS product_id,\n",
    "        o.Reference_ID AS class_id,\n",
    "        o.Distance,\n",
    "        ROW_NUMBER() OVER (PARTITION BY o.Target_ID ORDER BY o.Distance ASC) as rn\n",
    "    FROM TD_VectorDistance (\n",
    "        ON (SELECT id, {vector_cols} FROM p_embeddings) AS TargetTable\n",
    "        ON (SELECT id, {vector_cols} FROM c_embeddings) AS ReferenceTable DIMENSION\n",
    "        USING\n",
    "            TargetIDColumn('id')\n",
    "            RefIDColumn('id')\n",
    "            TargetFeatureColumns({vector_cols_quoted})\n",
    "            RefFeatureColumns({vector_cols_quoted})\n",
    "            DistanceMeasure('cosine')\n",
    "    ) AS o\n",
    ")\n",
    "SELECT\n",
    "    product_id,\n",
    "    class_id,\n",
    "    Distance\n",
    "FROM RankedDistances\n",
    "WHERE rn = 1;\n",
    "\"\"\"\n",
    "td_db.execute_query(classification_sql)"
   ]
  },
  {
   "cell_type": "code",
   "execution_count": 31,
   "id": "dc461243",
   "metadata": {},
   "outputs": [
    {
     "data": {
      "application/vnd.jupyter.widget-view+json": {
       "model_id": "74ae68b801a34b7aa0b997fdc77ccf0f",
       "version_major": 2,
       "version_minor": 0
      },
      "text/plain": []
     },
     "metadata": {},
     "output_type": "display_data"
    },
    {
     "data": {
      "text/html": [
       "<style type=\"text/css\">\n",
       "\ttable { border:ridge 5px}\n",
       "\ttable td {border:inset 1px;}\n",
       "\ttable tr#HeaderRow {background-color:grey; color:white;}\n",
       "\t</style>\n",
       "<html><table style=\"min-width:1000px;\">\n",
       "\t<tr id=\"HeaderRow\">\n",
       "<th>item_id</th><th>closest_category_id</th><th>cosine_distance</th>\n",
       "</tr>\n",
       "\t<tr>\n",
       "\t\t<td>0</td>\n",
       "\t\t<td>31</td>\n",
       "\t\t<td>0.13978365945221805</td>\n",
       "\t</tr>\n",
       "\t<tr>\n",
       "\t\t<td>11</td>\n",
       "\t\t<td>10</td>\n",
       "\t\t<td>0.1181549479028765</td>\n",
       "\t</tr>\n",
       "\t<tr>\n",
       "\t\t<td>18</td>\n",
       "\t\t<td>8</td>\n",
       "\t\t<td>0.14703250275497404</td>\n",
       "\t</tr>\n",
       "\t<tr>\n",
       "\t\t<td>1</td>\n",
       "\t\t<td>31</td>\n",
       "\t\t<td>0.1322058824904213</td>\n",
       "\t</tr>\n",
       "\t<tr>\n",
       "\t\t<td>17</td>\n",
       "\t\t<td>11</td>\n",
       "\t\t<td>0.11793198392235371</td>\n",
       "\t</tr>\n",
       "\t<tr>\n",
       "\t\t<td>23</td>\n",
       "\t\t<td>1</td>\n",
       "\t\t<td>0.1251050758861031</td>\n",
       "\t</tr>\n",
       "\t<tr>\n",
       "\t\t<td>10</td>\n",
       "\t\t<td>1</td>\n",
       "\t\t<td>0.1165338996780606</td>\n",
       "\t</tr>\n",
       "\t<tr>\n",
       "\t\t<td>3</td>\n",
       "\t\t<td>2</td>\n",
       "\t\t<td>0.10829480215196019</td>\n",
       "\t</tr>\n",
       "\t<tr>\n",
       "\t\t<td>8</td>\n",
       "\t\t<td>28</td>\n",
       "\t\t<td>0.1563936197276643</td>\n",
       "\t</tr>\n",
       "\t<tr>\n",
       "\t\t<td>2</td>\n",
       "\t\t<td>12</td>\n",
       "\t\t<td>0.13975566093377878</td>\n",
       "\t</tr>\n",
       "</table></html>"
      ],
      "text/plain": [
       "   item_id  closest_category_id  cosine_distance\n",
       "0        0                   31         0.139784\n",
       "1       11                   10         0.118155\n",
       "2       18                    8         0.147033\n",
       "3        1                   31         0.132206\n",
       "4       17                   11         0.117932\n",
       "5       23                    1         0.125105\n",
       "6       10                    1         0.116534\n",
       "7        3                    2         0.108295\n",
       "8        8                   28         0.156394\n",
       "9        2                   12         0.139756"
      ]
     },
     "execution_count": 31,
     "metadata": {},
     "output_type": "execute_result"
    }
   ],
   "source": [
    "tdf = td_db.execute_query(\"SELECT * FROM demo_user.similiratiy_score\")\n",
    "tdf = DataFrame(tdf, False)\n",
    "tdf"
   ]
  },
  {
   "cell_type": "code",
   "execution_count": 32,
   "id": "4061bf1d",
   "metadata": {},
   "outputs": [],
   "source": [
    "results_query = f\"\"\"\n",
    "SELECT\n",
    "    p.translated_name AS product_name,\n",
    "    c.class_name AS predicted_class,\n",
    "    a.class_name AS actual_class,\n",
    "    r.cosine_distance AS similarity_score\n",
    "FROM {RESULT_TABLE} r\n",
    "JOIN products p\n",
    "    ON r.item_id = p.id\n",
    "JOIN classes c\n",
    "    ON r.closest_category_id = c.id\n",
    "JOIN actual_classes a\n",
    "    ON a.product_id = p.id;\n",
    "\"\"\""
   ]
  },
  {
   "cell_type": "code",
   "execution_count": 33,
   "id": "924d1c69",
   "metadata": {},
   "outputs": [],
   "source": [
    "tdf = td_db.execute_query(results_query)\n",
    "df = pd.DataFrame(tdf)"
   ]
  },
  {
   "cell_type": "code",
   "execution_count": 34,
   "id": "784d09d6",
   "metadata": {},
   "outputs": [
    {
     "data": {
      "text/html": [
       "<div>\n",
       "<style scoped>\n",
       "    .dataframe tbody tr th:only-of-type {\n",
       "        vertical-align: middle;\n",
       "    }\n",
       "\n",
       "    .dataframe tbody tr th {\n",
       "        vertical-align: top;\n",
       "    }\n",
       "\n",
       "    .dataframe thead th {\n",
       "        text-align: right;\n",
       "    }\n",
       "</style>\n",
       "<table border=\"1\" class=\"dataframe\">\n",
       "  <thead>\n",
       "    <tr style=\"text-align: right;\">\n",
       "      <th></th>\n",
       "      <th>product_name</th>\n",
       "      <th>predicted_class</th>\n",
       "      <th>actual_class</th>\n",
       "      <th>similarity_score</th>\n",
       "    </tr>\n",
       "  </thead>\n",
       "  <tbody>\n",
       "    <tr>\n",
       "      <th>0</th>\n",
       "      <td>Lemon Adalia</td>\n",
       "      <td>jams  spreads   syrups</td>\n",
       "      <td>tins  jars   packets</td>\n",
       "      <td>0.132206</td>\n",
       "    </tr>\n",
       "    <tr>\n",
       "      <th>1</th>\n",
       "      <td>Candlestick Chocolate Pure Hazelnut</td>\n",
       "      <td>chocolates  sweets   desserts</td>\n",
       "      <td>biscuits   cakes</td>\n",
       "      <td>0.111815</td>\n",
       "    </tr>\n",
       "    <tr>\n",
       "      <th>2</th>\n",
       "      <td>Lubya Baladi Jam</td>\n",
       "      <td>jams  spreads   syrups</td>\n",
       "      <td>rice  pasta   pulses</td>\n",
       "      <td>0.144473</td>\n",
       "    </tr>\n",
       "    <tr>\n",
       "      <th>3</th>\n",
       "      <td>americana okra zero gm</td>\n",
       "      <td>jams  spreads   syrups</td>\n",
       "      <td>vegetables   fruits</td>\n",
       "      <td>0.139784</td>\n",
       "    </tr>\n",
       "    <tr>\n",
       "      <th>4</th>\n",
       "      <td>Dasani water ml</td>\n",
       "      <td>water</td>\n",
       "      <td>water</td>\n",
       "      <td>0.108295</td>\n",
       "    </tr>\n",
       "    <tr>\n",
       "      <th>...</th>\n",
       "      <td>...</td>\n",
       "      <td>...</td>\n",
       "      <td>...</td>\n",
       "      <td>...</td>\n",
       "    </tr>\n",
       "    <tr>\n",
       "      <th>4568</th>\n",
       "      <td>morganic pasta sauce italian bolognese g</td>\n",
       "      <td>rice  pasta   pulses</td>\n",
       "      <td>tins  jars   packets</td>\n",
       "      <td>0.144159</td>\n",
       "    </tr>\n",
       "    <tr>\n",
       "      <th>4569</th>\n",
       "      <td>Foody fava beans plain k</td>\n",
       "      <td>vegetables   fruits</td>\n",
       "      <td>tins  jars   packets</td>\n",
       "      <td>0.129441</td>\n",
       "    </tr>\n",
       "    <tr>\n",
       "      <th>4570</th>\n",
       "      <td>Saw chicken hips.</td>\n",
       "      <td>poultry</td>\n",
       "      <td>poultry</td>\n",
       "      <td>0.160542</td>\n",
       "    </tr>\n",
       "    <tr>\n",
       "      <th>4571</th>\n",
       "      <td>Almarai Whole Milk L Plastic</td>\n",
       "      <td>dairy   eggs</td>\n",
       "      <td>dairy   eggs</td>\n",
       "      <td>0.135945</td>\n",
       "    </tr>\n",
       "    <tr>\n",
       "      <th>4572</th>\n",
       "      <td>dandarawy fava beans – g</td>\n",
       "      <td>nuts  dates   dried fruits</td>\n",
       "      <td>tins  jars   packets</td>\n",
       "      <td>0.152027</td>\n",
       "    </tr>\n",
       "  </tbody>\n",
       "</table>\n",
       "<p>4573 rows × 4 columns</p>\n",
       "</div>"
      ],
      "text/plain": [
       "                                  product_name                predicted_class  \\\n",
       "0                                 Lemon Adalia         jams  spreads   syrups   \n",
       "1          Candlestick Chocolate Pure Hazelnut  chocolates  sweets   desserts   \n",
       "2                             Lubya Baladi Jam         jams  spreads   syrups   \n",
       "3                       americana okra zero gm         jams  spreads   syrups   \n",
       "4                              Dasani water ml                          water   \n",
       "...                                        ...                            ...   \n",
       "4568  morganic pasta sauce italian bolognese g           rice  pasta   pulses   \n",
       "4569                  Foody fava beans plain k            vegetables   fruits   \n",
       "4570                         Saw chicken hips.                        poultry   \n",
       "4571              Almarai Whole Milk L Plastic                   dairy   eggs   \n",
       "4572                  dandarawy fava beans – g     nuts  dates   dried fruits   \n",
       "\n",
       "              actual_class  similarity_score  \n",
       "0     tins  jars   packets          0.132206  \n",
       "1         biscuits   cakes          0.111815  \n",
       "2     rice  pasta   pulses          0.144473  \n",
       "3      vegetables   fruits          0.139784  \n",
       "4                    water          0.108295  \n",
       "...                    ...               ...  \n",
       "4568  tins  jars   packets          0.144159  \n",
       "4569  tins  jars   packets          0.129441  \n",
       "4570               poultry          0.160542  \n",
       "4571          dairy   eggs          0.135945  \n",
       "4572  tins  jars   packets          0.152027  \n",
       "\n",
       "[4573 rows x 4 columns]"
      ]
     },
     "execution_count": 34,
     "metadata": {},
     "output_type": "execute_result"
    }
   ],
   "source": [
    "df"
   ]
  },
  {
   "cell_type": "code",
   "execution_count": null,
   "id": "b397dce9",
   "metadata": {},
   "outputs": [],
   "source": [
    "df.dropna(inplace=True)"
   ]
  },
  {
   "cell_type": "code",
   "execution_count": 36,
   "id": "f1398be3",
   "metadata": {},
   "outputs": [
    {
     "data": {
      "text/plain": [
       "0.4282552067718755"
      ]
     },
     "execution_count": 36,
     "metadata": {},
     "output_type": "execute_result"
    }
   ],
   "source": [
    "from sklearn.metrics import f1_score\n",
    "\n",
    "y_pred = df[\"predicted_class\"].tolist()\n",
    "y_true = df[\"actual_class\"].tolist()\n",
    "\n",
    "f1_score(y_true, y_pred, average=\"weighted\")"
   ]
  },
  {
   "cell_type": "code",
   "execution_count": 37,
   "id": "c7445e12",
   "metadata": {},
   "outputs": [],
   "source": [
    "copy_to_sql(df, \"results\", \"demo_user\", if_exists=\"replace\")"
   ]
  },
  {
   "cell_type": "code",
   "execution_count": null,
   "id": "a80a67c6",
   "metadata": {},
   "outputs": [],
   "source": [
    "query = \"\"\"\n",
    "SELECT * FROM TD_ClassificationEvaluator (\n",
    "   ON demo_user.results AS InputTable\n",
    "   OUT PERMANENT TABLE OutputTable(classification_metrics)\n",
    "   USING\n",
    "       ObservationColumn('actual_class')\n",
    "       PredictionColumn('predicted_class')\n",
    "       Labels(\n",
    "       'condiments dressings marinades', 'furniture', 'personal care skin body care', 'null', 'tea coffee hot Drinks', 'sweets desserts', 'hair shower bath soap', 'fruits', 'nuts dates dried fruits', 'vegetables fruits', 'home appliances', 'sauces dressings condiments', 'baby care', 'tea coffee', 'disposables napkins', 'tins jars packets', 'chips crackers', 'soft drinks juices', 'Cooking Ingredients', 'dairy eggs', 'bakery', 'vegetables herbs', 'biscuits cakes', 'candles air fresheners', 'water', 'rice pasta pulses', 'poultry', 'beef processed Meat', 'home textile', 'cleaning supplies', 'beef lamb meat', 'chocolates sweets desserts', 'jams spreads syrups')\n",
    ") AS dt;\n",
    "\"\"\"\n",
    "tdf = td_db.execute_query(query)"
   ]
  },
  {
   "cell_type": "code",
   "execution_count": 46,
   "id": "ddf958d5",
   "metadata": {},
   "outputs": [
    {
     "data": {
      "application/vnd.jupyter.widget-view+json": {
       "model_id": "167326f15271486599e433c4f8653933",
       "version_major": 2,
       "version_minor": 0
      },
      "text/plain": []
     },
     "metadata": {},
     "output_type": "display_data"
    },
    {
     "data": {
      "text/html": [
       "<style type=\"text/css\">\n",
       "\ttable { border:ridge 5px}\n",
       "\ttable td {border:inset 1px;}\n",
       "\ttable tr#HeaderRow {background-color:grey; color:white;}\n",
       "\t</style>\n",
       "<html><table style=\"min-width:1000px;\">\n",
       "\t<tr id=\"HeaderRow\">\n",
       "<th>SeqNum</th><th>Metric</th><th>MetricValue</th><th>index_label</th>\n",
       "</tr>\n",
       "\t<tr>\n",
       "\t\t<td>3</td>\n",
       "\t\t<td>Micro-Recall</td>\n",
       "\t\t<td>0.9292452830188679</td>\n",
       "\t\t<td>2</td>\n",
       "\t</tr>\n",
       "\t<tr>\n",
       "\t\t<td>5</td>\n",
       "\t\t<td>Macro-Precision</td>\n",
       "\t\t<td>0.18198704137533162</td>\n",
       "\t\t<td>4</td>\n",
       "\t</tr>\n",
       "\t<tr>\n",
       "\t\t<td>6</td>\n",
       "\t\t<td>Macro-Recall</td>\n",
       "\t\t<td>0.18001895134238396</td>\n",
       "\t\t<td>5</td>\n",
       "\t</tr>\n",
       "\t<tr>\n",
       "\t\t<td>7</td>\n",
       "\t\t<td>Macro-F1</td>\n",
       "\t\t<td>0.16592600446321615</td>\n",
       "\t\t<td>6</td>\n",
       "\t</tr>\n",
       "\t<tr>\n",
       "\t\t<td>9</td>\n",
       "\t\t<td>Weighted-Recall</td>\n",
       "\t\t<td>0.9292452830188679</td>\n",
       "\t\t<td>8</td>\n",
       "\t</tr>\n",
       "\t<tr>\n",
       "\t\t<td>10</td>\n",
       "\t\t<td>Weighted-F1</td>\n",
       "\t\t<td>0.9345127519519589</td>\n",
       "\t\t<td>9</td>\n",
       "\t</tr>\n",
       "\t<tr>\n",
       "\t\t<td>8</td>\n",
       "\t\t<td>Weighted-Precision</td>\n",
       "\t\t<td>0.9565417613453051</td>\n",
       "\t\t<td>7</td>\n",
       "\t</tr>\n",
       "\t<tr>\n",
       "\t\t<td>4</td>\n",
       "\t\t<td>Micro-F1</td>\n",
       "\t\t<td>0.9292452830188679</td>\n",
       "\t\t<td>3</td>\n",
       "\t</tr>\n",
       "\t<tr>\n",
       "\t\t<td>2</td>\n",
       "\t\t<td>Micro-Precision</td>\n",
       "\t\t<td>0.9292452830188679</td>\n",
       "\t\t<td>1</td>\n",
       "\t</tr>\n",
       "\t<tr>\n",
       "\t\t<td>1</td>\n",
       "\t\t<td>Accuracy</td>\n",
       "\t\t<td>0.9292452830188679</td>\n",
       "\t\t<td>0</td>\n",
       "\t</tr>\n",
       "</table></html>"
      ],
      "text/plain": [
       "   SeqNum              Metric  MetricValue  index_label\n",
       "0       3        Micro-Recall     0.929245            2\n",
       "1       5     Macro-Precision     0.181987            4\n",
       "2       6        Macro-Recall     0.180019            5\n",
       "3       7            Macro-F1     0.165926            6\n",
       "4       9     Weighted-Recall     0.929245            8\n",
       "5      10         Weighted-F1     0.934513            9\n",
       "6       8  Weighted-Precision     0.956542            7\n",
       "7       4            Micro-F1     0.929245            3\n",
       "8       2     Micro-Precision     0.929245            1\n",
       "9       1            Accuracy     0.929245            0"
      ]
     },
     "execution_count": 46,
     "metadata": {},
     "output_type": "execute_result"
    }
   ],
   "source": [
    "DataFrame(td_db.execute_query(\"select * from demo_user.classification_metrics\"))"
   ]
  },
  {
   "cell_type": "markdown",
   "id": "ab70901a",
   "metadata": {},
   "source": [
    "## Disconnect"
   ]
  },
  {
   "cell_type": "code",
   "execution_count": null,
   "id": "8e7863ef",
   "metadata": {},
   "outputs": [],
   "source": [
    "td_db.disconnect()"
   ]
  }
 ],
 "metadata": {
  "kernelspec": {
   "display_name": "Python 3",
   "language": "python",
   "name": "python3"
  },
  "language_info": {
   "codemirror_mode": {
    "name": "ipython",
    "version": 3
   },
   "file_extension": ".py",
   "mimetype": "text/x-python",
   "name": "python",
   "nbconvert_exporter": "python",
   "pygments_lexer": "ipython3",
   "version": "3.13.5"
  }
 },
 "nbformat": 4,
 "nbformat_minor": 5
}
