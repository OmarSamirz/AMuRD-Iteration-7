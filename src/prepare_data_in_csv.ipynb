{
 "cells": [
  {
   "cell_type": "markdown",
   "id": "2b93ccd1",
   "metadata": {},
   "source": [
    "# Import Libraries"
   ]
  },
  {
   "cell_type": "code",
   "execution_count": 1,
   "id": "85ee615c",
   "metadata": {},
   "outputs": [],
   "source": [
    "import pandas as pd\n",
    "from tqdm import tqdm\n",
    "\n",
    "from utils import (\n",
    "    clean_text, \n",
    "    remove_special_chars, \n",
    "    load_gpc_to_classes, \n",
    "    load_embedding_model,\n",
    "    load_translation_model,\n",
    ")\n",
    "from constants import (\n",
    "    TEST_DATA_PATH,\n",
    "    TRAIN_VAL_DATA_PATH,\n",
    "    CLEANED_TEST_DATA_PATH,\n",
    "    CLEANED_TRAIN_DATA_PATH,\n",
    "    E5_LARGE_INSTRUCT_CONFIG_PATH,\n",
    "    CLEANED_GPC_PATH,\n",
    "    PRODUCT_TEST_EMBEDDINGS_PATH,\n",
    "    PRODUCT_TRAIN_EMBEDDINGS_PATH,\n",
    "    CLASS_EMBEDDINGS_PATH,\n",
    "    OPUS_TRANSLATION_CONFIG_PATH,\n",
    ")"
   ]
  },
  {
   "cell_type": "code",
   "execution_count": 2,
   "id": "1d229544",
   "metadata": {},
   "outputs": [],
   "source": [
    "tqdm.pandas()"
   ]
  },
  {
   "cell_type": "markdown",
   "id": "4fd904fa",
   "metadata": {},
   "source": [
    "# Prepare Cleaned Products File"
   ]
  },
  {
   "cell_type": "markdown",
   "id": "145466ca",
   "metadata": {},
   "source": [
    "## Load Data"
   ]
  },
  {
   "cell_type": "code",
   "execution_count": 3,
   "id": "722180cf",
   "metadata": {},
   "outputs": [
    {
     "data": {
      "text/html": [
       "<div>\n",
       "<style scoped>\n",
       "    .dataframe tbody tr th:only-of-type {\n",
       "        vertical-align: middle;\n",
       "    }\n",
       "\n",
       "    .dataframe tbody tr th {\n",
       "        vertical-align: top;\n",
       "    }\n",
       "\n",
       "    .dataframe thead th {\n",
       "        text-align: right;\n",
       "    }\n",
       "</style>\n",
       "<table border=\"1\" class=\"dataframe\">\n",
       "  <thead>\n",
       "    <tr style=\"text-align: right;\">\n",
       "      <th></th>\n",
       "      <th>Item_Name</th>\n",
       "    </tr>\n",
       "  </thead>\n",
       "  <tbody>\n",
       "    <tr>\n",
       "      <th>0</th>\n",
       "      <td>Americana Okra zero 400 gm</td>\n",
       "    </tr>\n",
       "    <tr>\n",
       "      <th>1</th>\n",
       "      <td>ليمون اداليا 500 جم</td>\n",
       "    </tr>\n",
       "    <tr>\n",
       "      <th>2</th>\n",
       "      <td>صلصه هاينز برطمان خصم عرض</td>\n",
       "    </tr>\n",
       "    <tr>\n",
       "      <th>3</th>\n",
       "      <td>Dasani water 330ML</td>\n",
       "    </tr>\n",
       "    <tr>\n",
       "      <th>4</th>\n",
       "      <td>بودرة عصير أناناس من سورس، 900 جم</td>\n",
       "    </tr>\n",
       "  </tbody>\n",
       "</table>\n",
       "</div>"
      ],
      "text/plain": [
       "                           Item_Name\n",
       "0         Americana Okra zero 400 gm\n",
       "1                ليمون اداليا 500 جم\n",
       "2          صلصه هاينز برطمان خصم عرض\n",
       "3                 Dasani water 330ML\n",
       "4  بودرة عصير أناناس من سورس، 900 جم"
      ]
     },
     "execution_count": 3,
     "metadata": {},
     "output_type": "execute_result"
    }
   ],
   "source": [
    "df_test = pd.read_csv(TEST_DATA_PATH)\n",
    "df_train = pd.read_csv(TRAIN_VAL_DATA_PATH)\n",
    "\n",
    "df_test = df_test[[\"Item_Name\"]]\n",
    "df_train = df_train[[\"Item_Name\"]]\n",
    "\n",
    "df_test.head(5)"
   ]
  },
  {
   "cell_type": "markdown",
   "id": "a94edbb9",
   "metadata": {},
   "source": [
    "## Remove Nulls"
   ]
  },
  {
   "cell_type": "code",
   "execution_count": 4,
   "id": "ad563d0c",
   "metadata": {},
   "outputs": [
    {
     "name": "stdout",
     "output_type": "stream",
     "text": [
      "<class 'pandas.core.frame.DataFrame'>\n",
      "Index: 42944 entries, 0 to 42948\n",
      "Data columns (total 1 columns):\n",
      " #   Column     Non-Null Count  Dtype \n",
      "---  ------     --------------  ----- \n",
      " 0   Item_Name  42944 non-null  object\n",
      "dtypes: object(1)\n",
      "memory usage: 671.0+ KB\n"
     ]
    }
   ],
   "source": [
    "df_train.dropna(subset=[\"Item_Name\"], inplace=True)\n",
    "df_train.info()"
   ]
  },
  {
   "cell_type": "code",
   "execution_count": 5,
   "id": "3308ac30",
   "metadata": {},
   "outputs": [
    {
     "name": "stdout",
     "output_type": "stream",
     "text": [
      "<class 'pandas.core.frame.DataFrame'>\n",
      "RangeIndex: 4773 entries, 0 to 4772\n",
      "Data columns (total 1 columns):\n",
      " #   Column     Non-Null Count  Dtype \n",
      "---  ------     --------------  ----- \n",
      " 0   Item_Name  4773 non-null   object\n",
      "dtypes: object(1)\n",
      "memory usage: 37.4+ KB\n"
     ]
    }
   ],
   "source": [
    "df_test.dropna(subset=[\"Item_Name\"], inplace=True)\n",
    "df_test.info()"
   ]
  },
  {
   "cell_type": "markdown",
   "id": "27e9a6db",
   "metadata": {},
   "source": [
    "## Translate Data"
   ]
  },
  {
   "cell_type": "code",
   "execution_count": 6,
   "id": "645f96fd",
   "metadata": {},
   "outputs": [],
   "source": [
    "translate_model = load_translation_model(OPUS_TRANSLATION_CONFIG_PATH)"
   ]
  },
  {
   "cell_type": "code",
   "execution_count": 7,
   "id": "9540479c",
   "metadata": {},
   "outputs": [
    {
     "name": "stderr",
     "output_type": "stream",
     "text": [
      "100%|██████████| 42944/42944 [1:07:31<00:00, 10.60it/s]\n"
     ]
    }
   ],
   "source": [
    "df_train[\"translated_text\"] = df_train[\"Item_Name\"].progress_apply(translate_model.translate)"
   ]
  },
  {
   "cell_type": "code",
   "execution_count": 7,
   "id": "7f670f3c",
   "metadata": {},
   "outputs": [
    {
     "name": "stderr",
     "output_type": "stream",
     "text": [
      "100%|██████████| 4773/4773 [07:18<00:00, 10.89it/s]\n"
     ]
    }
   ],
   "source": [
    "df_test[\"translated_text\"] = df_test[\"Item_Name\"].progress_apply(translate_model.translate)"
   ]
  },
  {
   "cell_type": "markdown",
   "id": "8187ede8",
   "metadata": {},
   "source": [
    "## Clean Data"
   ]
  },
  {
   "cell_type": "code",
   "execution_count": null,
   "id": "2c47b906",
   "metadata": {},
   "outputs": [],
   "source": [
    "df_train[\"cleaned_text\"] = df_train[\"translated_text\"].apply(clean_text)\n",
    "df_train.head()"
   ]
  },
  {
   "cell_type": "code",
   "execution_count": 8,
   "id": "5c8734c4",
   "metadata": {},
   "outputs": [
    {
     "data": {
      "text/html": [
       "<div>\n",
       "<style scoped>\n",
       "    .dataframe tbody tr th:only-of-type {\n",
       "        vertical-align: middle;\n",
       "    }\n",
       "\n",
       "    .dataframe tbody tr th {\n",
       "        vertical-align: top;\n",
       "    }\n",
       "\n",
       "    .dataframe thead th {\n",
       "        text-align: right;\n",
       "    }\n",
       "</style>\n",
       "<table border=\"1\" class=\"dataframe\">\n",
       "  <thead>\n",
       "    <tr style=\"text-align: right;\">\n",
       "      <th></th>\n",
       "      <th>Item_Name</th>\n",
       "      <th>translated_text</th>\n",
       "      <th>cleaned_text</th>\n",
       "    </tr>\n",
       "  </thead>\n",
       "  <tbody>\n",
       "    <tr>\n",
       "      <th>0</th>\n",
       "      <td>Americana Okra zero 400 gm</td>\n",
       "      <td>Americana Okra zero 400 gm</td>\n",
       "      <td>americana okra zero gm</td>\n",
       "    </tr>\n",
       "    <tr>\n",
       "      <th>1</th>\n",
       "      <td>ليمون اداليا 500 جم</td>\n",
       "      <td>Lemon Adalia 500 gm</td>\n",
       "      <td>lemon adalia gm</td>\n",
       "    </tr>\n",
       "    <tr>\n",
       "      <th>2</th>\n",
       "      <td>صلصه هاينز برطمان خصم عرض</td>\n",
       "      <td>Heinz Bartman Sauce Discount Offer</td>\n",
       "      <td>heinz bartman sauce discount offer</td>\n",
       "    </tr>\n",
       "    <tr>\n",
       "      <th>3</th>\n",
       "      <td>Dasani water 330ML</td>\n",
       "      <td>Dasani water 330ML</td>\n",
       "      <td>dasani water ml</td>\n",
       "    </tr>\n",
       "    <tr>\n",
       "      <th>4</th>\n",
       "      <td>بودرة عصير أناناس من سورس، 900 جم</td>\n",
       "      <td>Soros Pineapple Juice Powder, 900g</td>\n",
       "      <td>soros pineapple juice powder g</td>\n",
       "    </tr>\n",
       "  </tbody>\n",
       "</table>\n",
       "</div>"
      ],
      "text/plain": [
       "                           Item_Name                     translated_text  \\\n",
       "0         Americana Okra zero 400 gm          Americana Okra zero 400 gm   \n",
       "1                ليمون اداليا 500 جم                 Lemon Adalia 500 gm   \n",
       "2          صلصه هاينز برطمان خصم عرض  Heinz Bartman Sauce Discount Offer   \n",
       "3                 Dasani water 330ML                  Dasani water 330ML   \n",
       "4  بودرة عصير أناناس من سورس، 900 جم  Soros Pineapple Juice Powder, 900g   \n",
       "\n",
       "                         cleaned_text  \n",
       "0              americana okra zero gm  \n",
       "1                     lemon adalia gm  \n",
       "2  heinz bartman sauce discount offer  \n",
       "3                     dasani water ml  \n",
       "4      soros pineapple juice powder g  "
      ]
     },
     "execution_count": 8,
     "metadata": {},
     "output_type": "execute_result"
    }
   ],
   "source": [
    "df_test[\"cleaned_text\"] = df_test[\"translated_text\"].apply(clean_text)\n",
    "df_test.head()"
   ]
  },
  {
   "cell_type": "code",
   "execution_count": 9,
   "id": "ae529cf2",
   "metadata": {},
   "outputs": [],
   "source": [
    "# df_train = df_train[~(df_train[\"cleaned_text\"]==\"\")]\n",
    "df_test = df_test[~(df_test[\"cleaned_text\"]==\"\")]"
   ]
  },
  {
   "cell_type": "code",
   "execution_count": 10,
   "id": "2a1d3cfa",
   "metadata": {},
   "outputs": [],
   "source": [
    "df_test.reset_index(drop=False, inplace=True)  \n",
    "df_test.rename(columns={\"index\": \"id\"}, inplace=True)\n",
    "\n",
    "# df_train.reset_index(drop=False, inplace=True)  \n",
    "# df_train.rename(columns={\"index\": \"id\"}, inplace=True)"
   ]
  },
  {
   "cell_type": "markdown",
   "id": "3375c77d",
   "metadata": {},
   "source": [
    "# Save Cleaned Data"
   ]
  },
  {
   "cell_type": "code",
   "execution_count": 11,
   "id": "752584dd",
   "metadata": {},
   "outputs": [],
   "source": [
    "df_test = df_test[df_test[\"cleaned_text\"]!=\"nan\"]\n",
    "# df_train = df_train[df_train[\"cleaned_text\"]!=\"nan\"]"
   ]
  },
  {
   "cell_type": "code",
   "execution_count": 30,
   "id": "e4662e52",
   "metadata": {},
   "outputs": [],
   "source": [
    "df_train[\"id\"] = df_train.index\n",
    "df_train.to_csv(CLEANED_TRAIN_DATA_PATH, index=False, encoding=\"utf-8-sig\")"
   ]
  },
  {
   "cell_type": "code",
   "execution_count": 12,
   "id": "d6323340",
   "metadata": {},
   "outputs": [],
   "source": [
    "df_test[\"id\"] = df_test.index\n",
    "df_test.to_csv(CLEANED_TEST_DATA_PATH, index=False, encoding=\"utf-8-sig\")"
   ]
  },
  {
   "cell_type": "markdown",
   "id": "c7e8c5e1",
   "metadata": {},
   "source": [
    "# Prepare Cleaned Classes File"
   ]
  },
  {
   "cell_type": "code",
   "execution_count": 33,
   "id": "7fa25171",
   "metadata": {},
   "outputs": [
    {
     "name": "stderr",
     "output_type": "stream",
     "text": [
      "100%|██████████| 185440/185440 [00:00<00:00, 584432.74it/s]\n",
      "100%|██████████| 185440/185440 [00:00<00:00, 670479.48it/s]\n",
      "100%|██████████| 185440/185440 [00:00<00:00, 278338.64it/s]\n"
     ]
    }
   ],
   "source": [
    "gpc_df = load_gpc_to_classes()\n",
    "gpc_df[\"class_name\"] = gpc_df[\"class_name\"].progress_apply(remove_special_chars)\n",
    "gpc_df[\"class_name_cleaned\"] = gpc_df[\"class_name_cleaned\"].progress_apply(remove_special_chars)\n",
    "gpc_df[\"description\"] = gpc_df[\"description\"].progress_apply(remove_special_chars)\n",
    "\n",
    "gpc_df.reset_index(drop=False, inplace=True)\n",
    "gpc_df.rename(columns={\"index\": \"id\"}, inplace=True)\n",
    "\n",
    "gpc_df.to_csv(CLEANED_GPC_PATH, index=False, encoding=\"utf-8-sig\")"
   ]
  },
  {
   "cell_type": "markdown",
   "id": "3e832af1",
   "metadata": {},
   "source": [
    "# Process Proudct Embeddings"
   ]
  },
  {
   "cell_type": "code",
   "execution_count": 14,
   "id": "3f298a49",
   "metadata": {},
   "outputs": [],
   "source": [
    "product_test_df = pd.read_csv(CLEANED_TEST_DATA_PATH)\n",
    "product_train_df = pd.read_csv(CLEANED_TRAIN_DATA_PATH)\n",
    "\n",
    "product_test_id = product_test_df[\"id\"].tolist()\n",
    "product_test_name = product_test_df[\"cleaned_text\"].tolist()\n",
    "\n",
    "product_train_id = product_train_df[\"id\"].tolist()\n",
    "product_train_name = product_train_df[\"cleaned_text\"].tolist()"
   ]
  },
  {
   "cell_type": "code",
   "execution_count": 15,
   "id": "6ac3a087",
   "metadata": {},
   "outputs": [],
   "source": [
    "model = load_embedding_model(E5_LARGE_INSTRUCT_CONFIG_PATH)"
   ]
  },
  {
   "cell_type": "code",
   "execution_count": 16,
   "id": "f74f2f63",
   "metadata": {},
   "outputs": [],
   "source": [
    "# train_embeddings = model.get_embeddings(product_train_name)\n",
    "test_embeddings = model.get_embeddings(product_test_name)"
   ]
  },
  {
   "cell_type": "code",
   "execution_count": 17,
   "id": "ca3c69e6",
   "metadata": {},
   "outputs": [],
   "source": [
    "# train_embeddings = train_embeddings.tolist()\n",
    "test_embeddings = test_embeddings.tolist()\n",
    "\n",
    "# product_train_df[\"embeddings\"] = train_embeddings\n",
    "product_test_df[\"embeddings\"] = test_embeddings"
   ]
  },
  {
   "cell_type": "code",
   "execution_count": 18,
   "id": "a579e3f5",
   "metadata": {},
   "outputs": [],
   "source": [
    "# product_train_embedding_df = product_train_df[[\"id\", \"embeddings\"]]\n",
    "product_test_embedding_df = product_test_df[[\"id\", \"embeddings\"]]\n",
    "\n",
    "# product_train_embedding_df.to_csv(PRODUCT_TRAIN_EMBEDDINGS_PATH, index=False, encoding=\"utf-8-sig\")\n",
    "product_test_embedding_df.to_csv(PRODUCT_TEST_EMBEDDINGS_PATH, index=False, encoding=\"utf-8-sig\")"
   ]
  },
  {
   "cell_type": "markdown",
   "id": "88a6578e",
   "metadata": {},
   "source": [
    "# Process Class Embeddings"
   ]
  },
  {
   "cell_type": "code",
   "execution_count": 39,
   "id": "f3db1199",
   "metadata": {},
   "outputs": [],
   "source": [
    "class_df = pd.read_csv(CLEANED_GPC_PATH)\n",
    "\n",
    "class_id = class_df[\"id\"].tolist()\n",
    "class_name = class_df[\"class_name_cleaned\"].astype(str).tolist()"
   ]
  },
  {
   "cell_type": "code",
   "execution_count": 40,
   "id": "3cbccc10",
   "metadata": {},
   "outputs": [],
   "source": [
    "model = load_embedding_model(E5_LARGE_INSTRUCT_CONFIG_PATH)\n",
    "embeddings = model.get_embeddings(class_name)"
   ]
  },
  {
   "cell_type": "code",
   "execution_count": 41,
   "id": "779350b7",
   "metadata": {},
   "outputs": [],
   "source": [
    "embeddings = embeddings.tolist()\n",
    "class_df[\"embeddings\"] = embeddings"
   ]
  },
  {
   "cell_type": "code",
   "execution_count": 42,
   "id": "f93d8a1c",
   "metadata": {},
   "outputs": [],
   "source": [
    "class_embedding_df = class_df[[\"id\", \"embeddings\"]]\n",
    "class_embedding_df.to_csv(CLASS_EMBEDDINGS_PATH, index=False, encoding=\"utf-8-sig\")"
   ]
  }
 ],
 "metadata": {
  "kernelspec": {
   "display_name": ".venv (3.12.9)",
   "language": "python",
   "name": "python3"
  },
  "language_info": {
   "codemirror_mode": {
    "name": "ipython",
    "version": 3
   },
   "file_extension": ".py",
   "mimetype": "text/x-python",
   "name": "python",
   "nbconvert_exporter": "python",
   "pygments_lexer": "ipython3",
   "version": "3.12.9"
  }
 },
 "nbformat": 4,
 "nbformat_minor": 5
}
