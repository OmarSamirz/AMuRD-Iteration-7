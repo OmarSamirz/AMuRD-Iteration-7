{
 "cells": [
  {
   "cell_type": "markdown",
   "id": "2b93ccd1",
   "metadata": {},
   "source": [
    "# Import Libraries"
   ]
  },
  {
   "cell_type": "code",
   "execution_count": 1,
   "id": "85ee615c",
   "metadata": {},
   "outputs": [],
   "source": [
    "import torch\n",
    "import pandas as pd\n",
    "\n",
    "import json\n",
    "\n",
    "from utils import clean_text, remove_numbers, remove_punctuations, remove_strings, remove_stopwords, remove_special_chars, load_gpc_to_classes, load_embedding_model\n",
    "from constants import (\n",
    "    TEST_DATA_PATH,\n",
    "    CLEANED_TEST_DATA_PATH,\n",
    "    GPC_PATH,\n",
    "    E5_LARGE_INSTRUCT_CONFIG_PATH,\n",
    "    CLEANED_GPC_PATH,\n",
    "    PRODUCT_EMBEDDINGS_PATH,\n",
    "    CLASS_EMBEDDINGS_PATH,\n",
    "    SIMILIRAITY_SCORES_PATH,\n",
    "    DEVICE\n",
    ")"
   ]
  },
  {
   "cell_type": "markdown",
   "id": "4fd904fa",
   "metadata": {},
   "source": [
    "# Prepare Cleaned Products File"
   ]
  },
  {
   "cell_type": "markdown",
   "id": "145466ca",
   "metadata": {},
   "source": [
    "## Load Data"
   ]
  },
  {
   "cell_type": "code",
   "execution_count": 2,
   "id": "722180cf",
   "metadata": {},
   "outputs": [
    {
     "data": {
      "text/html": [
       "<div>\n",
       "<style scoped>\n",
       "    .dataframe tbody tr th:only-of-type {\n",
       "        vertical-align: middle;\n",
       "    }\n",
       "\n",
       "    .dataframe tbody tr th {\n",
       "        vertical-align: top;\n",
       "    }\n",
       "\n",
       "    .dataframe thead th {\n",
       "        text-align: right;\n",
       "    }\n",
       "</style>\n",
       "<table border=\"1\" class=\"dataframe\">\n",
       "  <thead>\n",
       "    <tr style=\"text-align: right;\">\n",
       "      <th></th>\n",
       "      <th>Item_Name</th>\n",
       "      <th>Brand</th>\n",
       "    </tr>\n",
       "  </thead>\n",
       "  <tbody>\n",
       "    <tr>\n",
       "      <th>0</th>\n",
       "      <td>Americana Okra zero 400 gm</td>\n",
       "      <td>Americana</td>\n",
       "    </tr>\n",
       "    <tr>\n",
       "      <th>1</th>\n",
       "      <td>ليمون اداليا 500 جم</td>\n",
       "      <td>NaN</td>\n",
       "    </tr>\n",
       "    <tr>\n",
       "      <th>2</th>\n",
       "      <td>صلصه هاينز برطمان خصم عرض</td>\n",
       "      <td>هاينز</td>\n",
       "    </tr>\n",
       "    <tr>\n",
       "      <th>3</th>\n",
       "      <td>Dasani water 330ML</td>\n",
       "      <td>Dasani</td>\n",
       "    </tr>\n",
       "    <tr>\n",
       "      <th>4</th>\n",
       "      <td>بودرة عصير أناناس من سورس، 900 جم</td>\n",
       "      <td>سورس</td>\n",
       "    </tr>\n",
       "  </tbody>\n",
       "</table>\n",
       "</div>"
      ],
      "text/plain": [
       "                           Item_Name      Brand\n",
       "0         Americana Okra zero 400 gm  Americana\n",
       "1                ليمون اداليا 500 جم        NaN\n",
       "2          صلصه هاينز برطمان خصم عرض      هاينز\n",
       "3                 Dasani water 330ML     Dasani\n",
       "4  بودرة عصير أناناس من سورس، 900 جم       سورس"
      ]
     },
     "execution_count": 2,
     "metadata": {},
     "output_type": "execute_result"
    }
   ],
   "source": [
    "df_test = pd.read_csv(TEST_DATA_PATH)\n",
    "df_test = df_test[[\"Item_Name\", \"Brand\"]]\n",
    "df_test.head(5)"
   ]
  },
  {
   "cell_type": "markdown",
   "id": "a94edbb9",
   "metadata": {},
   "source": [
    "## Remove Nulls"
   ]
  },
  {
   "cell_type": "code",
   "execution_count": 3,
   "id": "3308ac30",
   "metadata": {},
   "outputs": [
    {
     "name": "stdout",
     "output_type": "stream",
     "text": [
      "<class 'pandas.core.frame.DataFrame'>\n",
      "RangeIndex: 4773 entries, 0 to 4772\n",
      "Data columns (total 2 columns):\n",
      " #   Column     Non-Null Count  Dtype \n",
      "---  ------     --------------  ----- \n",
      " 0   Item_Name  4773 non-null   object\n",
      " 1   Brand      3827 non-null   object\n",
      "dtypes: object(2)\n",
      "memory usage: 74.7+ KB\n"
     ]
    }
   ],
   "source": [
    "df_test.dropna(subset=[\"Item_Name\"], inplace=True)\n",
    "df_test.info()"
   ]
  },
  {
   "cell_type": "markdown",
   "id": "27e9a6db",
   "metadata": {},
   "source": [
    "## Normalize Data"
   ]
  },
  {
   "cell_type": "markdown",
   "id": "8187ede8",
   "metadata": {},
   "source": [
    "## Clean Data"
   ]
  },
  {
   "cell_type": "code",
   "execution_count": 4,
   "id": "5c8734c4",
   "metadata": {},
   "outputs": [
    {
     "data": {
      "text/html": [
       "<div>\n",
       "<style scoped>\n",
       "    .dataframe tbody tr th:only-of-type {\n",
       "        vertical-align: middle;\n",
       "    }\n",
       "\n",
       "    .dataframe tbody tr th {\n",
       "        vertical-align: top;\n",
       "    }\n",
       "\n",
       "    .dataframe thead th {\n",
       "        text-align: right;\n",
       "    }\n",
       "</style>\n",
       "<table border=\"1\" class=\"dataframe\">\n",
       "  <thead>\n",
       "    <tr style=\"text-align: right;\">\n",
       "      <th></th>\n",
       "      <th>Item_Name</th>\n",
       "      <th>Brand</th>\n",
       "      <th>cleaned_text</th>\n",
       "    </tr>\n",
       "  </thead>\n",
       "  <tbody>\n",
       "    <tr>\n",
       "      <th>0</th>\n",
       "      <td>Americana Okra zero 400 gm</td>\n",
       "      <td>Americana</td>\n",
       "      <td>okra zero  gm</td>\n",
       "    </tr>\n",
       "    <tr>\n",
       "      <th>1</th>\n",
       "      <td>ليمون اداليا 500 جم</td>\n",
       "      <td>NaN</td>\n",
       "      <td>ليمون اداليا  جم</td>\n",
       "    </tr>\n",
       "    <tr>\n",
       "      <th>2</th>\n",
       "      <td>صلصه هاينز برطمان خصم عرض</td>\n",
       "      <td>هاينز</td>\n",
       "      <td>صلصه برطمان خصم عرض</td>\n",
       "    </tr>\n",
       "    <tr>\n",
       "      <th>3</th>\n",
       "      <td>Dasani water 330ML</td>\n",
       "      <td>Dasani</td>\n",
       "      <td>water ml</td>\n",
       "    </tr>\n",
       "    <tr>\n",
       "      <th>4</th>\n",
       "      <td>بودرة عصير أناناس من سورس، 900 جم</td>\n",
       "      <td>سورس</td>\n",
       "      <td>بو عصير أناناس من  جم</td>\n",
       "    </tr>\n",
       "  </tbody>\n",
       "</table>\n",
       "</div>"
      ],
      "text/plain": [
       "                           Item_Name      Brand           cleaned_text\n",
       "0         Americana Okra zero 400 gm  Americana          okra zero  gm\n",
       "1                ليمون اداليا 500 جم        NaN       ليمون اداليا  جم\n",
       "2          صلصه هاينز برطمان خصم عرض      هاينز    صلصه برطمان خصم عرض\n",
       "3                 Dasani water 330ML     Dasani               water ml\n",
       "4  بودرة عصير أناناس من سورس، 900 جم       سورس  بو عصير أناناس من  جم"
      ]
     },
     "execution_count": 4,
     "metadata": {},
     "output_type": "execute_result"
    }
   ],
   "source": [
    "# df_train[\"removed_punctuations\"] = df_train[\"Item_Name\"].apply(remove_punctuations)\n",
    "# df_train[\"removed_numbers\"] = df_train[\"Item_Name\"].apply(lambda x: remove_numbers(x, remove_string=False))\n",
    "# df_train[\"removed_brand\"] = df_train.apply(lambda x: remove_strings(x.Item_Name, [x.Brand]), axis=1)\n",
    "# df_train[\"removed_pack\"] = df_train.apply(lambda x: remove_strings(x.Item_Name, [x.Pack]), axis=1)\n",
    "# df_train[\"removed_unit\"] = df_train.apply(lambda x: remove_strings(x.Item_Name, [x.Unit]), axis=1)\n",
    "# df_train[\"removed_numbers_and_punctuations\"] = df_train[\"Item_Name\"].apply(lambda x: remove_numbers(remove_punctuations(x), remove_string=False))\n",
    "# df_train[\"removed_stopwords\"] = df_train[\"Item_Name\"].apply(remove_stopwords)\n",
    "# df_train[\"class\"] = df_train[\"class\"].apply(remove_punctuations)\n",
    "# df_train[\"cleaned_text\"] = df_train.apply(clean_text, axis=1)\n",
    "#df_test[\"class\"] = df_test[\"class\"].apply(remove_punctuations)\n",
    "df_test[\"cleaned_text\"] = df_test.apply(clean_text, axis=1)\n",
    "df_test.head()"
   ]
  },
  {
   "cell_type": "code",
   "execution_count": 5,
   "id": "ae529cf2",
   "metadata": {},
   "outputs": [],
   "source": [
    "df_test = df_test[~(df_test[\"cleaned_text\"]==\"\")]"
   ]
  },
  {
   "cell_type": "code",
   "execution_count": 6,
   "id": "2a1d3cfa",
   "metadata": {},
   "outputs": [],
   "source": [
    "df_test.reset_index(drop=False, inplace=True)  \n",
    "df_test.rename(columns={\"index\": \"id\"}, inplace=True)"
   ]
  },
  {
   "cell_type": "markdown",
   "id": "3375c77d",
   "metadata": {},
   "source": [
    "# Save Cleaned Data"
   ]
  },
  {
   "cell_type": "code",
   "execution_count": 7,
   "id": "8486dc67",
   "metadata": {},
   "outputs": [
    {
     "data": {
      "text/html": [
       "<div>\n",
       "<style scoped>\n",
       "    .dataframe tbody tr th:only-of-type {\n",
       "        vertical-align: middle;\n",
       "    }\n",
       "\n",
       "    .dataframe tbody tr th {\n",
       "        vertical-align: top;\n",
       "    }\n",
       "\n",
       "    .dataframe thead th {\n",
       "        text-align: right;\n",
       "    }\n",
       "</style>\n",
       "<table border=\"1\" class=\"dataframe\">\n",
       "  <thead>\n",
       "    <tr style=\"text-align: right;\">\n",
       "      <th></th>\n",
       "      <th>id</th>\n",
       "      <th>Item_Name</th>\n",
       "      <th>Brand</th>\n",
       "      <th>cleaned_text</th>\n",
       "    </tr>\n",
       "  </thead>\n",
       "  <tbody>\n",
       "    <tr>\n",
       "      <th>0</th>\n",
       "      <td>0</td>\n",
       "      <td>Americana Okra zero 400 gm</td>\n",
       "      <td>Americana</td>\n",
       "      <td>okra zero  gm</td>\n",
       "    </tr>\n",
       "    <tr>\n",
       "      <th>1</th>\n",
       "      <td>1</td>\n",
       "      <td>ليمون اداليا 500 جم</td>\n",
       "      <td>NaN</td>\n",
       "      <td>ليمون اداليا  جم</td>\n",
       "    </tr>\n",
       "    <tr>\n",
       "      <th>2</th>\n",
       "      <td>2</td>\n",
       "      <td>صلصه هاينز برطمان خصم عرض</td>\n",
       "      <td>هاينز</td>\n",
       "      <td>صلصه برطمان خصم عرض</td>\n",
       "    </tr>\n",
       "    <tr>\n",
       "      <th>3</th>\n",
       "      <td>3</td>\n",
       "      <td>Dasani water 330ML</td>\n",
       "      <td>Dasani</td>\n",
       "      <td>water ml</td>\n",
       "    </tr>\n",
       "    <tr>\n",
       "      <th>4</th>\n",
       "      <td>4</td>\n",
       "      <td>بودرة عصير أناناس من سورس، 900 جم</td>\n",
       "      <td>سورس</td>\n",
       "      <td>بو عصير أناناس من  جم</td>\n",
       "    </tr>\n",
       "  </tbody>\n",
       "</table>\n",
       "</div>"
      ],
      "text/plain": [
       "   id                          Item_Name      Brand           cleaned_text\n",
       "0   0         Americana Okra zero 400 gm  Americana          okra zero  gm\n",
       "1   1                ليمون اداليا 500 جم        NaN       ليمون اداليا  جم\n",
       "2   2          صلصه هاينز برطمان خصم عرض      هاينز    صلصه برطمان خصم عرض\n",
       "3   3                 Dasani water 330ML     Dasani               water ml\n",
       "4   4  بودرة عصير أناناس من سورس، 900 جم       سورس  بو عصير أناناس من  جم"
      ]
     },
     "execution_count": 7,
     "metadata": {},
     "output_type": "execute_result"
    }
   ],
   "source": [
    "df_test.head()"
   ]
  },
  {
   "cell_type": "code",
   "execution_count": 8,
   "id": "752584dd",
   "metadata": {},
   "outputs": [],
   "source": [
    "df_test = df_test[df_test[\"cleaned_text\"]!=\"nan\"]"
   ]
  },
  {
   "cell_type": "code",
   "execution_count": 9,
   "id": "d6323340",
   "metadata": {},
   "outputs": [],
   "source": [
    "df_test[\"id\"] = df_test.index\n",
    "df_test.to_csv(CLEANED_TEST_DATA_PATH, index=False, encoding=\"utf-8-sig\")"
   ]
  },
  {
   "cell_type": "markdown",
   "id": "c7e8c5e1",
   "metadata": {},
   "source": [
    "# Prepare Cleaned Classes File"
   ]
  },
  {
   "cell_type": "code",
   "execution_count": 2,
   "id": "7fa25171",
   "metadata": {},
   "outputs": [],
   "source": [
    "gpc_df = load_gpc_to_classes()\n",
    "gpc_df[\"class_name\"] = gpc_df[\"class_name\"].apply(remove_special_chars)\n",
    "gpc_df[\"description\"] = gpc_df[\"description\"].apply(remove_special_chars)\n",
    "\n",
    "gpc_df.reset_index(drop=False, inplace=True)\n",
    "gpc_df.rename(columns={\"index\": \"id\"}, inplace=True)\n",
    "\n",
    "gpc_df.to_csv(CLEANED_GPC_PATH, index=False, encoding=\"utf-8-sig\")"
   ]
  },
  {
   "cell_type": "markdown",
   "id": "3e832af1",
   "metadata": {},
   "source": [
    "# Process Proudct Embeddings"
   ]
  },
  {
   "cell_type": "code",
   "execution_count": 3,
   "id": "3f298a49",
   "metadata": {},
   "outputs": [],
   "source": [
    "product_df = pd.read_csv(CLEANED_TEST_DATA_PATH)\n",
    "\n",
    "product_id = product_df[\"id\"].tolist()\n",
    "product_name = product_df[\"cleaned_text\"].tolist()"
   ]
  },
  {
   "cell_type": "code",
   "execution_count": 4,
   "id": "f74f2f63",
   "metadata": {},
   "outputs": [],
   "source": [
    "model = load_embedding_model(E5_LARGE_INSTRUCT_CONFIG_PATH)\n",
    "embeddings = model.get_embeddings(product_name)"
   ]
  },
  {
   "cell_type": "code",
   "execution_count": 5,
   "id": "ca3c69e6",
   "metadata": {},
   "outputs": [],
   "source": [
    "embeddings = embeddings.tolist()\n",
    "product_df[\"embeddings\"] = embeddings"
   ]
  },
  {
   "cell_type": "code",
   "execution_count": 6,
   "id": "a579e3f5",
   "metadata": {},
   "outputs": [],
   "source": [
    "product_embedding_df = product_df[[\"id\", \"embeddings\"]]\n",
    "product_embedding_df.to_csv(PRODUCT_EMBEDDINGS_PATH, index=False, encoding=\"utf-8-sig\")"
   ]
  },
  {
   "cell_type": "markdown",
   "id": "88a6578e",
   "metadata": {},
   "source": [
    "# Process Class Embeddings"
   ]
  },
  {
   "cell_type": "code",
   "execution_count": 2,
   "id": "f3db1199",
   "metadata": {},
   "outputs": [],
   "source": [
    "class_df = pd.read_csv(CLEANED_GPC_PATH)\n",
    "\n",
    "class_id = class_df[\"id\"].tolist()\n",
    "class_name = class_df[\"class_name\"].astype(str).tolist()"
   ]
  },
  {
   "cell_type": "code",
   "execution_count": 3,
   "id": "3cbccc10",
   "metadata": {},
   "outputs": [],
   "source": [
    "model = load_embedding_model(E5_LARGE_INSTRUCT_CONFIG_PATH)\n",
    "embeddings = model.get_embeddings(class_name)"
   ]
  },
  {
   "cell_type": "code",
   "execution_count": 4,
   "id": "779350b7",
   "metadata": {},
   "outputs": [],
   "source": [
    "embeddings = embeddings.tolist()\n",
    "class_df[\"embeddings\"] = embeddings"
   ]
  },
  {
   "cell_type": "code",
   "execution_count": 5,
   "id": "f93d8a1c",
   "metadata": {},
   "outputs": [],
   "source": [
    "class_embedding_df = class_df[[\"id\", \"embeddings\"]]\n",
    "class_embedding_df.to_csv(CLASS_EMBEDDINGS_PATH, index=False, encoding=\"utf-8-sig\")"
   ]
  },
  {
   "cell_type": "markdown",
   "id": "ea436e44",
   "metadata": {},
   "source": [
    "# Process Similraity Scores"
   ]
  },
  {
   "cell_type": "code",
   "execution_count": 2,
   "id": "b890d14a",
   "metadata": {},
   "outputs": [],
   "source": [
    "model = load_embedding_model(E5_LARGE_INSTRUCT_CONFIG_PATH)"
   ]
  },
  {
   "cell_type": "code",
   "execution_count": 3,
   "id": "8fe50c9f",
   "metadata": {},
   "outputs": [],
   "source": [
    "product_df = pd.read_csv(CLEANED_TEST_DATA_PATH)\n",
    "class_df = pd.read_csv(CLEANED_GPC_PATH)\n",
    "product_embedding_df = pd.read_csv(PRODUCT_EMBEDDINGS_PATH)\n",
    "class_embedding_df = pd.read_csv(CLASS_EMBEDDINGS_PATH)"
   ]
  },
  {
   "cell_type": "code",
   "execution_count": 4,
   "id": "b1ff0f8f",
   "metadata": {},
   "outputs": [],
   "source": [
    "# Merge names with embeddings\n",
    "product_full = product_embedding_df.merge(product_df, on=\"id\")\n",
    "class_full = class_embedding_df.merge(class_df, on=\"id\")"
   ]
  },
  {
   "cell_type": "code",
   "execution_count": null,
   "id": "cfb5f809",
   "metadata": {},
   "outputs": [],
   "source": [
    "product_embeddings = [json.loads(embedding) for embedding in product_full[\"embeddings\"].tolist()]\n",
    "product_embeddings = torch.tensor(product_embeddings, dtype=torch.float16, device=DEVICE)\n",
    "\n",
    "class_embeddings = [json.loads(embedding) for embedding in class_full[\"embeddings\"].tolist()]\n",
    "class_embeddings = torch.tensor(class_embeddings, dtype=torch.float16, device=DEVICE)"
   ]
  },
  {
   "cell_type": "code",
   "execution_count": 6,
   "id": "20bf5c34",
   "metadata": {},
   "outputs": [],
   "source": [
    "scores = model.calculate_scores(product_embeddings, class_embeddings)"
   ]
  },
  {
   "cell_type": "code",
   "execution_count": 7,
   "id": "b1d9e6f0",
   "metadata": {},
   "outputs": [
    {
     "data": {
      "text/plain": [
       "tensor([139449,  54224,  28424,  ..., 102924,  25847, 110683], device='cuda:0')"
      ]
     },
     "execution_count": 7,
     "metadata": {},
     "output_type": "execute_result"
    }
   ],
   "source": [
    "cls_idx = scores.argmax(dim=1)\n",
    "cls_idx"
   ]
  },
  {
   "cell_type": "code",
   "execution_count": 8,
   "id": "99bfa90e",
   "metadata": {},
   "outputs": [],
   "source": [
    "product_id = product_full[\"id\"].tolist()\n",
    "product_name = [product_full[product_full[\"id\"]==idx][\"Item_Name\"].iloc[0] for idx, _ in enumerate(cls_idx)]\n",
    "\n",
    "class_id = class_full[\"id\"].tolist()\n",
    "class_name = [class_full[class_full[\"id\"]==idx.cpu().item()][\"class_name\"].iloc[0] for idx in cls_idx]"
   ]
  },
  {
   "cell_type": "code",
   "execution_count": 14,
   "id": "fb7008ca",
   "metadata": {},
   "outputs": [
    {
     "data": {
      "text/plain": [
       "('lock padlock', 'بسكو مصر لوكس 6 قطعه علبه 12')"
      ]
     },
     "execution_count": 14,
     "metadata": {},
     "output_type": "execute_result"
    }
   ],
   "source": [
    "idx = 5\n",
    "class_name[idx], product_name[idx]"
   ]
  },
  {
   "cell_type": "code",
   "execution_count": null,
   "id": "e254f41d",
   "metadata": {},
   "outputs": [
    {
     "name": "stderr",
     "output_type": "stream",
     "text": [
      "c:\\Users\\ss255385\\AppData\\Local\\Programs\\Python\\Python313\\Lib\\site-packages\\torch\\nn\\modules\\module.py:1762: FutureWarning: `encoder_attention_mask` is deprecated and will be removed in version 4.55.0 for `XLMRobertaSdpaSelfAttention.forward`.\n",
      "  return forward_call(*args, **kwargs)\n"
     ]
    }
   ],
   "source": [
    "model = load_embedding_model(E5_LARGE_INSTRUCT_CONFIG_PATH)\n",
    "scores = []\n",
    "for _, p in product_full.iterrows():\n",
    "    for _, c in class_full.iterrows():\n",
    "        score = model.calculate_scores([p[\"embeddings\"]], [c[\"embeddings\"]]).item()\n",
    "        scores.append({\n",
    "            \"Product_Name\": p[\"cleaned_text\"],\n",
    "            \"Class_Name\": c[\"class_name\"],\n",
    "            \"Score\": score\n",
    "        })"
   ]
  },
  {
   "cell_type": "code",
   "execution_count": null,
   "id": "9fd86bd1",
   "metadata": {},
   "outputs": [],
   "source": [
    "pd.DataFrame(scores).to_csv(SIMILIRAITY_SCORES_PATH, index=False)"
   ]
  }
 ],
 "metadata": {
  "kernelspec": {
   "display_name": ".venv (3.12.9)",
   "language": "python",
   "name": "python3"
  },
  "language_info": {
   "codemirror_mode": {
    "name": "ipython",
    "version": 3
   },
   "file_extension": ".py",
   "mimetype": "text/x-python",
   "name": "python",
   "nbconvert_exporter": "python",
   "pygments_lexer": "ipython3",
   "version": "3.12.9"
  }
 },
 "nbformat": 4,
 "nbformat_minor": 5
}
