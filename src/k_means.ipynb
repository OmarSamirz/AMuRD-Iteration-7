{
 "cells": [
  {
   "cell_type": "markdown",
   "id": "28d7c812",
   "metadata": {},
   "source": [
    "# Import Packages"
   ]
  },
  {
   "cell_type": "code",
   "execution_count": null,
   "id": "8703486f",
   "metadata": {},
   "outputs": [],
   "source": [
    "import torch\n",
    "import numpy as np\n",
    "import pandas as pd\n",
    "import matplotlib.pyplot as plt\n",
    "from sklearn.cluster import KMeans\n",
    "from sklearn.manifold import TSNE\n",
    "from sklearn.decomposition import PCA\n",
    "from sklearn.metrics import silhouette_score\n",
    "\n",
    "import json\n",
    "\n",
    "from utils import cluster_topk_classes\n",
    "from modules.models import KMeansModels, KMeansModelConfig \n",
    "from constants import PRODUCT_EMBEDDINGS_PATH, CLASS_EMBEDDINGS_PATH, RANDOM_STATE, DEVICE, CLEANED_GPC_PATH"
   ]
  },
  {
   "cell_type": "markdown",
   "id": "0c7c4df8",
   "metadata": {},
   "source": [
    "## Read CSVs"
   ]
  },
  {
   "cell_type": "code",
   "execution_count": null,
   "id": "b62a212d",
   "metadata": {},
   "outputs": [],
   "source": [
    "df_products = pd.read_csv(PRODUCT_EMBEDDINGS_PATH)\n",
    "df_classes = pd.read_csv(CLASS_EMBEDDINGS_PATH)\n",
    "df_class = pd.read_csv(CLEANED_GPC_PATH)"
   ]
  },
  {
   "cell_type": "markdown",
   "id": "82225621",
   "metadata": {},
   "source": [
    "## Load Embeddings"
   ]
  },
  {
   "cell_type": "code",
   "execution_count": null,
   "id": "0340b8da",
   "metadata": {},
   "outputs": [],
   "source": [
    "products_embeddings = [json.loads(embedding) for embedding in df_products[\"embeddings\"].tolist()]\n",
    "classes_embeddings = [json.loads(embedding) for embedding in df_classes[\"embeddings\"].tolist()]"
   ]
  },
  {
   "cell_type": "markdown",
   "id": "b13fbbe7",
   "metadata": {},
   "source": [
    "## Visualize Embeddings"
   ]
  },
  {
   "cell_type": "markdown",
   "id": "1ab433b9",
   "metadata": {},
   "source": [
    "### Products Embeddings"
   ]
  },
  {
   "cell_type": "code",
   "execution_count": null,
   "id": "82fe1b76",
   "metadata": {},
   "outputs": [],
   "source": [
    "tsne = TSNE(n_components=2, perplexity=30, learning_rate=400, random_state=RANDOM_STATE)\n",
    "products = tsne.fit_transform(np.array(products_embeddings))\n",
    "\n",
    "plt.scatter(products[:, 0], products[:, 1], cmap=\"viridis\")\n",
    "\n",
    "plt.xlabel(\"TSNE 1\")\n",
    "plt.ylabel(\"TSNE 2\")\n",
    "plt.title(\"TSNE - 2 Components\")\n",
    "plt.show()"
   ]
  },
  {
   "cell_type": "markdown",
   "id": "eeee74d4",
   "metadata": {},
   "source": [
    "### Classes Embeddings"
   ]
  },
  {
   "cell_type": "code",
   "execution_count": null,
   "id": "2942c10c",
   "metadata": {},
   "outputs": [],
   "source": [
    "tsne = TSNE(n_components=2, perplexity=30, learning_rate=400, random_state=RANDOM_STATE)\n",
    "classes = tsne.fit_transform(np.array(classes_embeddings))\n",
    "\n",
    "plt.scatter(classes[:, 0], classes[:, 1], cmap=\"viridis\")\n",
    "\n",
    "plt.xlabel(\"TSNE 1\")\n",
    "plt.ylabel(\"TSNE 2\")\n",
    "plt.title(\"TSNE - 2 Components\")\n",
    "plt.show()"
   ]
  },
  {
   "cell_type": "markdown",
   "id": "f038bf83",
   "metadata": {},
   "source": [
    "## Fit Model"
   ]
  },
  {
   "cell_type": "code",
   "execution_count": null,
   "id": "41702947",
   "metadata": {},
   "outputs": [],
   "source": [
    "\n",
    "inertia = []\n",
    "K = [1] + list(range(5, 100, 5))\n",
    "\n",
    "for k in K:\n",
    "    kmeans = KMeans(n_clusters=k, random_state=RANDOM_STATE)\n",
    "    kmeans.fit(products_embeddings)\n",
    "    inertia.append(kmeans.inertia_)\n",
    "\n",
    "\n",
    "plt.figure(figsize=(8,5))\n",
    "plt.plot(K, inertia, 'bo-')\n",
    "plt.xlabel('Number of clusters')\n",
    "plt.ylabel('Inertia')\n",
    "plt.title('Elbow Method For Optimal k')\n",
    "plt.show()\n"
   ]
  },
  {
   "cell_type": "code",
   "execution_count": null,
   "id": "5683bac8",
   "metadata": {},
   "outputs": [],
   "source": [
    "sil_scores = []\n",
    "\n",
    "for k in K:\n",
    "    kmeans = KMeans(n_clusters=k, random_state=RANDOM_STATE)\n",
    "    labels = kmeans.fit_predict(products_embeddings)\n",
    "    if len(set(labels)) <= 1:\n",
    "        continue\n",
    "    sil_score = silhouette_score(products_embeddings, labels)\n",
    "    sil_scores.append(sil_score)\n",
    "\n",
    "plt.figure(figsize=(8,5))\n",
    "plt.plot(K[1:], sil_scores, 'ro-')\n",
    "plt.xlabel('Number of clusters')\n",
    "plt.ylabel('Silhouette Score')\n",
    "plt.title('Silhouette Method For Optimal k')\n",
    "plt.show()\n"
   ]
  },
  {
   "cell_type": "code",
   "execution_count": null,
   "id": "e240797a",
   "metadata": {},
   "outputs": [],
   "source": [
    "kmeans = KMeans(n_clusters=40, random_state=RANDOM_STATE)\n",
    "labels = kmeans.fit_predict(products_embeddings)"
   ]
  },
  {
   "cell_type": "code",
   "execution_count": null,
   "id": "d4ea9911",
   "metadata": {},
   "outputs": [],
   "source": [
    "cluster_items = {i: [] for i in range(kmeans.n_clusters)}\n",
    "for i, (embedding, label) in enumerate(zip(products_embeddings, labels)):\n",
    "    cluster_items[label].append((i, embedding))"
   ]
  },
  {
   "cell_type": "code",
   "execution_count": null,
   "id": "b2acddc2",
   "metadata": {},
   "outputs": [],
   "source": [
    "kmeans.cluster_centers_[0],"
   ]
  },
  {
   "cell_type": "code",
   "execution_count": null,
   "id": "7974ba64",
   "metadata": {},
   "outputs": [],
   "source": [
    "cluster_embeddings = torch.tensor([kmeans.cluster_centers_[0]], dtype=torch.float16, device=DEVICE)\n",
    "classes_embeddings = torch.tensor(classes_embeddings, dtype=torch.float16, device=DEVICE)\n",
    "classes = cluster_topk_classes(cluster_embeddings, classes_embeddings, 3)"
   ]
  },
  {
   "cell_type": "code",
   "execution_count": null,
   "id": "83f4ad63",
   "metadata": {},
   "outputs": [],
   "source": [
    "classes = [item for sublist in classes.tolist() for item in sublist]"
   ]
  },
  {
   "cell_type": "code",
   "execution_count": null,
   "id": "23eef00b",
   "metadata": {},
   "outputs": [],
   "source": [
    "classes"
   ]
  },
  {
   "cell_type": "code",
   "execution_count": null,
   "id": "06fd7c45",
   "metadata": {},
   "outputs": [],
   "source": [
    "cluster_items[0]"
   ]
  },
  {
   "cell_type": "code",
   "execution_count": null,
   "id": "f73e0bd2",
   "metadata": {},
   "outputs": [],
   "source": [
    "from collections import Counter\n",
    "\n",
    "counter = Counter(classes)\n",
    "\n",
    "mode, count = counter.most_common(1)[0]"
   ]
  },
  {
   "cell_type": "code",
   "execution_count": null,
   "id": "d07be07a",
   "metadata": {},
   "outputs": [],
   "source": [
    "mode, count"
   ]
  },
  {
   "cell_type": "code",
   "execution_count": null,
   "id": "34ec6b28",
   "metadata": {},
   "outputs": [],
   "source": [
    "df_class[df_class[\"id\"]==3345]"
   ]
  },
  {
   "cell_type": "code",
   "execution_count": null,
   "id": "61cd050a",
   "metadata": {},
   "outputs": [],
   "source": [
    "df_products"
   ]
  }
 ],
 "metadata": {
  "kernelspec": {
   "display_name": ".venv (3.12.9)",
   "language": "python",
   "name": "python3"
  },
  "language_info": {
   "codemirror_mode": {
    "name": "ipython",
    "version": 3
   },
   "file_extension": ".py",
   "mimetype": "text/x-python",
   "name": "python",
   "nbconvert_exporter": "python",
   "pygments_lexer": "ipython3",
   "version": "3.12.9"
  }
 },
 "nbformat": 4,
 "nbformat_minor": 5
}
