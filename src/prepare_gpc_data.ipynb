{
 "cells": [
  {
   "cell_type": "markdown",
   "id": "2b93ccd1",
   "metadata": {},
   "source": [
    "# Import Libraries"
   ]
  },
  {
   "cell_type": "code",
   "execution_count": null,
   "id": "85ee615c",
   "metadata": {},
   "outputs": [],
   "source": [
    "import pandas as pd\n",
    "\n",
    "from constants import GPC_PATH\n",
    "\n",
    "from utils import clean_text"
   ]
  },
  {
   "cell_type": "markdown",
   "id": "4fd904fa",
   "metadata": {},
   "source": [
    "# Prepare Data"
   ]
  },
  {
   "cell_type": "code",
   "execution_count": 3,
   "id": "7fa25171",
   "metadata": {},
   "outputs": [],
   "source": [
    "df = pd.read_excel(\"..\" /GPC_PATH)\n",
    "\n",
    "df[\"class_name\"] = (\n",
    "        df[\"BrickTitle\"].fillna(\"\") + \" \" +\n",
    "        df[\"AttributeTitle\"].fillna(\"\") + \" \" +\n",
    "        df[\"AttributeValueTitle\"].fillna(\"\")\n",
    "    )\n",
    "\n",
    "def join_non_empty(*args):\n",
    "        return \" \".join([str(a).strip() for a in args if pd.notna(a) and str(a).strip()])\n",
    "\n",
    "df[\"description\"] = df.apply(lambda row: join_non_empty(\n",
    "        row[\"BrickDefinition_Includes\"],\n",
    "        row[\"BrickDefinition_Excludes\"],\n",
    "        row[\"AttributeDefinition\"],\n",
    "        row[\"AttributeValueDefinition\"]\n",
    "    ), axis=1)\n",
    "\n",
    "df = df[[\"class_name\", \"description\"]]"
   ]
  },
  {
   "cell_type": "code",
   "execution_count": null,
   "id": "7fcccd9a",
   "metadata": {},
   "outputs": [],
   "source": [
    "df[\"class_name\"].apply(clean_text)\n",
    "df[\"description\"].apply(clean_text)"
   ]
  }
 ],
 "metadata": {
  "kernelspec": {
   "display_name": "Python 3",
   "language": "python",
   "name": "python3"
  },
  "language_info": {
   "codemirror_mode": {
    "name": "ipython",
    "version": 3
   },
   "file_extension": ".py",
   "mimetype": "text/x-python",
   "name": "python",
   "nbconvert_exporter": "python",
   "pygments_lexer": "ipython3",
   "version": "3.13.5"
  }
 },
 "nbformat": 4,
 "nbformat_minor": 5
}
