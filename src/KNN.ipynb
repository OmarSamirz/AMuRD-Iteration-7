{
 "cells": [
  {
   "cell_type": "markdown",
   "id": "28d7c812",
   "metadata": {},
   "source": [
    "# Import Packages"
   ]
  },
  {
   "cell_type": "code",
   "execution_count": 13,
   "id": "8703486f",
   "metadata": {},
   "outputs": [],
   "source": [
    "import torch\n",
    "import pandas as pd\n",
    "import numpy as np\n",
    "import matplotlib.pyplot as plt\n",
    "from sklearn.neighbors import NearestNeighbors\n",
    "from sklearn.metrics import accuracy_score, classification_report\n",
    "from collections import Counter\n",
    "import json\n",
    "\n",
    "from constants import PRODUCT_TEST_EMBEDDINGS_PATH, CLASS_EMBEDDINGS_PATH, RANDOM_STATE, DEVICE, CLEANED_GPC_PATH, CLEANED_TEST_DATA_PATH"
   ]
  },
  {
   "cell_type": "code",
   "execution_count": 14,
   "id": "b62a212d",
   "metadata": {},
   "outputs": [],
   "source": [
    "product_df = pd.read_csv(CLEANED_TEST_DATA_PATH)\n",
    "class_df = pd.read_csv(CLEANED_GPC_PATH)\n",
    "product_embedding_df = pd.read_csv(PRODUCT_TEST_EMBEDDINGS_PATH)\n",
    "class_embedding_df = pd.read_csv(CLASS_EMBEDDINGS_PATH)"
   ]
  },
  {
   "cell_type": "code",
   "execution_count": 18,
   "id": "891ce05c",
   "metadata": {},
   "outputs": [
    {
     "data": {
      "text/html": [
       "<div>\n",
       "<style scoped>\n",
       "    .dataframe tbody tr th:only-of-type {\n",
       "        vertical-align: middle;\n",
       "    }\n",
       "\n",
       "    .dataframe tbody tr th {\n",
       "        vertical-align: top;\n",
       "    }\n",
       "\n",
       "    .dataframe thead th {\n",
       "        text-align: right;\n",
       "    }\n",
       "</style>\n",
       "<table border=\"1\" class=\"dataframe\">\n",
       "  <thead>\n",
       "    <tr style=\"text-align: right;\">\n",
       "      <th></th>\n",
       "      <th>id</th>\n",
       "      <th>embeddings</th>\n",
       "    </tr>\n",
       "  </thead>\n",
       "  <tbody>\n",
       "    <tr>\n",
       "      <th>0</th>\n",
       "      <td>0</td>\n",
       "      <td>[0.0131988525390625, 0.0203704833984375, -0.00...</td>\n",
       "    </tr>\n",
       "    <tr>\n",
       "      <th>1</th>\n",
       "      <td>1</td>\n",
       "      <td>[0.0016574859619140625, 0.041656494140625, 0.0...</td>\n",
       "    </tr>\n",
       "    <tr>\n",
       "      <th>2</th>\n",
       "      <td>2</td>\n",
       "      <td>[0.0162811279296875, 0.018951416015625, -0.025...</td>\n",
       "    </tr>\n",
       "    <tr>\n",
       "      <th>3</th>\n",
       "      <td>3</td>\n",
       "      <td>[0.0190277099609375, 0.0229949951171875, -0.01...</td>\n",
       "    </tr>\n",
       "    <tr>\n",
       "      <th>4</th>\n",
       "      <td>4</td>\n",
       "      <td>[0.0226593017578125, 0.0291900634765625, -0.02...</td>\n",
       "    </tr>\n",
       "  </tbody>\n",
       "</table>\n",
       "</div>"
      ],
      "text/plain": [
       "   id                                         embeddings\n",
       "0   0  [0.0131988525390625, 0.0203704833984375, -0.00...\n",
       "1   1  [0.0016574859619140625, 0.041656494140625, 0.0...\n",
       "2   2  [0.0162811279296875, 0.018951416015625, -0.025...\n",
       "3   3  [0.0190277099609375, 0.0229949951171875, -0.01...\n",
       "4   4  [0.0226593017578125, 0.0291900634765625, -0.02..."
      ]
     },
     "execution_count": 18,
     "metadata": {},
     "output_type": "execute_result"
    }
   ],
   "source": [
    "product_embedding_df.head()"
   ]
  },
  {
   "cell_type": "code",
   "execution_count": null,
   "id": "56f389ec",
   "metadata": {},
   "outputs": [],
   "source": [
    "# Merge names with embeddings\n",
    "product_full = product_embedding_df.merge(product_df, on=\"id\")\n",
    "class_full = class_embedding_df.merge(class_df, on=\"id\")"
   ]
  },
  {
   "cell_type": "code",
   "execution_count": null,
   "id": "0340b8da",
   "metadata": {},
   "outputs": [],
   "source": [
    "products_embeddings = [json.loads(embedding) for embedding in product_full[\"embeddings\"].tolist()]\n",
    "products_embeddings = torch.tensor(products_embeddings, dtype=torch.float16, device=DEVICE)\n",
    "\n",
    "classes_embeddings = [json.loads(embedding) for embedding in class_full[\"embeddings\"].tolist()]\n",
    "classes_embeddings = torch.tensor(classes_embeddings, dtype=torch.float16, device=DEVICE)"
   ]
  },
  {
   "cell_type": "code",
   "execution_count": null,
   "id": "41702947",
   "metadata": {},
   "outputs": [],
   "source": [
    "products_embeddings = np.array(products_embeddings.cpu())\n",
    "classes_embeddings = np.array(classes_embeddings.cpu())"
   ]
  },
  {
   "cell_type": "code",
   "execution_count": null,
   "id": "5683bac8",
   "metadata": {},
   "outputs": [],
   "source": [
    "K = [1] + list(range(3, 80, 3))\n",
    "np.random.seed(RANDOM_STATE)"
   ]
  },
  {
   "cell_type": "code",
   "execution_count": null,
   "id": "e240797a",
   "metadata": {},
   "outputs": [],
   "source": [
    "avg_confidences = []\n",
    "\n",
    "for k in K:\n",
    "    knn = NearestNeighbors(n_neighbors=k, metric='cosine', algorithm='brute')\n",
    "    knn.fit(classes_embeddings)\n",
    "    distances, indices = knn.kneighbors(products_embeddings)\n",
    "\n",
    "    confidences = []\n",
    "    for dist in distances:\n",
    "        weights = 1 / (dist + 1e-8)\n",
    "        confidences.append(weights.max() / weights.sum())\n",
    "\n",
    "    avg_confidences.append(np.mean(confidences))\n",
    "\n",
    "plt.figure(figsize=(8,5))\n",
    "plt.plot(K, avg_confidences, 'bo-')\n",
    "plt.xlabel('Number of Neighbors (k)')\n",
    "plt.ylabel('Average Confidence Score')\n",
    "plt.title('KNN Performance')\n",
    "plt.grid(True, alpha=0.3)\n",
    "plt.show()"
   ]
  },
  {
   "cell_type": "code",
   "execution_count": null,
   "id": "d4ea9911",
   "metadata": {},
   "outputs": [],
   "source": [
    "knn = NearestNeighbors(n_neighbors= 3, metric='cosine', algorithm='brute')\n",
    "knn.fit(classes_embeddings)"
   ]
  },
  {
   "cell_type": "code",
   "execution_count": null,
   "id": "b2acddc2",
   "metadata": {},
   "outputs": [],
   "source": [
    "_, indices = knn.kneighbors(products_embeddings)"
   ]
  },
  {
   "cell_type": "code",
   "execution_count": null,
   "id": "4b5295c2",
   "metadata": {},
   "outputs": [],
   "source": [
    "pred_classes = [Counter(idx).most_common(1)[0][0] for idx in indices]\n",
    "confidences = [Counter(idx).most_common(1)[0][1] / len(idx) for idx in indices]\n",
    "pred_class_names = [class_full[\"class_name\"].iloc[i] for i in pred_classes]"
   ]
  },
  {
   "cell_type": "code",
   "execution_count": null,
   "id": "b3f9e435",
   "metadata": {},
   "outputs": [],
   "source": [
    "product_full[\"predicted_class_name\"] = pred_class_names\n",
    "product_full[\"prediction_confidence\"] = confidences"
   ]
  },
  {
   "cell_type": "code",
   "execution_count": null,
   "id": "030ff49f",
   "metadata": {},
   "outputs": [],
   "source": [
    "product_full.head()"
   ]
  },
  {
   "cell_type": "code",
   "execution_count": null,
   "id": "d3d987f2",
   "metadata": {},
   "outputs": [],
   "source": []
  }
 ],
 "metadata": {
  "kernelspec": {
   "display_name": "Python 3",
   "language": "python",
   "name": "python3"
  },
  "language_info": {
   "codemirror_mode": {
    "name": "ipython",
    "version": 3
   },
   "file_extension": ".py",
   "mimetype": "text/x-python",
   "name": "python",
   "nbconvert_exporter": "python",
   "pygments_lexer": "ipython3",
   "version": "3.13.5"
  }
 },
 "nbformat": 4,
 "nbformat_minor": 5
}
