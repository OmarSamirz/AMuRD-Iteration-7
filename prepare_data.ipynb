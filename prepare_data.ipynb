{
 "cells": [
  {
   "cell_type": "markdown",
   "id": "e262c5fc",
   "metadata": {},
   "source": [
    "# Import Packages"
   ]
  },
  {
   "cell_type": "code",
   "execution_count": null,
   "id": "5cff14ac",
   "metadata": {},
   "outputs": [
    {
     "name": "stdout",
     "output_type": "stream",
     "text": [
      "Log directory cleaned: c:\\internship\\AMuRD-Iteration-7\\logs\n",
      "Logger initialized. All logs will be saved to: c:\\internship\\AMuRD-Iteration-7\\logs\\log.txt\n"
     ]
    }
   ],
   "source": [
    "import pandas as pd\n",
    "from teradataml import *\n",
    "\n",
    "from db import TeradataDatabase"
   ]
  },
  {
   "cell_type": "code",
   "execution_count": 2,
   "id": "b5a80968",
   "metadata": {},
   "outputs": [],
   "source": [
    "td_db = TeradataDatabase()\n",
    "td_db.connect()"
   ]
  },
  {
   "cell_type": "code",
   "execution_count": 3,
   "id": "c353d751",
   "metadata": {},
   "outputs": [
    {
     "data": {
      "text/plain": [
       "'product_embeddings\\nproduct_embeddings\\nproduct_embeddings\\nproduct_embeddings'"
      ]
     },
     "execution_count": 3,
     "metadata": {},
     "output_type": "execute_result"
    }
   ],
   "source": [
    "td_db.get_schema()"
   ]
  },
  {
   "cell_type": "code",
   "execution_count": 6,
   "id": "c3928e4a",
   "metadata": {},
   "outputs": [
    {
     "data": {
      "application/vnd.jupyter.widget-view+json": {
       "model_id": "60739d05fe874186913be2d191630be7",
       "version_major": 2,
       "version_minor": 0
      },
      "text/plain": []
     },
     "metadata": {},
     "output_type": "display_data"
    },
    {
     "data": {
      "text/html": [
       "<style type=\"text/css\">\n",
       "\ttable { border:ridge 5px}\n",
       "\ttable td {border:inset 1px;}\n",
       "\ttable tr#HeaderRow {background-color:grey; color:white;}\n",
       "\t</style>\n",
       "<html><table style=\"min-width:1000px;\">\n",
       "\t<tr id=\"HeaderRow\">\n",
       "<th>product_id</th><th>product_name</th><th>brand_name</th>\n",
       "</tr>\n",
       "</table></html>"
      ],
      "text/plain": [
       "Empty DataFrame\n",
       "Columns: [product_name, brand_name]\n",
       "Index: []"
      ]
     },
     "execution_count": 6,
     "metadata": {},
     "output_type": "execute_result"
    }
   ],
   "source": [
    "tdf = DataFrame(in_schema(\"amurd\", \"products\"))\n",
    "tdf.head()"
   ]
  },
  {
   "cell_type": "code",
   "execution_count": 7,
   "id": "d99b60f7",
   "metadata": {},
   "outputs": [],
   "source": [
    "td_db.disconnect()"
   ]
  },
  {
   "cell_type": "code",
   "execution_count": null,
   "id": "65a6c0ee",
   "metadata": {},
   "outputs": [],
   "source": []
  }
 ],
 "metadata": {
  "kernelspec": {
   "display_name": ".venv (3.12.9)",
   "language": "python",
   "name": "python3"
  },
  "language_info": {
   "codemirror_mode": {
    "name": "ipython",
    "version": 3
   },
   "file_extension": ".py",
   "mimetype": "text/x-python",
   "name": "python",
   "nbconvert_exporter": "python",
   "pygments_lexer": "ipython3",
   "version": "3.12.9"
  }
 },
 "nbformat": 4,
 "nbformat_minor": 5
}
